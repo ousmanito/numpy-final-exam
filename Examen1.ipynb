
  {
   "cell_type": "markdown",
   "metadata": {
    "deletable": false,
    "editable": false,
    "nbgrader": {
     "cell_type": "markdown",
     "checksum": "f3e0c0a2bc366a7a7dec3a75ee1ed7dc",
     "grade": false,
     "grade_id": "cell-d05781b67b46aa72",
     "locked": true,
     "schema_version": 3,
     "solution": false,
     "task": false
    }
   },
   "source": [
    "# Examen de Méthodes numériques\n",
    "\n",
    "**CONSIGNES A LIRE ATTENTIVEMENT :**\n",
    "- La durée de l'épreuve est de 3h.\n",
    "- Ne pas inscrire votre nom nulle part et ne pas modifier le nom de ce fichier.\n",
    "- Les documents de cours et l'accès à internet sont autorisés.\n",
    "- Toute suspicion de communication avec un autre étudiant, ie toute ouverture d'une fenêtre Gmail, Discord, Zimbra, etc., entraînera l'écriture d'un PV de fraude automatiquement et sans discussion.\n",
    "- Pour soumettre votre examen, taper dans un terminal :\n",
    "```\n",
    "methnum submit L1/Examen1 TONGROUPE\n",
    "```\n",
    "Il est possible de taper cette commande à tout moment pendant l'examen pour sauvegarder régulièrement le travail effectué.\n",
    "\n",
    "**PLAN :**\n",
    "- Exercice 1 : trajectoires ballistiques (24 points : boucles, graphiques)\n",
    "- Exercice 2 : dégénérescence radioactive (15 points : algorithmique, nombres aléatoires, ajustement de paramètres)\n",
    "- Exercice 3 : primitive d'une fonction (8 points : intégration numérique)\n",
    "- Qualité du code : 3 points (commentaires, variables avec noms explicites, utilisation de tableaux `numpy` à la place de boucles lorsque c'est pertinent)\n",
    "\n",
    "## Concepts et références utiles\n",
    "\n",
    "Dans ces exercices, nous allons utiliser des concepts que vous avez vus en particulier dans :\n",
    "\n",
    "* Séance 8 : Intégration\n",
    "* Séance 9 : Nombres aléatoires et MC \n",
    "\n",
    "De plus, gardez sous la main les documentations de <a href=\"https://numpy.org/\" target=\"_blank\">Numpy</a> et   <a href=\"https://matplotlib.org\" target=\"_blank\">Matplotlib</a>. Enfin, n'oubliez pas Google, votre meilleur ami !\n",
    "\n",
    "BONNE CHANCE !\n"
   ]
  },
  {
   "cell_type": "markdown",
   "metadata": {
    "deletable": false,
    "editable": false,
    "nbgrader": {
     "cell_type": "markdown",
     "checksum": "0da236aff19cb640e6703868af328439",
     "grade": false,
     "grade_id": "cell-ffcc956aca27b822",
     "locked": true,
     "schema_version": 3,
     "solution": false,
     "task": false
    }
   },
   "source": [
    "## Exercice 1: Trajectoires ballistiques (24 points)\n",
    "\n",
    "On étudie les trajectoires d'une masse $m$ ponctuelle lancée avec un angle $\\alpha$ par rapport à l'horizontale. La masse n'est soumise qu'à son propre poids $\\vec{P} = -mg \\vec{j}$ où $g = 9.81 \\ {\\rm m \\cdot s^{-2}}$. On localise la masse à l'aide d'un vecteur position $\\vec{OM} = x(t) \\vec{i} + y(t) \\vec{j} $ et $\\vec{v} = v_x (t)\\vec{i} + v_y(t) \\vec{j}$ est son vecteur vitesse. Les coordonnées $x(t)$ (distance de tir) et $y(t)$ (hauteur de tir) sont solutions de l'équation de Newton\n",
    "\n",
    "$$\n",
    "\\left \\{\n",
    "\\begin{array}{rcl}\n",
    "m \\ddot{x}&=& 0 \\\\ \n",
    "m \\ddot{y}  &=& - m g  \n",
    "\\end{array} \\right .\n",
    "$$\n",
    "\n",
    "A l'instant initial $t=0$, on place la masse initiale à l'origine et : $x(0) = y (0) = 0$. Le vecteur vitesse initial vaut $\\vec{v} (0) = v_0 \\cos \\alpha \\ \\vec{i} + v_0 \\cos \\alpha \\ \\vec{j} $ avec $v_0$ connue et $\\alpha \\in [0,\\pi/2]$ radians. **Dans l'exercice, on utilisera systématiquement des radians.** Les équations horaires, solutions de ce problème sont \n",
    "\n",
    "$$\n",
    "\\left \\{\n",
    "\\begin{array}{rcl}\n",
    "x(t)& =& (v_0 \\cos \\alpha) \\ t \\\\\n",
    "y(t)& = & (v_0 \\sin\\alpha)\\ t - \\dfrac{g t^2}{2}\n",
    "\\end{array} \\right .\n",
    "$$\n",
    "\n",
    "On note  $t_{sol}$, le temps d'impact le temps pour lequel la masse retouche le sol : \n",
    "$$y(t_{sol})=0 \\Leftrightarrow t_{sol} = \\dfrac{2 v_0 \\sin \\alpha}{g}$$ "
   ]
  },
  {
   "cell_type": "markdown",
   "metadata": {
    "deletable": false,
    "editable": false,
    "nbgrader": {
     "cell_type": "markdown",
     "checksum": "95dd75505edbf4670448b3540b6ba106",
     "grade": false,
     "grade_id": "cell-d45508bcf5f76cb4",
     "locked": true,
     "schema_version": 3,
     "solution": false,
     "task": false
    }
   },
   "source": [
    "Dans la cellule suivante, on importe les librairies nécessaires et on fixe $g$, pour toute la suite. **Exécutez la cellule suivante :**"
   ]
  },
  {
   "cell_type": "code",
   "execution_count": 1,
   "metadata": {
    "deletable": false,
    "editable": false,
    "nbgrader": {
     "cell_type": "code",
     "checksum": "0b086fe12a1e1129e7f0504f4015d431",
     "grade": false,
     "grade_id": "cell-20e8eefcab710865",
     "locked": true,
     "schema_version": 3,
     "solution": false,
     "task": false
    }
   },
   "outputs": [],
   "source": [
    "# une fois pour toutes, nous allons charger NumPy et Matplotlib\n",
    "#\n",
    "# n'oubliez pas d'évaluer à nouveau cette cellule si vous redémarrez le noyau\n",
    "#\n",
    "import numpy as np\n",
    "import matplotlib.pyplot as plt\n",
    "g=9.81 # en m.s^(-2)"
   ]
  },
  {
   "cell_type": "markdown",
   "metadata": {
    "deletable": false,
    "editable": false,
    "nbgrader": {
     "cell_type": "markdown",
     "checksum": "4e181c2333fcf5603acef78d36f7c836",
     "grade": false,
     "grade_id": "cell-adff8a04e7fd0d7e",
     "locked": true,
     "points": 6,
     "schema_version": 3,
     "solution": false,
     "task": true
    }
   },
   "source": [
    "### a. Tracer la trajectoire \n",
    "\n",
    "1. Définir une fonction ```ballistique(alpha, v_0)``` qui prend en argument l'angle $\\alpha$ en **radians** et $v_0$ la vitesse initiale en ${\\rm m\\cdot s^{-1}}$, et affiche 100 points de la trajectoire $(x(t), y(t))$ de la masse $m$ dans le plan $x-y$, de $t=0$ à $t_{sol}$. On soignera la qualité du graphique : titre sur les axes, unités, titre ou légende avec les paramètres de la trajectoire (en degré si possible), etc.\n",
    "2. On suppose $v_0 = 10 \\ {\\rm m\\cdot s^{-1}}$. Tracer quatre trajectoires pour $\\alpha = (10, 20, 30, 45)\\times \\pi/180$, en appelant 4 fois votre fonction.\n"
   ]
  },
  {
   "cell_type": "code",
   "execution_count": 38,
   "metadata": {
    "deletable": false,
    "nbgrader": {
     "cell_type": "code",
     "checksum": "d2df09573b66cbb36a46e1bc8d8d7753",
     "grade": false,
     "grade_id": "cell-1f534bda7da6d068",
     "locked": false,
     "schema_version": 3,
     "solution": true,
     "task": false
    }
   },
   "outputs": [
    {
     "data": {
      "image/png": "iVBORw0KGgoAAAANSUhEUgAAAYgAAAEWCAYAAAB8LwAVAAAAOXRFWHRTb2Z0d2FyZQBNYXRwbG90bGliIHZlcnNpb24zLjMuNCwgaHR0cHM6Ly9tYXRwbG90bGliLm9yZy8QVMy6AAAACXBIWXMAAAsTAAALEwEAmpwYAAAqIklEQVR4nO3de5hcVZnv8e+PEEwjl4BGId2JCUMkhotJ7ATmcBnFSwIiiYAHcAQvYOAoB4gjiDMehzPPUTKCDKhcBMKoR0hALiFKNIrIURCwExIuIUZCANNJGGIwXEyAXN7zR+0OlU5VdVV37epdVb/P8/RDV+29u97e9F5v1nrXXlsRgZmZWXc79XcAZmaWTU4QZmZWkBOEmZkV5ARhZmYFOUGYmVlBThBmZlaQE4RZL0j6uaRP1/gz/1nSDbX8TGtu8n0Q1iwkvZr3clfgdWBL8vqsiLipxvFcDOwfEZ+q5eealWvn/g7ArFYiYreu7yU9C5wZEfd030/SzhGxuZax9VU9xmzZ5yEma3qS3i+pU9JXJD0P/KekvST9TNJaSX9Nvm/LO+Y+SWfmvf6cpKXJvvMlvStv24GSfiXpRUn/lQwVTQb+GThZ0quSHk32HSppbrLvckmfz/s5F0v6cfL9CEkh6QxJfwbu7SkOs0o5QZjl7APsDbwLmEbu2vjP5PVwYCPwvUIHSppKrrE/ARgC/A6YlWzbHbgH+AUwFNgf+HVE/AL4JnBLROwWEe9NftwsoDPZ9yTgm5I+WCLufwDeA0wqFYdZbzhBmOVsBf41Il6PiI0RsS4ibo+IDRHxCvANco1xIWcBl0TE0mSY55vA2ORf78cBz0fEtyPitYh4JSIeLvRDJA0DjgC+kuy7GLgBOK1E3BdHxN8iYmMPcZhVzAnCLGdtRLzW9ULSrpK+L+k5SS8DvwUGSxpQ4Nh3AVdKWi9pPfAiIKAVGAY8XWYMQ4EXk4TU5bnk5xSzssw4zCrmBGGW03063z8BBwCHRsQewFHJ+ypw7Epys6AG5321RMTvk21/V+Znrgb2ToalugwHVpUZd6k4zCrmBGFW2O7k6g7rJe0N/GuJfa8FvirpQABJe0r6RLLtZ8A+ks6X9BZJu0s6NNn2X8AISTsBRMRK4PfAJZIGSToEOAMod/ptqTjMKuYEYVbYFUAL8BfgIXJF5oIi4k7g34HZyXDUE8AxybZXgA8DHwOeB54CPpAc+pPkv+skPZJ8fyowglxv4k5ydZFflRNwqTjMesM3ypn1gqTfAjdExI/6OxaztLgHYVYhSbsC+wHP9HcsZmlygjCrgKR3kBsq+n/A/f0cjlmqPMRkZmYFpdqDkDRZ0rJkyYCLCmwfLelBSa9L+nK3bYMl3Sbpj8nSAX+fZqxmZra91BbrS24ouorcDI5OoEPS3Ih4Mm+3F4FzgakFfsSVwC8i4iRJu5BbfbOkt7/97TFixIi+hm5m1jQWLlz4l4gYUmhbmqu5TgSWR8QKAEmzgSnAtgQRES8AL0j6aP6BkrpuTPpMst8bwBs9feCIESNYsGBBteI3M2t4kp4rti3NIaZWtl8GoJPyb/nfD1hLblXNRZJukPTWQjtKmiZpgaQFa9eu7VvEZma2TZoJotCSBOVWxHcGxgPXRMQ44G/ADjUMgIi4LiLaI6J9yJCCvSQzM+uFNBNEJ7mFyrq0kbs7tNxjO/NWvbyNXMIwM7MaSTNBdACjJI1MisynAHPLOTAingdWSjogeeuD5NUuzMwsfakVqSNis6RzgPnAAODGiFgi6exk+7WS9gEWAHsAWyWdD4yJiJeB/wnclCSXFcBn04rVzMx2lOozqSNiHjCv23vX5n3/PLmhp0LHLgba04zPrJrmLFrFpfOXsXr9RvZsGYgE6zdsYujgFj4wegi/+ePagtsumHQAU8f5kQ2WPQ11J3V7e3t4mqulrVAi+OuGTYjyZ2Hk6zpusBOH9QNJCyOi4D/GnSDMytCVFFat39jrRFCprs9pdbKwFDlBmPVCfySFYpwsLC1OEGZlylJSKMbJwqrJCcKshHpICsU4WVhfOUGYdZNWUihWcC40i6kvhe1Sn+1kYZUolSBSneZqlkVzFq3iq3c8zsZNW4D+nXlUzRlRXfuvWr+Rr97xOICThPWJexDWNPJ7Db1Ry3+hV6uH496E9cRDTNa0+trQZmHYphF+B8suDzFZU+rtUFLWGtSp41q3xdCbZOGhJ+st9yCs4fRmKClrSaEcfelZ1NPvaelyD8KaRvdeQznqtbEs1rMoh3sTVg73IKwh9KbX0DJwAJeccHBDNZDNlCCtOtyDsIZWSaNYj0NJlej6fSoZenJvwopxD8LqUv79AztJbCnj77hRk0IplfasmvEcNTv3IKyhdO8x9JQcGnEoqVxddYpye1nuTVg+9yCsbvSmzuB/Eb+pkvM3QGJrhJ9L0QRK9SDSfCY1kiZLWiZpuaSLCmwfLelBSa9L+nKB7QMkLZL0szTjtOzr+hdwucmhZeAArjh5LA9cdLQbt8TUca08cNHRXHHyWFoGDii575YIgjd7FHMWrapNkJYpqSUISQOAq4BjgDHAqZLGdNvtReBc4LIiP+Y8YGlaMVr9uHT+sh6HRwZIiFyvoVmHlMoxdVwrl5xwMK2DW8raf+OmLVw6f1nKUVkWpdmDmAgsj4gVEfEGMBuYkr9DRLwQER3Apu4HS2oDPgrckGKMlnFzFq3i8Bn39thzaBk4gG//9/fyzIyPutdQhkp6E5DrSRw+4173JJpMmkXqVmBl3utO4NAKjr8CuBDYvdROkqYB0wCGDx9eWYSWaeUWVl1n6L38abE9zQhzAbv5pJkgVOC9siriko4DXoiIhZLeX2rfiLgOuA5yReoKY7QMKreY2syzk6qp+x3ZpZLyxk1bOP+WxVw6f5mTchNIM0F0AsPyXrcBq8s89nDgeEnHAoOAPST9OCI+VeUYLWPca+hf3W+0K8a9ieaQZg2iAxglaaSkXYBTgLnlHBgRX42ItogYkRx3r5NDcyinGN06uMV1hhR11Sd6KmK7eN34UksQEbEZOAeYT24m0q0RsUTS2ZLOBpC0j6RO4EvA1yR1StojrZgsuyopRl8w6YAaRdXcLph0QI8FbBevG5tvlLN+52Gl7HI9qPF5qQ3LtJ6Gldz49J9yl+roGm7y/6PGkuqd1GallDOs5JvesqGcm+s83NR43IOwflHOsFJXMdqyoas3USqpe3ZTY3EPwvpFOcNKLkZnU0/Fa89uahxOEFZTHlaqfx5uah4eYrKa8bBS4/BwU3NwD8JqxsNKjcfDTY3NCcJS52GlxuXhpsbmISZLlYeVGp+HmxqXexCWKg8rNQ8PNzUe9yAsVat7GFby0hmNo5yVYEv9PVj2uAdhqeiqOxRb6csrsjamnlaCDXA9oo44QVjVddUdiv0r0sNKja/UcFNXPcJJIvucIKzqStUdPFupOfQ0u8n1iPrgBGFV09N0VoGHlZpI13BToWcPg6e/1gMnCKuKnoaVAIb28IQya0yl/r97uCnbUk0QkiZLWiZpuaSLCmwfLelBSa9L+nLe+8Mk/UbSUklLJJ2XZpzWd57OasV4+mv9Sm2aq6QBwFXAh4FOoEPS3Ih4Mm+3F4FzgandDt8M/FNEPCJpd2ChpF91O9YyxNNZrRhPf61fafYgJgLLI2JFRLwBzAam5O8QES9ERAewqdv7ayLikeT7V8g909qtSwZ5OquVw9Nf61OaCaIVWJn3upNeNPKSRgDjgIerE5ZVi6ezWqU8/bW+pJkgCk1eKPYPzcI/QNoNuB04PyJeLrLPNEkLJC1Yu3ZtL8K03vJ0VquUp7/WlzQTRCcwLO91G7C63IMlDSSXHG6KiDuK7RcR10VEe0S0DxkypNfBWuWKjRt7OquV0tP0V9cjsiPNBNEBjJI0UtIuwCnA3HIOlCRgJrA0Ii5PMUbrhZ7qDp7OauUo9nfiekR2pJYgImIzcA4wn1yR+daIWCLpbElnA0jaR1In8CXga5I6Je0BHA6cBhwtaXHydWxasVr5XHewanE9IvtSXc01IuYB87q9d23e98+TG3rq7n4K1zCsn/VUd/B0VitXT9Nfu+oR/nvqP17u2yrSU93BrBJdDxsaedHdBYcsXY/oX15qw8riuoOlyfWIbHKCsB657mBpcz0im5wgrEe+38HS5vsjssk1COuR6w5WC65HZI97EFaU6w7WH1yPyA4nCCvIdQfrL65HZIcThBXkuoP1F9cjssM1CCvIdQfrT65HZIMThG0zZ9EqLp2/jNXrN7KTxJbY8dJ03cFqaejgloLDnDtJjLzobob67v1UeYjJgO1rDgEFk4PrDlZrxeoRWyIIXJNImxOEAcVrDgMkhOsO1j/y6xEi9/fYnWsS6fEQkwHFx3S3RvDMjI/WOBqzN3XVIwBGXnR3wX1ck0iHexAGFK8tuOZgWeK/09pygmhyXTfDrVq/cYf11V1zsKwpVJMQuVqEb6KrPg8xNbGuwnRX7SHIXWyBn+1g2dT9GRJdf6/wZsE6fz/rG/cgmlihwnRXcvAzpS2rup5p3Tq4ZYd7JFywrq5UE4SkyZKWSVou6aIC20dLelDS65K+XMmx1nfFCnsu+Fk98N9v+lJLEJIGAFcBxwBjgFMljem224vAucBlvTjWesmL8Fkj8KJ+6UuzBzERWB4RKyLiDWA2MCV/h4h4ISI6gE2VHmu940X4rFF4Ub/0pZkgWoGVea87k/eqeqykaZIWSFqwdu3aXgXaTLwInzUKL+qXvjQTxI63PFJ0VKPXx0bEdRHRHhHtQ4YMKTu4ZtXTInxODlZPugrWhRoMcD2ir9JMEJ3AsLzXbcDqGhxrJfhGI2tE/rtOR5oJogMYJWmkpF2AU4C5NTjWCvANcdbIfANdOlK7US4iNks6B5gPDABujIglks5Otl8raR9gAbAHsFXS+cCYiHi50LFpxdrofEOcNTrfQJcORYFlnetVe3t7LFiwoL/DyJyunkN3XTfEmTUS/71XRtLCiGgvtM13UjcB31BkzcR/79XjBNEEXMCzZuK/9+pxgmhgLkxbM3LBunq8mmuDcmHampUL1tXjHkSD8kqt1sy84mt1OEE0KBfqzHwd9JUTRINyoc7M10FflZUgJO0l6UBJ+0lyUskwF6bN3uSCdd8ULVJL2hP4InAqsAuwFhgEvFPSQ8DVEfGbmkRpZXFh2mx7Llj3TanewG3kltw+MiIOiIgjklVThwEzgCmSzqhJlFYWF6bNduSCde8V7UFExIdLbFsILEwlIus1F+TMivP1Ubmy7oOQdAgwIn//iLgjpZisl4YObim4Bo0Lcma+Pnqjx4KzpBuBG4ETgY8lX8elHJf1QqGCnAvTZjm+PipXTg/isIgYk3ok1mtzFq3i0vnLWL1+I3u2DGTQwJ1Yv2ETQ12YNtsmv2Ddda1IMP2WxVw6f5mvlQLKSRAPShoTEU+mHo1VrPvMpfUbN9EycAD/cfJY/7GbdTN1XCtTx7XucN14RlNh5dzT8ENySWKZpMckPS7psbQDs/IUmrnkmRlmpfm6KU85PYgbgdOAx4Gt6YZjlfLMDLPK+bopTzk9iD9HxNyIeCYinuv6KueHS5qc9DyWS7qowHZJ+k6y/TFJ4/O2TZe0RNITkmZJGlTB79U0vJSAWeV83ZSnnATxR0k3SzpV0gldXz0dJGkAcBVwDDAGOFVS92L3McCo5GsacE1ybCtwLtAeEQeRey71KeX+Us3AS2qY9Z6X4ChPOUNMLcDrwEfy3gugp/sgJgLLI2IFgKTZwBQgv9g9BfhR5B6M/ZCkwZL2zYutRdImYFdgdRmxNgUvqWHWN16Cozw9JoiI+Gwvf3YruaU6unQCh5axT2tELJB0GfBnYCPwy4j4ZaEPkTSNXO+D4cOH9zLU+tLTkhpm1rOuGU1dPfF8XQXrZk8QRYeYJH1N0t4lth8tqdQNc91HPoAdlkIpuI+kvcj1LkYCQ4G3SvpUoQ+JiOuSNaLahwwZUiKcxuECm1n1+HoqrlQP4nHgp5JeAx7hzdVcRwFjgXuAb5Y4vhMYlve6jR2HiYrt8yHgmYhYCyDpDuC/AT8u/es0By8ZYFY9vp6KK9qDiIi7IuJw4GxgCblC8cvkGumJETG9qwEvogMYJWmkpF3IFZnndttnLnB6MpvpMOCliFhDbmjpMEm7ShLwQWBpL3/HhuMlA8yqx9dTceXUIJ4Cnqr0B0fEZknnAPPJJZcbI2KJpLOT7dcC84BjgeXABuCzybaHJd1GrueyGVgEXFdpDI3GS2qYVZ+X4ChOuQlEjaG9vT0WLFjQ32GkovvMJcj9K+eSEw5u2j9es2prxutM0sKIaC+0zY8PrRNeGsAsfb7OtucEUSc808Isfb7OtleyBpEsb3EccCS56aYbgSeAuyNiSfrhWRfPtDBLn6+z7ZW6D+Ji4AHg74GHge8Dt5IrGs+Q9KvkSXNWA55pYZY+X2fbK1qklvTRiLi76IHSO4DhEZGZqnAjFqm7z1yS8MwlsxQ12zVXqkjd4ywmSZ+IiJ/09F4WNFqCaMYZFWZZ0SzXX19nMX21zPesyjyjwqz/+PorUaSWdAy5m9haJX0nb9Me5OoQljLPqDDrP77+SvcgVgMLgdeS/3Z9zQUmpR+a+aEmZv3H11/ptZgejYgfAPtHxA/zvu6IiL/WLsTm5RkVZv3H11/paa4/lfSxItv2k/Rvkj6XXmjNq+tpcdNvWcxbdt6JvXYdiMg976HRCmRmWTV1XCuXnHAwrYNbEDA4Wf9s+i2Lm+apc6Wmue4DfAk4EXiRN5f7HgE8DXwvIu6qTZjlaYRZTM0yc8KsnjTydVlqFlPRInVEPA9cCFwoaQSwL7k7qf8UERvSCNRKz5yo9z9Es3rVrNdlj8t9J0t2/zgink0/HPPMCbPsadbrspz7IPYBFki6VdLk5AE+lhLPnDDLnma9LntMEBHxNXKPGZ0JfAZ4StI3Jf1dyrE1Jc+cMMueZr0uy1ruO3KV7OeTr83AXsBtkr6VYmxNxTOXzLKrWWc0lbMW07nAp4G/ADcAcyJik6SdgKciomhPQtJk4Epyjxy9ISJmdNuuZPux5B45+pmIeCTZNjj5vIOAAD4XEQ+WirVeZzE18gwJs0bTaNdrX9diejtwQkRMioifRMQmgIjYSu5ZEcU+dABwFXAMMAY4VdKYbrsdQ274ahQwDbgmb9uVwC8iYjTwXmBpGbHWJa/5YlY/mul67XEWU0R8vcS2Uo32RGB5RKwAkDQbmAI8mbfPFOBHyRDWQ5IGS9oX+BtwFLmaBxHxBvBGT7HWq2adIWFWj5rpek3zkaOtwMq8153Je+Xssx+5G/P+U9IiSTdIemuhD5E0TdICSQvWrl1bvehrqFlnSJjVo2a6XtNMEIWmw3YveBTbZ2dgPHBNRIwj16O4qNCHRMR1EdEeEe1DhgzpS7z9pllnSJjVo2a6XtNMEJ3AsLzXbeRWiC1nn06gMyIeTt6/jVzCaCieuWRWf5ppRlOPNYg+6ABGSRoJrAJOAT7ZbZ+5wDlJfeJQ4KWIWAMgaaWkAyJiGfBBtq9d1L3uMyHWb9xEy8AB/MfJY50YzDJu6rhWpo5r3eE6XrV+I1+94/Ft+9S71HoQEbEZOAeYT24G0q0RsUTS2ZLOTnabB6wAlgPXA1/I+xH/E7hJ0mPAWOCbacXaH5ppJoRZo2r06zjNHgQRMY9cEsh/79q87wP4YpFjFwMF5+Y2gmaaCWHWqBr9Ok6zBmElNNNMCLNG1ejXsRNEP2mmmRBmjarRr+NUh5isuK4C1qXzl7F6/UaGDm7hgkkHNERhy6xZNPp13ONaTPUk62sxzVm0qmH/kMysPq/xXj1Rzqqr0afDmTW7RrzGXYOokUafDmfW7BrxGneCqJFGnw5n1uwa8Rp3gqiRRp8OZ9bsGvEad4KokUafDmfW7BrxGneROmX5sxr2TBb1Wr9hU93McDCz8hSa8vqB0UO4dP4ypt+yuC6veSeIFHlBPrPm0rWIHzTGrCYPMaWoEWc1mFl5GuH6d4JIUSPOajCz8jTC9e8EkaJGnNVgZuVphOvfCSJFjTirwczK0wjXv4vUKWr0hbzMrLhGuP5TXaxP0mTgSmAAcENEzOi2Xcn2Y4ENwGci4pG87QOABcCqiDiup8/LymJ99bhgl5mlK6vtQr8s1pc07lcBHwY6gQ5JcyMi/9nSxwCjkq9DgWuS/3Y5j9zjSvdIK85qa4SpbWZWXfXaLqRZg5gILI+IFRHxBjAbmNJtnynAjyLnIWCwpH0BJLUBHwVuSDHGqmuEqW1mVl312i6kmSBagZV5rzuT98rd5wrgQmBrqQ+RNE3SAkkL1q5d26eAq6ERpraZWXXVa7uQZoJQgfe6FzwK7iPpOOCFiFjY04dExHUR0R4R7UOGDOlNnFXVCFPbzKy66rVdSDNBdALD8l63AavL3Odw4HhJz5Ibmjpa0o/TC7V6GmFqm5lVV722C2kmiA5glKSRknYBTgHmdttnLnC6cg4DXoqINRHx1Yhoi4gRyXH3RsSnUoy1aqaOa+WSEw6mdXALAloHt3DJCQdnuhBlZumq13YhtVlMEbFZ0jnAfHLTXG+MiCWSzk62XwvMIzfFdTm5aa6fTSuetGV1CpuZZUP3hfzqYZXXVO+DqLX+ug+i+xQ2yHUf6+FfCGZWW1lrL0rdB+GlNqqgXqewmVnt1VN74QRRBfU6hc3Maq+e2gsniCqo1ylsZlZ79dReOEFUQb1OYTOz2qun9sKruVZBI6zaaGa1UU/thWcx9YGntppZX/V3O9Ivq7k2unpdndHMsiPr7YhrEL1UT1PVzCybst6OOEH0Uj1NVTOzbMp6O+IE0Uv1NFXNzLIp6+2IE0Qv1dNUNTPLpqy3Iy5S91I9TVUzs2zKejviaa4V6u8paWbWuPqjffE01yrJ+pQ0M6tfWWxfXIOoQNanpJlZ/cpi++IEUYGsT0kzs/qVxfbFCaICWZ+SZmb1K4vtS6oJQtJkScskLZd0UYHtkvSdZPtjksYn7w+T9BtJSyUtkXRemnGWK+tT0sysfmWxfUmtSC1pAHAV8GGgE+iQNDcinszb7RhgVPJ1KHBN8t/NwD9FxCOSdgcWSvpVt2NrLutT0sysfmWxfUlzFtNEYHlErACQNBuYAuQ38lOAH0Vuru1DkgZL2jci1gBrACLiFUlLgdZux/aL/AePm5lVU9balzQTRCuwMu91J7neQU/7tJIkBwBJI4BxwMOFPkTSNGAawPDhw/sac0G+98HMai0L7U6aNQgVeK/7XXkl95G0G3A7cH5EvFzoQyLiuohoj4j2IUOG9DrYYrrmJq9av5HgzbnJcxatqvpnmZlBdtqdNBNEJzAs73UbsLrcfSQNJJccboqIO1KMs6Qszk02s8aWlXYnzQTRAYySNFLSLsApwNxu+8wFTk9mMx0GvBQRayQJmAksjYjLU4yxR1mcm2xmjS0r7U5qCSIiNgPnAPOBpcCtEbFE0tmSzk52mwesAJYD1wNfSN4/HDgNOFrS4uTr2LRiLSWLc5PNrLFlpd1JdS2miJhHLgnkv3dt3vcBfLHAcfdTuD5RcxdMOmC79VGg/+cmm1ljy0q748X6epDFuclm1tiy0u54ue8isjDFzMwM0m2PvNx3hbK47K6ZNaf+bI+8WF8BWZliZmbWn+2RE0QBWZliZmbWn+2RE0QBWZliZmbWn+2RaxAFZGWKWSPatGkTnZ2dvPbaa/0diqVs0KBBtLW1MXDgwP4Opa71Z3vkBFFAVqaYNaLOzk523313RowYQe6GeWtEEcG6devo7Oxk5MiR/R1OXevP9sgJooisLbvbKF577TUnhyYgibe97W2sXbu2v0NpCP3VHjlB5PG9D7Xh5NAc/P85HbVsp5wgEr73wcyyrtbtlGcxJXzvg1nPbrrpJv785z/3dxhNq9btlBNEwvc+NJc777wTSfzxj3/s08/5wQ9+wDnnnFOVmP7lX/6FYcOGsdtuu233/uuvv87JJ5/M/vvvz6GHHsqzzz7b48+6+OKLueyyy6oSV5eZM2eydu3a1J7caD2rdTvlBJHwvQ/ZNGfRKg6fcS8jL7qbw2fcW7Unas2aNYsjjjiC2bNnV+XnVcPHPvYx/vCHP+zw/syZM9lrr71Yvnw506dP5ytf+UrNYtqy5c1/rZ5xxhmcf/75Nfts21Gt2ykniMQFkw6gZeCA7d7zvQ/9K63HLr766qs88MADzJw5c7sEcd999/H+97+fk046idGjR/OP//iPdC1mOW/ePEaPHs0RRxzBueeey3HHHbfDz127di0nnngiEyZMYMKECTzwwAMVxXXYYYex77777vD+XXfdxac//WkATjrpJH79619TaJHNb3zjGxxwwAF86EMfYtmyN4ccnn76aSZPnsz73vc+jjzyyG29pqeffprDDjuMCRMm8PWvf31bz+W+++7jAx/4AJ/85Cc5+OCD2bJlCxdccAETJkzgkEMO4fvf/z4Aa9as4aijjmLs2LEcdNBB/O53v6vo97XK1bqdcoJITB3XyiUnHEzr4BYEtA5u4ZITDnaBuh+lNd46Z84cJk+ezLvf/W723ntvHnnkkW3bFi1axBVXXMGTTz7JihUreOCBB3jttdc466yz+PnPf879999fdOrmeeedx/Tp0+no6OD222/nzDPP3GGf1atXc+yxlT37atWqVQwblnsy784778yee+7JunXrtttn4cKFzJ49m0WLFnHHHXfQ0dGxbdu0adP47ne/y8KFC7nsssv4whe+sC3e8847j46ODoYOHbrdz/vDH/7AN77xDZ588klmzpzJnnvuSUdHBx0dHVx//fU888wz3HzzzUyaNInFixfz6KOPMnbs2Ip+L6tcrdspz2LK43sfsiWt8dZZs2ZtGyo55ZRTmDVrFuPHjwdg4sSJtLW1ATB27FieffZZdtttN/bbb79tN3ydeuqpXHfddTv83HvuuYcnn3xy2+uXX36ZV155hd13333be0OHDmXevHk7HFtKod5C9ymkv/vd7/j4xz/OrrvuCsDxxx8P5HpLv//97/nEJz6xbd/XX38dgAcffJA5c+YA8MlPfpIvf/nL2/aZOHHitt/3l7/8JY899hi33XYbAC+99BJPPfUUEyZM4HOf+xybNm1i6tSpThA1Ust2KtUEIWkycCUwALghImZ0265k+7HABuAzEfFIOcdWi+99yK6hg1tYVSAZ9GW8dd26ddx777088cQTSGLLli1I4lvf+hYAb3nLW7btO2DAADZv3lywgS5k69atPPjgg7S0VHc8uK2tjZUrV9LW1sbmzZt56aWX2HvvvXfYr9B9B1u3bmXw4MEsXry4os9861vfuu37iOC73/0ukyZN2mG/3/72t9x9992cdtppXHDBBZx++ukVfY71TdrtV2pDTJIGAFcBxwBjgFMljem22zHAqORrGnBNBcf2WVpj3FYdaYy33nbbbZx++uk899xzPPvss6xcuZKRI0dy//33Fz1m9OjRrFixYtvsoVtuuaXgfh/5yEf43ve+t+11pY1yMccffzw//OEPt8V/9NFH75AMjjrqKO688042btzIK6+8wk9/+lMA9thjD0aOHMlPfvITINfYP/roo0Cu5nH77bcDlCzWT5o0iWuuuYZNmzYB8Kc//Ym//e1vPPfcc7zjHe/g85//PGecccZ2Q3WWvlq0X2nWICYCyyNiRUS8AcwGpnTbZwrwo8h5CBgsad8yj+0z3/uQbWmMt86aNYuPf/zj27134okncvPNNxc9pqWlhauvvprJkydzxBFH8M53vpM999xzh/2+853vsGDBAg455BDGjBnDtddeu8M+pWoQF154IW1tbWzYsIG2tjYuvvhiIDd7aN26dey///5cfvnlzJixY2d6/PjxnHzyyYwdO5YTTzyRI488ctu2m266iZkzZ/Le976XAw88kLvuuguAK664gssvv5yJEyeyZs2agr8TwJlnnsmYMWMYP348Bx10EGeddRabN2/mvvvuY+zYsYwbN47bb7+d8847r+g5tOqrRfuV2iNHJZ0ETI6IM5PXpwGHRsQ5efv8DJgREfcnr38NfAUY0dOxeT9jGrneB8OHD3/fc889V3aMIy+6m0K/vYBnZny07J9j5Vu6dCnvec97+juMir366qvstttuRARf/OIXGTVqFNOnT+/vsPpkw4YNtLS0IInZs2cza9asbcmjWur1/3c9qFb7VeqRo2n2IAotxNL99ym2TznH5t6MuC4i2iOifciQIRUF6HsfrFzXX389Y8eO5cADD+Sll17irLPO6u+Q+mzhwoWMHTuWQw45hKuvvppvf/vb/R2SVaAW7VeaRepOYFje6zZgdZn77FLGsX3m5z5YuaZPn173PYbujjzyyG31CKs/tWi/0uxBdACjJI2UtAtwCjC32z5zgdOVcxjwUkSsKfPYPvO9D/0jrWFNyxb/f05XLdqv1HoQEbFZ0jnAfHJTVW+MiCWSzk62XwvMIzfFdTm5aa6fLXVsGnH63ofaGjRoEOvWreNtb3ubl4NuYF0PDBo0aFB/h9LQ0m6/UitS94f29vZYsGBBf4dhJfiRo83DjxytD6WK1L6T2mpq4MCBfgSlWZ3wWkxmZlaQE4SZmRXkBGFmZgU1VJFa0lqg/Fupt/d24C9VDCdN9RQrON401VOs4HjT1NtY3xURBe8ybqgE0ReSFhSr5GdNPcUKjjdN9RQrON40pRGrh5jMzKwgJwgzMyvICeJNOz4iLLvqKVZwvGmqp1jB8aap6rG6BmFmZgW5B2FmZgU5QZiZWUFNlSAkTZa0TNJySRcV2C5J30m2PyZpfH/EmRdPT/G+X9JLkhYnX1/vjziTWG6U9IKkJ4psz9q57SneLJ3bYZJ+I2mppCWSdni2Z5bOb5nxZuL8Shok6Q+SHk1i/d8F9snSuS0n3uqd24hoii9yy4Y/DexH7oFEjwJjuu1zLPBzck+0Owx4OOPxvh/4WX+f2ySWo4DxwBNFtmfm3JYZb5bO7b7A+OT73YE/Zfxvt5x4M3F+k/O1W/L9QOBh4LAMn9ty4q3auW2mHsREYHlErIiIN4DZwJRu+0wBfhQ5DwGDJe1b60AT5cSbGRHxW+DFErtk6dyWE29mRMSaiHgk+f4VYCnQ/SEAmTm/ZcabCcn5ejV5OTD56j5zJ0vntpx4q6aZEkQrsDLvdSc7/tGWs0+tlBvL3yfdzZ9LOrA2ofVKls5tuTJ3biWNAMaR+5djvkye3xLxQkbOr6QBkhYDLwC/iohMn9sy4oUqndtmShCFHl/WPfOWs0+tlBPLI+TWUXkv8F1gTtpB9UGWzm05MnduJe0G3A6cHxEvd99c4JB+Pb89xJuZ8xsRWyJiLNAGTJR0ULddMnVuy4i3aue2mRJEJzAs73UbsLoX+9RKj7FExMtd3c2ImAcMlPT22oVYkSyd2x5l7dxKGkiusb0pIu4osEumzm9P8Wbt/CZxrAfuAyZ325Spc9ulWLzVPLfNlCA6gFGSRkraBTgFmNttn7nA6cmshcOAlyJiTa0DTfQYr6R9pNyDnSVNJPf/c13NIy1Pls5tj7J0bpM4ZgJLI+LyIrtl5vyWE29Wzq+kIZIGJ9+3AB8C/thttyyd2x7jrea5bZpHjkbEZknnAPPJzRC6MSKWSDo72X4tMI/cjIXlwAbgsxmP9yTgf0jaDGwETolkGkOtSZpFbvbE2yV1Av9KroCWuXMLZcWbmXMLHA6cBjyejD0D/DMwHDJ5fsuJNyvnd1/gh5IGkGtIb42In2W1XaC8eKt2br3UhpmZFdRMQ0xmZlYBJwgzMyvICcLMzApygjAzs4KcIMzMrCAnCLNekLSvpJ8l34+VdGzetuMKrbKZt31qpStsSrpH0l69j9isck4QZr3zJeD65Pux5ObJd7kbOF7SrkWOvRC4usLP+7/AFyo8xqxPnCDMipA0Qbn1/wdJeqty6+93rXtzIvCL5C73fwNOTtbePzm5Kek+4LgCP/PdwOsR8Zfk9Q8kXaPc8xNWSPoH5Z5VsVTSD/IOnQucmuKva7aDprmT2qxSEdEhaS7wf4AW4McR8YSkkcBfI+J1gGS4qD0izsk7fAFwJHBrtx97OLnF1PLtBRwNHA/8NNnnTKBD0tiIWBwRf5X0Fklvi4isLqdiDcY9CLPS/g34MNAOfCt5b19gbQ/HvQAMLfB+oWN/mvQ6Hgf+KyIej4itwBJgRBk/0ywVThBmpe0N7EbuyWiDkvc25n1fzKBkv+4KHft68t+ted93vc7v5Rf7mWapcIIwK+064H8BNwH/nrz3J7b/l/0r5BJIvncDhZ53vRTYv9IgktU59wGerfRYs95ygjArQtLpwOaIuBmYAUyQdHRE/A14WlJXQ/8bYExXkTp57wPkZjN191tgXNdyzBV4H/BQRGyu/Dcx6x2v5mrWC5I+DrwvIr5WYNs7gZsj4oNFjr2SXN3hngo+70pgbkT8urcxm1XKPQizXoiIOyk+3DMc+KcSh38TKHaPRDFPODlYrbkHYWZmBbkHYWZmBTlBmJlZQU4QZmZWkBOEmZkV5ARhZmYF/X9JS+tMRjVrcQAAAABJRU5ErkJggg==\n",
      "text/plain": [
       "<Figure size 432x288 with 1 Axes>"
      ]
     },
     "metadata": {
      "needs_background": "light"
     },
     "output_type": "display_data"
    },
    {
     "data": {
      "image/png": "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\n",
      "text/plain": [
       "<Figure size 432x288 with 1 Axes>"
      ]
     },
     "metadata": {
      "needs_background": "light"
     },
     "output_type": "display_data"
    },
    {
     "data": {
      "image/png": "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\n",
      "text/plain": [
       "<Figure size 432x288 with 1 Axes>"
      ]
     },
     "metadata": {
      "needs_background": "light"
     },
     "output_type": "display_data"
    },
    {
     "data": {
      "image/png": "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\n",
      "text/plain": [
       "<Figure size 432x288 with 1 Axes>"
      ]
     },
     "metadata": {
      "needs_background": "light"
     },
     "output_type": "display_data"
    }
   ],
   "source": [
    "\"\"\"\n",
    "Fonction qui affiche les points de la trajectoire x,y\n",
    "\"\"\"\n",
    "\n",
    "\n",
    "def ballistique(alpha, v_0):\n",
    "    alpha_r = alpha*np.pi/180\n",
    "    t_sol = (2*v_0*np.sin(alpha_r)/(g))\n",
    "    x_ran = np.linspace(0,t_sol,100)\n",
    "    x = np.array([v_0*np.cos(alpha_r)*x_ran])\n",
    "    y = np.array([(v_0*np.sin(alpha_r)*x_ran-(g*x_ran**2/2))])\n",
    "    plt.scatter(x,y, label = \"Angle : \" + str(round(alpha,4)) + \" degrés\")\n",
    "    plt.xlabel(\"x(t) (m)\")\n",
    "    plt.ylabel(\"y(t) (m)\")\n",
    "    plt.title(\"Trajectoire\")\n",
    "    plt.legend()\n",
    "    plt.show()\n",
    "    \n",
    "ballistique(10,10)\n",
    "ballistique(20,10)\n",
    "ballistique(30,10)\n",
    "ballistique(45,10)\n"
   ]
  },
  {
   "cell_type": "markdown",
   "metadata": {
    "deletable": false,
    "editable": false,
    "nbgrader": {
     "cell_type": "markdown",
     "checksum": "9199a981e70a9d860512421b0dd46739",
     "grade": false,
     "grade_id": "cell-d1a48e420d72ddd1",
     "locked": true,
     "schema_version": 3,
     "solution": false,
     "task": false
    }
   },
   "source": [
    "### b. Distance de tir\n",
    "\n",
    "La balle atteint une certaine distance $x_{sol}$ lorsqu'elle touche le sol au temps $t_{sol}$. \n",
    "\n",
    "1. Définir une fonction `distance_tir(alpha, v_0)` qui calcule et retourne la distance de tir $x_{sol}$, avec pour premier argument $\\alpha$ et second argument $v_0$. "
   ]
  },
  {
   "cell_type": "code",
   "execution_count": 36,
   "metadata": {
    "deletable": false,
    "nbgrader": {
     "cell_type": "code",
     "checksum": "cd7b03609b4378fe7bd3a81ac74ad4d7",
     "grade": false,
     "grade_id": "cell-2df59e925c1716d1",
     "locked": false,
     "schema_version": 3,
     "solution": true,
     "task": false
    }
   },
   "outputs": [],
   "source": [
    "\"\"\"\n",
    "Fonction qui renvoie la portée de la balle\n",
    "\"\"\"\n",
    "\n",
    "def distance_tir(alpha, v_0):\n",
    "    return v_0**2*np.sin(2*alpha)/g"
   ]
  },
  {
   "cell_type": "markdown",
   "metadata": {
    "deletable": false,
    "editable": false,
    "nbgrader": {
     "cell_type": "markdown",
     "checksum": "df7fd91c44a55082b5f772da778ec461",
     "grade": false,
     "grade_id": "cell-6a53021d1d316bc5",
     "locked": true,
     "schema_version": 3,
     "solution": false,
     "task": false
    }
   },
   "source": [
    "*La cellule suivante teste que vous avez bien répondu à la question en définissant une fonction `distance_tir(alpha, v_0)`. Pour s'en assurer exécutez la cellule, aucun message d'erreur ne doit apparaître.* "
   ]
  },
  {
   "cell_type": "code",
   "execution_count": 35,
   "metadata": {
    "deletable": false,
    "editable": false,
    "nbgrader": {
     "cell_type": "code",
     "checksum": "805f77c314d750f71d0b35cfab0a9166",
     "grade": true,
     "grade_id": "cell-bd341dd734c1c12c",
     "locked": true,
     "points": 2,
     "schema_version": 3,
     "solution": false,
     "task": false
    }
   },
   "outputs": [
    {
     "name": "stdout",
     "output_type": "stream",
     "text": [
      "8.82798576742547\n"
     ]
    }
   ],
   "source": [
    "assert 'distance_tir' in globals()\n",
    "print(distance_tir(np.pi/3, 10))\n"
   ]
  },
  {
   "cell_type": "markdown",
   "metadata": {
    "deletable": false,
    "editable": false,
    "nbgrader": {
     "cell_type": "markdown",
     "checksum": "9e60d6c056a45f78fe24a731b9da48a9",
     "grade": false,
     "grade_id": "cell-06543f3a3b1d51bd",
     "locked": true,
     "points": 3,
     "schema_version": 3,
     "solution": false,
     "task": true
    }
   },
   "source": [
    "2. Utiliser cette fonction pour faire un graphe qui montre l'évolution de la distance de tir en fonction de $\\alpha \\in [0,\\pi/2]$ (100 valeurs) pour $v_0 = 10 \\ {\\rm m\\cdot s^{-1}}$. De même, on soignera la qualité du graphique.\n"
   ]
  },
  {
   "cell_type": "code",
   "execution_count": 44,
   "metadata": {
    "deletable": false,
    "nbgrader": {
     "cell_type": "code",
     "checksum": "8578612cdc526bb200e3c96e0f7ff394",
     "grade": false,
     "grade_id": "cell-5272fdfbc0eb2f6e",
     "locked": false,
     "schema_version": 3,
     "solution": true,
     "task": false
    }
   },
   "outputs": [
    {
     "data": {
      "image/png": "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\n",
      "text/plain": [
       "<Figure size 432x288 with 1 Axes>"
      ]
     },
     "metadata": {
      "needs_background": "light"
     },
     "output_type": "display_data"
    }
   ],
   "source": [
    "\"\"\"\n",
    "Portée du projectile en fonction de l'angle\n",
    "\"\"\"\n",
    "\n",
    "angle_ran = np.linspace(0,np.pi/2,100)\n",
    "plt.plot(angle_ran, distance_tir(angle_ran,10))\n",
    "plt.ylabel(\"Distance de tir(m)\")\n",
    "plt.xlabel(\"Angle (rad)\")\n",
    "plt.title(\"Portée du projectile en fonction de l'angle \")\n",
    "plt.show()"
   ]
  },
  {
   "cell_type": "markdown",
   "metadata": {
    "deletable": false,
    "editable": false,
    "nbgrader": {
     "cell_type": "markdown",
     "checksum": "5a7d0f986adced936f5db6895df3aed5",
     "grade": false,
     "grade_id": "cell-db02bd02a123927e",
     "locked": true,
     "schema_version": 3,
     "solution": false,
     "task": false
    }
   },
   "source": [
    "3. Que vaut la distance de tir maximale pour ce $v_0$? Exécuter votre fonction et donner la réponse à l'aide d'un `print()` bien écrit (phrase, unités, etc.)"
   ]
  },
  {
   "cell_type": "code",
   "execution_count": 51,
   "metadata": {
    "deletable": false,
    "nbgrader": {
     "cell_type": "code",
     "checksum": "e3d1383f8edda22f5b99abe11a1637db",
     "grade": true,
     "grade_id": "cell-19a77010550a8766",
     "locked": false,
     "points": 1,
     "schema_version": 3,
     "solution": true,
     "task": false
    }
   },
   "outputs": [
    {
     "name": "stdout",
     "output_type": "stream",
     "text": [
      "Pour une vitesse initiale de 10m/s, la distance de tir maximale est de 10.1924 m \n"
     ]
    }
   ],
   "source": [
    "\"\"\"\n",
    "Determination de la distance de tir max\n",
    "\"\"\"\n",
    "\n",
    "\n",
    "distance = np.array([distance_tir(angle_ran,10)])\n",
    "distance_max = np.max(distance)\n",
    "print(\"Pour une vitesse initiale de 10m/s, la distance de tir maximale est de %s m \"%(round(distance_max,4)))"
   ]
  },
  {
   "cell_type": "markdown",
   "metadata": {
    "deletable": false,
    "editable": false,
    "nbgrader": {
     "cell_type": "markdown",
     "checksum": "98f4b18b69bc8af75ebce8edd7d35483",
     "grade": false,
     "grade_id": "cell-6d5731977575aa4f",
     "locked": true,
     "schema_version": 3,
     "solution": false,
     "task": false
    }
   },
   "source": [
    "### c. Calcul de l'angle de tir \n",
    "\n",
    "On suppose par la suite une balle dont la vitesse initiale vaut $v_0 = 200 \\ { \\rm m\\cdot s^{-1}}$. On souhaite savoir sous quelle angle il faut tirer, pour atteindre une cible placée à distance horizontale $x=L$ de l'origine et à hauteur $y=H$. Premièrement, on remarque qu'un impact ne pourra que se réaliser si $L < \\mbox{max} (x_{sol})$. Si cette condition est satisfaite, alors il existe une solution donnée par :\n",
    "\n",
    "$$\n",
    "\\left \\{ \\begin{array}{rcl}\n",
    "L& =& v_0 \\cos (\\alpha) t_* \\\\\n",
    "H & = & v_0 \\sin (\\alpha) t_* - \\dfrac{g t_*^2}{2}\n",
    "\\end{array} \\right .\n",
    "$$\n",
    "\n",
    "En éliminant le temps d'impact $t_*$ de ce système on trouve une équation algébrique qui définit l'angle de tir $\\alpha$ étant donné les paramètres $L$ et $H$. L'égalité suivante doit être satisfaite :\n",
    "\n",
    "$$\n",
    "f_{*} ( \\alpha,v_0,H,L) = H \\cos^2 \\alpha - L \\sin \\alpha \\cos \\alpha + \\dfrac{g L^2}{2 v_0^2} = \\dfrac{1}{2} \\left ( H + H \\cos 2 \\alpha - L \\sin 2 \\alpha + \\dfrac{g L^2 }{v_0^2} \\right ) = 0\n",
    "$$\n",
    "\n",
    "L'équation a été simplifiée utilisant $\\cos^2 \\alpha = (1+ \\cos 2 \\alpha)/2$ et $\\sin \\alpha \\cos \\alpha = (\\sin 2 \\alpha )/2$, mais malgré celà, ça ne semble pas si facile de trouver l'angle de tir $\\alpha$, solution de cette équation. \n",
    "\n",
    "La méthode de Newton est une méthode numérique qui permet de trouver la racine $\\alpha$ solution de l'équation en quelques itérations. Cette méthode de Newton a besoin de la dérivée de la fonction $f_{*}$ par rapport à $\\alpha$ qui est tout simplement\n",
    "\n",
    "$$\n",
    "f'_{*} ( \\alpha,v_0,H,L) = - H \\sin 2 \\alpha - L \\cos 2 \\alpha \n",
    "$$\n",
    "\n",
    "\n",
    "1. Définir ci dessous les deux fonctions ```f(alpha,v_0,H,L) ``` et ```fprime(alpha,v_0,H,L)``` qui à la réception des arguments $\\alpha,v_0,H,L$, **dans cet ordre et avec les unités du problème**,  retournent la valeur de ces fonctions.  "
   ]
  },
  {
   "cell_type": "code",
   "execution_count": 52,
   "metadata": {
    "deletable": false,
    "nbgrader": {
     "cell_type": "code",
     "checksum": "263400f5f61bf593d79cb45a5730512e",
     "grade": false,
     "grade_id": "cell-70fc81d430c3b14d",
     "locked": false,
     "schema_version": 3,
     "solution": true,
     "task": false
    }
   },
   "outputs": [
    {
     "data": {
      "text/plain": [
       "124.13446509621562"
      ]
     },
     "execution_count": 52,
     "metadata": {},
     "output_type": "execute_result"
    }
   ],
   "source": [
    "def f(alpha, v_0, H, L):\n",
    "    return (0.5*(H+H*np.cos(2*alpha)-L*np.sin(2*alpha)+(g*L**2/v_0**2)))\n",
    "\n",
    "def fprime(alpha, v_0, H, L):\n",
    "    return -H*np.sin(2*alpha)-L*np.cos(2*alpha)\n",
    "\n",
    "f(np.pi/3, 200, 500, 2)"
   ]
  },
  {
   "cell_type": "code",
   "execution_count": 53,
   "metadata": {
    "deletable": false,
    "editable": false,
    "nbgrader": {
     "cell_type": "code",
     "checksum": "6448d6c22907cc1d4c7bb0969b7bddb9",
     "grade": true,
     "grade_id": "cell-33e997ba038ab8fc",
     "locked": true,
     "points": 2,
     "schema_version": 3,
     "solution": false,
     "task": false
    }
   },
   "outputs": [],
   "source": [
    "assert 'f' in globals()\n",
    "assert 'fprime' in globals()\n"
   ]
  },
  {
   "cell_type": "markdown",
   "metadata": {
    "deletable": false,
    "editable": false,
    "nbgrader": {
     "cell_type": "markdown",
     "checksum": "4f3f4b1b7ff69ab46a8f2a158e14f60b",
     "grade": false,
     "grade_id": "cell-bed8471458e9bf29",
     "locked": true,
     "points": 3,
     "schema_version": 3,
     "solution": false,
     "task": true
    }
   },
   "source": [
    "L'algorithme de Newton consiste en l'itération du schéma suivant. Soit $\\alpha_0$ une estimation initiale de l'angle de tir. En itérant sur la suite définie par récurrence :\n",
    "\n",
    "$$\n",
    "\\alpha_{n+1} = \\alpha_n - \\frac{f  (\\alpha_n,v_0,H,L)}{f'(\\alpha_{n},v_0,H,L)} \\quad, \\quad n=0,1,2,\\ldots \n",
    "$$\n",
    "\n",
    "on peut trouver l'angle de tir $\\alpha_*$ solution de l'équation $f_{*} (\\alpha_*,v_0,H,L) = 0$.  \n",
    "\n",
    "2. Dans la cellule suivante, compléter la fonction `newton(alpha, v_0, H, L, N)` par une boucle qui calcule les N premièrs éléments de la suite $\\left\\lbrace\\alpha_n\\right\\rbrace$. Stocker et retourner les valeurs de $\\alpha$ dans la liste `alpha_list`.\n",
    "\n",
    "3. On utilisera $\\alpha_0 = \\pi / 10$ comme première estimation. Pour $v_0 =200 \\ {\\rm m s^{-1}}$, $H=10 \\ {\\rm m}$, $L=200 \\ {\\rm m}$, afficher graphiquement la suite $[\\alpha_{0}, \\alpha_{1}, \\ldots, , \\alpha_{10} ]$ en fonction de $n=0,1,\\ldots,10$ ($N=10$). \n",
    "4. Si votre code numérique est correct, vous devez observer une convergence très rapide de $\\alpha_n$ vers l'angle de tir $\\alpha_* \\approx 0.0745 $ solution du problème. Vérifier ce résultat en affichant le dernier élément de la suite, $\\alpha_{10}$. \n"
   ]
  },
  {
   "cell_type": "code",
   "execution_count": 68,
   "metadata": {
    "deletable": false,
    "nbgrader": {
     "cell_type": "code",
     "checksum": "21c50610e4b3e9ab74293ded0ca19dee",
     "grade": false,
     "grade_id": "cell-b770b8ade23cd7e4",
     "locked": false,
     "schema_version": 3,
     "solution": true,
     "task": false
    }
   },
   "outputs": [
    {
     "data": {
      "image/png": "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\n",
      "text/plain": [
       "<Figure size 432x288 with 1 Axes>"
      ]
     },
     "metadata": {
      "needs_background": "light"
     },
     "output_type": "display_data"
    },
    {
     "data": {
      "text/plain": [
       "[0.04681607771188262,\n",
       " 0.07447572349009138,\n",
       " 0.07452344269173905,\n",
       " 0.07452344291797212,\n",
       " 0.07452344291797212,\n",
       " 0.07452344291797212,\n",
       " 0.07452344291797212,\n",
       " 0.07452344291797212,\n",
       " 0.07452344291797212,\n",
       " 0.07452344291797212,\n",
       " 0.07452344291797212]"
      ]
     },
     "execution_count": 68,
     "metadata": {},
     "output_type": "execute_result"
    }
   ],
   "source": [
    "\"\"\"\n",
    "Methode de Newton\n",
    "\n",
    "\"\"\"\n",
    "\n",
    "def newton(alpha, v_0, H, L, N):\n",
    "    alpha_list=[]ballistique(0.0745*180/np.pi, 200)\n",
    "    a_n = alpha\n",
    "    for i in range (N+1):\n",
    "        A_n1 = a_n-f(a_n, v_0, H, L)/fprime(a_n, v_0, H, L)\n",
    "        alpha_list.append(A_n1)\n",
    "        a_n = A_n1\n",
    "    plt.scatter(np.arange(11), alpha_list)\n",
    "    plt.ylabel(\"Estimation de l'angle (rad)\")\n",
    "    plt.xlabel(\"Nombre d'itérations\")\n",
    "    plt.show()\n",
    "    return alpha_list\n",
    "\n",
    "newton(np.pi/10, 200, 10, 200, 10)"
   ]
  },
  {
   "cell_type": "code",
   "execution_count": 69,
   "metadata": {
    "deletable": false,
    "editable": false,
    "nbgrader": {
     "cell_type": "code",
     "checksum": "e95e3406da88393e1ba6c73cd0f57063",
     "grade": true,
     "grade_id": "cell-2d65b972a00f871b",
     "locked": true,
     "points": 3,
     "schema_version": 3,
     "solution": false,
     "task": false
    }
   },
   "outputs": [],
   "source": [
    "assert 'newton' in globals()\n"
   ]
  },
  {
   "cell_type": "markdown",
   "metadata": {
    "deletable": false,
    "editable": false,
    "nbgrader": {
     "cell_type": "markdown",
     "checksum": "006c553d736939095cc88241e184cf92",
     "grade": false,
     "grade_id": "cell-77540d8664531110",
     "locked": true,
     "points": 4,
     "schema_version": 3,
     "solution": false,
     "task": true
    }
   },
   "source": [
    "5. Afin de se convaincre que cet angle est correct, afficher graphiquement la trajectoire de la balle pour ce $\\alpha_*$, de l'origine jusqu'à la cible. Vous pouvez recycler les instructions de la fonction `ballistique` de la partie a) mais en prenant en considération que la cible sera atteinte au temps $t_* = L /(v_0 \\cos \\alpha_*)$. Afficher la trajectoire en bleu, et la position de la cible à l'aide d'un markeur 'o'. \n"
   ]
  },
  {
   "cell_type": "code",
   "execution_count": 77,
   "metadata": {
    "deletable": false,
    "nbgrader": {
     "cell_type": "code",
     "checksum": "d08f92318552150e2a37544a20117fbf",
     "grade": false,
     "grade_id": "cell-33135fc3f3e484df",
     "locked": false,
     "schema_version": 3,
     "solution": true,
     "task": false
    }
   },
   "outputs": [
    {
     "data": {
      "image/png": "iVBORw0KGgoAAAANSUhEUgAAAX4AAAEWCAYAAABhffzLAAAAOXRFWHRTb2Z0d2FyZQBNYXRwbG90bGliIHZlcnNpb24zLjMuNCwgaHR0cHM6Ly9tYXRwbG90bGliLm9yZy8QVMy6AAAACXBIWXMAAAsTAAALEwEAmpwYAAAnXklEQVR4nO3deXxU9fX/8dcBUYJsKrhESwG/giKEsLgCiqKiuIuI/qzWKsW61l38tlVK1WprcUFbS0WxiqAiWHAX/FIFsZUIIosoWsQACmKDoEGWnN8fczNOwkwyk2T29/Px4JGZO/fOPbkZTk7OvffzMXdHRETyR6N0ByAiIqmlxC8ikmeU+EVE8owSv4hInlHiFxHJM0r8IiJ5RolfJIKZvWxmP03xPv/XzB5J5T4lv5mu45dsZ2abIp42A74HtgfPL3X3CSmOZyTwP+7+k1TuVyReO6U7AJH6cvfmlY/NbAUwzN1nVF/PzHZy922pjK2+sjFmyXxq9UjOMrP+ZlZqZjeb2RfAY2a2m5m9YGbrzOy/weP9IraZZWbDIp5fbGZLg3VfNbMfR7x2sJm9bmZfm9mXQcvmROB/gaFmtsnM3g/WLTSzacG6y83s5xHvM9LMngwetzczN7NLzGwl8EZtcYgkSolfct3ewO7Aj4HhhD7zjwXP2wHlwIPRNjSzMwgl8bOAtsBbwMTgtRbADOAVoBD4H2Cmu78C3Ak87e7N3b178HYTgdJg3bOBO81sQA1xHw0cBAysKQ6RulDil1xXAdzm7t+7e7m7r3f359z9O3ffCNxBKMlGcynwe3dfGrRb7gSKg2r7FOALd/+Tu292943u/q9ob2JmPwL6AjcH6y4AHgEuqCHuke7+rbuX1xKHSMKU+CXXrXP3zZVPzKyZmf3VzD4zs2+AN4HWZtY4yrY/Bu43szIzKwO+BgzYF/gR8EmcMRQCXwe/aCp9FrxPLJ/HGYdIwpT4JddVv2zteqAzcJi7twSOCpZblG0/J3RVUOuIfwXu/nbw2v5x7nM1sHvQHqrUDlgVZ9w1xSGSMCV+yTctCPX1y8xsd+C2GtZ9GLjFzA4GMLNWZjYkeO0FYG8zu8bMdjGzFmZ2WPDal0B7M2sE4O6fA28DvzezpmZWBFwCxHuZaU1xiCRMiV/yzX1AAfAV8A6hk7NRuftU4G5gUtAWWgScFLy2ETgeOBX4AvgYOCbY9Nng63ozey94fB7QnlD1P5XQeYfX4wm4pjhE6kI3cIlEMLM3gUfc/e/pjkUkWVTxiwTMrBnQEfhPumMRSSYlfhHAzPYk1LL5JzA7zeGIJJVaPSIieUYVv4hInsmKQdratGnj7du3T3cYIiJZpaSk5Ct3b1t9eVYk/vbt2zNv3rx0hyEiklXM7LNoy9XqERHJM0r8IiJ5RolfRCTPZEWPP5qtW7dSWlrK5s2ba19ZJIqmTZuy33770aRJk3SHIpJSWZv4S0tLadGiBe3bt8cs2sCKIrG5O+vXr6e0tJQOHTqkOxyRlEpaq8fMHjWztWa2KGLZ7sFUdR8HX3er6/tv3ryZPfbYQ0lf6sTM2GOPPfQXo2Suhc/AvV1hZOvQ14XPNNhbJ7PHPx44sdqyEYSmpzsAmBk8rzMlfakPfX4kEz0/fxUjb7+N7567AjZ8Dnjo6/SrGyz5J63V4+5vmln7aotPB/oHjx8HZgE3JysGEZFs8Pz8Vfzx1WWsKivHgLd2fpJmjbZUXWlrOcwcBUXn1Ht/qe7x7+XuawDcfU0wMFZUZjac0OTYtGvXLkXhSbZbvHgxn376Kaeeemq6QxGpUfVkXzlqmgOF9lX0jTaUNsi+M/ZyTncf6+693b1327Y73HGcMaZOnYqZ8eGHH9brfcaPH8+VV17ZQFGFnHbaaXTt2jXqa6+//jq9evWiW7du9OrVizfeeCP82pYtWxg+fDidOnXiwAMP5LnnngNg5cqVHHPMMfTo0YOioiJeeuml8DaNGzemuLiY4uJiTjvttFpjW7FiRczY6mrlypXccccdHH10rLnTRdLr+fmr6HPXG7Qf8SLXPr2AVWXlQJS5Or1N9DdotV+DxJHqiv9LM9snqPb3AdamaseVv11Xl5VT2LqAGwd25owe9Z+reuLEifTt25dJkyYxcuTI+gfaQKZMmULz5s1jvt6mTRumT59OYWEhixYtYuDAgaxaFZoC9o477mDPPffko48+oqKigq+//hqA22+/nXPOOYfLLruMJUuWMGjQIFasWAFAQUEBCxYsSPa3FdX27dtp3Lgx7dq146mnnkpLDCKx1FTZx/KHbedwV5NHaGYR7Z4mBTDg1gaJKdUV/zTgp8HjnwL/SMVOn5+/ilumfMCqsnIcWFVWzi1TPuD5+TXNdV27TZs2MWfOHMaNG8ekSZPCy2fNmkX//v05++yzOfDAAzn//POpHP76pZde4sADD6Rv375cffXVnHLKKTu877p16xg8eDCHHHIIhxxyCHPmzEk4rtGjR/PrX/865jo9evSgsLAQgIMPPpjNmzfz/fffA/Doo49yyy23ANCoUSPatAlVH2bGN998A8CGDRvC28erpKSE7t27c8QRR/DQQw+Fl2/fvp0bb7yRQw45hKKiIv76178CUFFRweWXX87BBx/MKaecwqBBg5g8eTIQGr9p1KhR9O3bl2effZbXXnuNI444gp49ezJkyBA2bdoEwIgRI+jSpQtFRUXccMMNCcUrUlfxVvaxTKvoy4itwyitaEOFG98V7AOnPtAg/X1IYsVvZhMJnchtY2alhCa1vgt4xswuAVYCKZkw+o+vLqN86/Yqy8q3buePry6rV9X//PPPc+KJJ9KpUyd233133nvvPXr27AnA/PnzWbx4MYWFhfTp04c5c+bQu3dvLr30Ut588006dOjAeeedF/V9f/nLX3LttdfSt29fVq5cycCBA1m6dGmVdVavXs2wYcOqtFsq/eY3v+H666+nWbNmcX0fzz33HD169GCXXXahrKws/B6zZs1i//3358EHH2SvvfZi5MiRnHDCCYwZM4Zvv/2WGTNmhN9j8+bN9O7dm5122okRI0Zwxhln7LCfn/3sZ4wZM4ajjz6aG2+8Mbx83LhxtGrVinfffZfvv/+ePn36cMIJJ1BSUsKKFSv44IMPWLt2LQcddBAXX3xxeLumTZsye/ZsvvrqK8466yxmzJjBrrvuyt13383o0aO58sormTp1Kh9++CFmFv7eRJKhLpV9LEYo+Zc0O77BuhORknlVT/SsBgOStc9YVge/beNdHq+JEydyzTXXAHDuuecyceLEcOI/9NBD2W+/UD+uuLiYFStW0Lx5czp27Bi+Yei8885j7NixO7zvjBkzWLJkSfj5N998w8aNG2nRokV4WWFhYdSkv2DBApYvX869994bbsPUZPHixdx888289tprAGzbto3S0lL69OnD6NGjGT16NDfccANPPPEEEydO5KKLLuL6669n7ty5XHDBBSxatIhGjRqxcuVKCgsL+fTTTzn22GPp1q0b+++/f3g/GzZsoKysLNx/v+CCC3j55ZcBeO2111i4cGG4mt+wYQMff/wxs2fPZsiQITRq1Ii9996bY445pkrsQ4cOBeCdd95hyZIl9OnTBwidozjiiCNo2bIlTZs2ZdiwYZx88slR/7oSqavI9nGrgiZ8u2UbW7eH0nxdk70D+zZgKzqWrL1zNxGFrQvCf2pVX15X69ev54033mDRokWYGdu3b8fM+MMf/gDALrvsEl63cePGbNu2jXhnO6uoqGDu3LkUFCQe39y5cykpKaF9+/Zs27aNtWvX0r9/f2bNmrXDuqWlpZx55pn8/e9/DyfpPfbYg2bNmnHmmWcCMGTIEMaNGweEKvNXXnkFgCOOOILNmzfz1Vdfseeee4bbPh07dqR///7Mnz+/SuJ395jXzbs7Y8aMYeDAgVWWv/jiizV+r7vuumt4++OPP56JEyfusM6///1vZs6cyaRJk3jwwQernMQWqavK9nFlJ6GsfGud3ieVyT5Sxl7V05BuHNiZgiaNqywraNKYGwd2rvN7Tp48mQsvvJDPPvuMFStW8Pnnn9OhQwdmz449XeuBBx7Ip59+Gq7En3766ajrnXDCCTz44IPh54mcNL3ssstYvXo1K1asYPbs2XTq1Clq0i8rK+Pkk0/m97//fbhShlAf/9RTTw1vM3PmTLp06QKELqudOXMmAEuXLmXz5s20bduW//73v+HzA1999RVz5swJb1OpdevWtGrVKnx8JkyYEH5t4MCB/OUvf2Hr1tB/no8++ohvv/2Wvn378txzz1FRUcGXX34Z9fsAOPzww5kzZw7Lly8H4LvvvuOjjz5i06ZNbNiwgUGDBnHfffel7eSz5I7K3v01Ty/YoX0cr8ryZ9/WBdw7tJgVd53MnBHHpizpQ55U/JUHtCGv6pk4cSIjRlS98Xjw4ME89dRT4RZEdQUFBfz5z3/mxBNPpE2bNhx66KFR13vggQe44oorKCoqYtu2bRx11FE8/PDDVdapqccfy7Rp05g3bx6jRo3iwQcfZPny5fzud7/jd7/7HRBquey5557cfffdXHDBBVxzzTW0bduWxx57DIA//elP/PznP+fee+/FzBg/fjxmxtKlS7n00ktp1KgRFRUV4ROq1T322GNcfPHFNGvWrEp1P2zYMFasWEHPnj1xd9q2bcvzzz/P4MGDmTlzJl27dqVTp04cdthhtGrVaof3bdu2LePHj+e8884L/wK6/fbbadGiBaeffjqbN2/G3bn33nvjPlYilWL17hORrso+ZjzZMNl67969vfoMXEuXLuWggw5KU0R1t2nTJpo3b467c8UVV3DAAQdw7bXXpjusjFV5vNavX8+hhx7KnDlz2HvvvRvs/bP1cyTJlSvJ3sxK3L139eV5UfFnkr/97W88/vjjbNmyhR49enDppZemO6SMdsopp1BWVsaWLVv4zW9+06BJXyRSfa/KadLIaN50J8q+29qg9wolgxJ/il177bWq8BMQq68v0pCqn6xNtMLPlBZOvJT4RSRvRVb5dVHQpDG/P6tb1iT8Skr8IpJX6tu/z4TefX0p8YtIzqtv/z4Xkn0kJX4RyUlK9rHlxQ1cyVI5FHHXrl0ZMmQI3333XULbr169mrPPPhsI3aQVeU3+tGnTuOuuuxo0XoCRI0dyzz33xL1+Qw0XPWzYsPAwFLFGDb3ooovCwzaI1EfkwIxQt5O16bq5KhXyp+Jf+Exo9poNpaExrQfcWu+R7iKHIj7//PN5+OGHue666+LevrCwMJzoFixYwLx58xg0aBAQGks/nnHts8UjjzyS7hAkD+TrydpE5UfFv/CZ0HyVSZq/EqBfv34sX76cr7/+mjPOOIOioiIOP/xwFi5cCMA///nP8EQlPXr0YOPGjeHJSLZs2cKtt97K008/TXFxMU8//XSVSvuzzz5jwIABFBUVMWDAAFauXAmEKuSrr76aI488ko4dO8aslu+44w46d+7Mcccdx7Jly8LLP/nkE0488UR69epFv379ap1MZvr06Rx22GH06NGD4447ji+//HKHdbZv384NN9xAt27dKCoqYsyYMQD079+fyJvwrr/+enr27MmAAQNYt27dDu9TUlLC0UcfTa9evRg4cCBr1qypMTbJX7GGQI5X5BAK+ZD0IV8S/8xRofkqI1XOX9kAtm3bxssvv0y3bt247bbb6NGjBwsXLuTOO+/kwgsvBOCee+7hoYceYsGCBbz11ltVBmDbeeedGTVqFEOHDmXBggU7DPlw5ZVXcuGFF7Jw4ULOP/98rr766vBra9asYfbs2bzwwgs7DCEBoQQ6adIk5s+fz5QpU3j33XfDrw0fPpwxY8ZQUlLCPffcw+WXX17j99m3b1/eeecd5s+fz7nnnhsekC7S2LFj+c9//sP8+fPD8Vb37bff0rNnT9577z2OPvpofvvb31Z5fevWrVx11VVMnjyZkpISLr74Yn71q1/VGJvkl/qOd58J4+WkU360emLNU1nP+SvLy8spLi4GQhX/JZdcwmGHHRaeqvDYY49l/fr1bNiwgT59+nDddddx/vnnc9ZZZ4WHbI7H3LlzmTJlChAazvimm24Kv3bGGWfQqFEjunTpErUCf+uttzjzzDPDY/NXto82bdrE22+/zZAhP0yJUDnOTSylpaUMHTqUNWvWsGXLlvDw0pFmzJjBL37xC3baKfTR2n333XdYp1GjRuFfbj/5yU8466yzqry+bNkyFi1axPHHHw+E/orYZ599aoxN8kddb7bK5ZO1icqPxN9qv6DNE2V5PUSbbjDa2EdmxogRIzj55JN56aWXOPzww5kxYwZNmzat034jhzeOHP451rhL0YZDrqiooHXr1gmNWHnVVVdx3XXXcdpppzFr1qyoU03WNPxyLNXXd3cOPvhg5s6dm9D7SG6rT/9eyb6q/Gj1DLg1NF9lpAacvzLSUUcdFR5yeNasWbRp04aWLVvyySef0K1bN26++WZ69+69Qz+9RYsWbNy4Mep7HnnkkeGpHSdMmEDfvn0Timfq1KmUl5ezceNGpk+fDkDLli3p0KEDzz77LBBKtu+//36N77Vhwwb23Tf0H+fxxx+Pus4JJ5zAww8/zLZt2wDC8/VGqqioCJ+PeOqpp3b4fjp37sy6devCiX/r1q0sXrw43m9Zckh9+/cFTRpz39DivGrjxCM/En/ROaH5Klv9CLDQ1wacvzLSyJEjmTdvHkVFRYwYMSKcIO+77z66du1K9+7dKSgo4KSTTqqy3THHHMOSJUvCJ3cjPfDAAzz22GMUFRXxxBNPcP/998cdT8+ePRk6dCjFxcUMHjyYfv36hV+bMGEC48aNo3v37hx88MH84x81T4E8cuRIhgwZQr9+/cLz8FY3bNgw2rVrR1FREd27d486+fmuu+7K4sWL6dWrF2+88Qa33lr1F/DOO+/M5MmTufnmm+nevTvFxcW8/fbbcX/PkhvqeklmPp6sTZSGZZa8ps9R5qlLS0f9++g0LLOIZKz6jJ+jZJ84JX4RSYv6DqmQLzdbJUNWJ/66XEEiUikb2py5SpdkplfWJv6mTZuyfv169thjDyV/SZi7s379+jpfUiuJq6zwV5eV08iM7Qn+4lWybzhZm/j3228/SktLo97uLxKPpk2bJnQjnSQuVjsnkaSvlk7Dy9rE36RJk6h3jopIZqjPdIZq6SRX1iZ+EclMdb3DVsk+dZT4RaTBVK/ya9PYjAp3CpXsU0qJX0TqrS5Vvnr36aPELyJ1UpebrtTOyQxK/CKSsLqcuFWyzxxK/CISN7V0ckNaEr+ZXQsMI1QofAD8zN03pyMWEamZxtHJPSlP/Ga2L3A10MXdy83sGeBcYHyqYxGRmtX1WnxV+ZktXa2enYACM9sKNANWpykOEYlCQyPntpQnfndfZWb3ACuBcuA1d3+t+npmNhwYDtCuXbvUBimSh9TSyR/paPXsBpwOdADKgGfN7Cfu/mTkeu4+FhgLoYlYUh2nSD5RSye/pKPVcxzwH3dfB2BmU4AjgSdr3EpEGpxaOvkpHYl/JXC4mTUj1OoZAMyreRMRaWiJDq8ASva5Ih09/n+Z2WTgPWAbMJ+gpSMiyadr8SUtV/W4+23AbenYt0g+S6TKV0snd+nOXZE8kGiVr2Sf25T4RXJUXS7PVEsnPyjxi+QgDaImNVHiF8khOnEr8VDiF8kRujxT4qXEL5LlVOVLopT4RbKQZr+S+lDiF8kyOnEr9aXEL5Il1NKRhqLEL5IFdOJWGpISv0iGqqzwV5eV08iM7R7fYMmq8qU2SvwiGah6hV9b0teJW0mEEr9IBqlLH1/JXhKlxC+SIRLt46ulI3WlxC+SZolU+Y3NqHCnUFW+1IMSv0gaJVLlq8KXhqLEL5IGGh9f0kmJXyTFVOVLuinxi6SIqnzJFEr8IkmkWbAkEynxiySJBlOTTKXEL9LANJiaZDolfpEGpMHUJBso8Ys0AFX5kk2U+EXqKZEqX4OpSSZQ4hepI12eKdlKiV+kDnQTlmQzJX6RBKjKl1ygxC8SJ1X5kiuU+EVqoSpfck1aEr+ZtQYeAboSusjhYnefm45YRGqiKl9yUboq/vuBV9z9bDPbGWiWpjhEolKVL7ks5YnfzFoCRwEXAbj7FmBLquMQiUVVvuS6dFT8HYF1wGNm1h0oAX7p7t9GrmRmw4HhAO3atUt5kJJ/VOVLvmiUhn3uBPQE/uLuPYBvgRHVV3L3se7e2917t23bNtUxSp6prPLjSfoFTRpz39Bi5ow4VklfslI6Kv5SoNTd/xU8n0yUxC+SCqryJR/FlfjNbDegECgHVrh7RV136O5fmNnnZtbZ3ZcBA4AldX0/kbpSL1/yVczEb2atgCuA84CdCfXlmwJ7mdk7wJ/d/f/quN+rgAnBFT2fAj+r4/uI1NkfX10WV9JXlS+5pqaKfzLwd6Cfu5dFvmBmvYALzKyju49LdKfuvgDoneh2Ig0h3vaOqnzJVTETv7sfX8NrJYSuxhHJKvG2d1TlSy6Lt8dfBLSPXN/dpyQpJpEGpypf5Ae1Jn4zexQoAhYDlSd1HVDil6ygKl+kqngq/sPdvUvSIxFpYIlcqrlv6wLmjDg2BVGJpF88N3DNNTMlfskqid6QdePAzimISiQzxFPxP04o+X8BfE8wbai7FyU1MpE60A1ZIrWLJ/E/ClwAfMAPPX6RjKMbskTiE0/iX+nu05IeiUgdVFb4q8vKaWTGdvdat1GVL/kunsT/oZk9BUwn1OoBdDmnpF/1Cr+2pK8qXyQknsRfQCjhnxCxTJdzStok2scHVfkikWpN/O6ucXQkYyTSxwdV+SLR1DRI268JDcT2dYzXjwWaufsLyQpOpFIiVX5jMyrcKVSVLxJVTRX/B8B0M9sMvMcPo3MeABQDM4A7kx2giK7WEWlYNQ3S9g/gH2Z2ANAH2Af4BngSGO7u8TdYRepBwyeLNKx4evwfAx+nIBaRKjSwmkhypGPqRZFaaWA1keRR4peMoipfJPmU+CVjqMoXSY0aE7+ZNQVOAfrxw2Tri4AX3X1x8sOTfKDhk0VSq6br+EcCpwKzgH8BawldztkJuCv4pXC9uy9MfpiSqxK9VFPDJ4vUX00V/7vuPjLGa6PNbE+gXcOHJPlEl2qKpF5N1/G/CGBmQ9z92cjXIpatTXJ8kqN0ElckfeKZgeuWOJeJxCXe2bH2bV2gpC+SBDX1+E8CBgH7mtkDES+1BLYlOzDJParyRTJDTT3+1UAJcFrwtdJG4NpkBiW5R5dqimSOmnr87wPvm9kEd9+awpgkh+hSTZHME7PHb2bTzezUGK91NLNRZnZx8kKTbBdvLx90qaZIKtXU6vk5cB1wn5l9zQ/DMrcHPgEeDEbwFKki0Rmy1N4RSa2aWj1fADcBN5lZe0LDMpcDH7n7d6kJT7KNxs4XyXy1jtVjZlcCT7r7iuSHI9lON2SJZL54BmnbG5hnZu8BjwKvursnNyzJNrpUUyR71HoDl7v/mtB0i+OAi4CPzexOM9u/Pjs2s8ZmNt/MNGdvltMNWSLZJa5hmd3dzewL4AtCN2/tBkw2s9fd/aY67vuXwFJCN4RJFlKVL5Kdaq34zexqMysB/gDMAbq5+2VAL2BwXXZqZvsBJwOP1GV7ST9V+SLZK56Kvw1wlrt/FrnQ3SvM7JQ67vc+QlcMtYi1gpkNB4YDtGunQUAzTTwncXVDlkhmiqfHf2v1pB/x2tJEdxj8sljr7iU1refuY929t7v3btu2baK7kSR5fv4q+tz1RlztHd2QJZKZ0jH1Yh/gNDMbROiGsJZm9qS7/yQNsUgCNN6OSG5IeeJ391sIhnU2s/7ADUr6mU0ncUVyiyZblxqpyhfJPWlN/O4+i9CcvpKhdBJXJPeo4peoEmnv6CSuSHZR4pcdqL0jktuU+CVMJ3FF8oMSvwCq8kXyiRJ/ntPUiCL5R4k/jyU6aYpO4orkBiX+PKZJU0TykxJ/nqls7awuK6e22XR0ElckNynx55FEWjuq8kVylxJ/HkjkBK6qfJHcp8Sf4+Kt8g0oVJUvkheU+HOcxtoRkeqU+HOUxtoRkViU+HOQ7sIVkZoo8eeg2to7OoErkt+U+HNIPO0dVfkiosSfI+Jp7+gkroiAEn/W00lcEUmUEn8W00lcEakLJf4spmv0RaQulPizkNo7IlIfSvxZRu0dEakvJf4soflwRaShKPFnAVX5ItKQlPizgE7iikhDUuLPYDqJKyLJoMSfodTeEZFkUeLPUBpoTUSSRYk/w2igNRFJNiX+DKKB1kQkFVKe+M3sR8Dfgb2BCmCsu9+f6jgyiU7iikgqpaPi3wZc7+7vmVkLoMTMXnf3JWmIJe10EldEUi3lid/d1wBrgscbzWwpsC+Ql4lf1+iLSKo1SufOzaw90AP4V5TXhpvZPDObt27dupTHlmzPz19Fn7veUHtHRFIubYnfzJoDzwHXuPs31V9397Hu3tvde7dt2zb1ASZRZXuntqS/b+sCXbIpIg0uLVf1mFkTQkl/grtPSUcM6aRr9EUkndJxVY8B44Cl7j461ftPJ12jLyKZIB0Vfx/gAuADM1sQLPtfd38pDbGkjK7RF5FMkY6remYDlur9pls87R2dxBWRVNCdu0mm9o6IZBol/iRSe0dEMpESfxJoCAYRyWRK/A1MQzCISKZT4m9gGoJBRDKdEn8DUXtHRLKFEn8DUHtHRLKJEn8D0BAMIpJNlPjrQdfoi0g2UuKvI12jLyLZKq3j8WczDcEgItlKFX+C1N4RkWynxJ8AtXdEJBco8cdB1+iLSC5R4q+FrtEXkVyjxF8LDcEgIrlGiT+KytbO6rJyvJZ11d4RkWyjxF9NvK0dUHtHRLKTEn818bR2NASDiGQzJf5APFfuGFCoKl9EspwSP7o+X0Tyi4ZsQMMviEh+yeuKX8MviEg+ytvEr/aOiOSrvG31qL0jIvkq7yp+tXdEJN/lVeJXe0dEJM9aPWrviIjkScWv9o6IyA9yPvGrvSMiUlXOt3rU3hERqSotid/MTjSzZWa23MxGJGMfz89fRZ+73qi1vaPB1kQk36S81WNmjYGHgOOBUuBdM5vm7ksaah9q74iIxJaOiv9QYLm7f+ruW4BJwOkNuQO1d0REYktH4t8X+DzieWmwrAozG25m88xs3rp16xLawWq1d0REYkrHVT0WZdkOMxy6+1hgLEDv3r1rmwGxisLWBVF7+2rviIikp+IvBX4U8Xw/YHVD7uDGgZ0paNK4yjK1d0REQtJR8b8LHGBmHYBVwLnA/2vIHVS2cSonTNesWSIiP0h54nf3bWZ2JfAq0Bh41N0XN/R+zuixrxK9iEgUablz191fAl5Kx75FRPJdzt+5KyIiVSnxi4jkGSV+EZE8o8QvIpJnzD2he6PSwszWAZ/VcfM2wFcNGE5DUVyJUVyJUVyJydS4oH6x/djd21ZfmBWJvz7MbJ679053HNUprsQorsQorsRkalyQnNjU6hERyTNK/CIieSYfEv/YdAcQg+JKjOJKjOJKTKbGBUmILed7/CIiUlU+VPwiIhJBiV9EJM/kdOJPxaTuccbxIzP7PzNbamaLzeyXwfKRZrbKzBYE/walIbYVZvZBsP95wbLdzex1M/s4+LpbimPqHHFMFpjZN2Z2TTqOl5k9amZrzWxRxLKYx8fMbgk+b8vMbGCK4/qjmX1oZgvNbKqZtQ6Wtzez8ojj9nCK44r5c0vz8Xo6IqYVZrYgWJ7K4xUrNyT3M+buOfmP0JDPnwAdgZ2B94EuaYplH6Bn8LgF8BHQBRgJ3JDm47QCaFNt2R+AEcHjEcDdaf45fgH8OB3HCzgK6Aksqu34BD/T94FdgA7B569xCuM6AdgpeHx3RFztI9dLw/GK+nNL9/Gq9vqfgFvTcLxi5YakfsZyueJP+qTu8XL3Ne7+XvB4I7CUKPMMZ5DTgceDx48DZ6QvFAYAn7h7Xe/crhd3fxP4utriWMfndGCSu3/v7v8BlhP6HKYkLnd/zd23BU/fITS7XUrFOF6xpPV4VTIzA84BJiZj3zWpITck9TOWy4k/rkndU83M2gM9gH8Fi64M/jR/NNUtlYADr5lZiZkND5bt5e5rIPTBBPZMQ1yVzqXqf8h0Hy+IfXwy6TN3MfByxPMOZjbfzP5pZv3SEE+0n1umHK9+wJfu/nHEspQfr2q5IamfsVxO/HFN6p5KZtYceA64xt2/Af4C7A8UA2sI/bmZan3cvSdwEnCFmR2VhhiiMrOdgdOAZ4NFmXC8apIRnzkz+xWwDZgQLFoDtHP3HsB1wFNm1jKFIcX6uWXE8QLOo2pxkfLjFSU3xFw1yrKEj1kuJ/6kT+qeCDNrQugHO8HdpwC4+5fuvt3dK4C/kaQ/c2vi7quDr2uBqUEMX5rZPkHc+wBrUx1X4CTgPXf/Mogx7ccrEOv4pP0zZ2Y/BU4BzvegKRy0BdYHj0sI9YU7pSqmGn5umXC8dgLOAp6uXJbq4xUtN5Dkz1guJ/7wpO5B5XguMC0dgQQ9xHHAUncfHbF8n4jVzgQWVd82yXHtamYtKh8TOjm4iNBx+mmw2k+Bf6QyrghVKrF0H68IsY7PNOBcM9vFzDoABwD/TlVQZnYicDNwmrt/F7G8rZk1Dh53DOL6NIVxxfq5pfV4BY4DPnT30soFqTxesXIDyf6MpeLMdbr+AYMInSX/BPhVGuPoS+jPsYXAguDfIOAJ4INg+TRgnxTH1ZHQFQLvA4srjxGwBzAT+Dj4unsajlkzYD3QKmJZyo8XoV88a4CthKqtS2o6PsCvgs/bMuCkFMe1nFD/t/Iz9nCw7uDg5/s+8B5waorjivlzS+fxCpaPB35Rbd1UHq9YuSGpnzEN2SAikmdyudUjIiJRKPGLiOQZJX4RkTyjxC8ikmeU+EVE8owSv0gEM9vHzF4IHhdXG0nyFDP7bQ3bnmFmtya4vxlpHHpC8pQSv0hV1xG6uxRCQwxEDv38InCamTWLse1NwJ8T3N8TwOUJbiNSL0r8knfM7JBgwLCmwd3Li82sa/DyYOCV4G7vUcDQYEz2oR666WUWoSERqr9nJ+B7d/8qeD7ezP4SjLX+qZkdHQxQttTMxkdsOo3QHcoiKbNTugMQSTV3f9fMpgG3AwXAk+6+KLgF/r/u/j1A0Lbp7e5XRmw+j9Bojs9Ue9s+hO7yjLQbcCyhgeamB+sMA941s2J3X+Du/w1uv9/Dg/FhRJJNFb/kq1HA8UBvQpNeQGhSjHW1bLcWKIyyPNq204O/Ej4gNOzvBx4aqGwxock+antPkaRQ4pd8tTvQnNCsR02DZeURj2NpGqxXXbRtvw++VkQ8rnwe+dd2rPcUSQolfslXY4HfEBqz/u5g2UdUrcQ3EvrFEKkT0UcFXQr8T6JBBKMz7k1oCkyRlFDil7xjZhcC29z9KeAu4BAzO9bdvwU+MbPKBP5/QJfKk7vBsmMIXd1T3ZtAjyCRJ6IX8I7/MGWiSNJpdE6RCGZ2JtDL3X8d5bW9gKfcfUCMbe8n1NefkcD+7gemufvMusYskihV/CIR3H0qsdsu7YDra9j8TkLzCCRikZK+pJoqfhGRPKOKX0Qkzyjxi4jkGSV+EZE8o8QvIpJnlPhFRPLM/weRifKXFdhmPwAAAABJRU5ErkJggg==\n",
      "text/plain": [
       "<Figure size 432x288 with 1 Axes>"
      ]
     },
     "metadata": {
      "needs_background": "light"
     },
     "output_type": "display_data"
    }
   ],
   "source": [
    "\"\"\"\n",
    "Fonction ballistique avec un changement pour t_sol\n",
    "\"\"\"\n",
    "\n",
    "def ballistique_1(alpha, v_0):\n",
    "    \"\"\"\n",
    "    Variables\n",
    "    \"\"\"\n",
    "    alpha_r = alpha*np.pi/180\n",
    "    t_sol = 200/v_0*np.cos(alpha_r)\n",
    "    x_ran = np.linspace(0,t_sol,100)\n",
    "    x = np.array([v_0*np.cos(alpha_r)*x_ran])\n",
    "    y = np.array([(v_0*np.sin(alpha_r)*x_ran-(g*x_ran**2/2))])\n",
    "    \n",
    "    \"\"\"\n",
    "    Graphes\n",
    "    \"\"\"\n",
    "    \n",
    "    plt.scatter(x,y, label = \"Angle : \" + str(round(alpha,4)) + \" degrés\")\n",
    "    plt.xlabel(\"x(t) (m)\")\n",
    "    plt.scatter([200],[10], marker = 'o', label =\"Position de la cible\")\n",
    "    plt.ylabel(\"y(t) (m)\")\n",
    "    plt.title(\"Trajectoire\")\n",
    "    plt.legend()\n",
    "    plt.show()\n",
    "ballistique_1(0.0745*180/np.pi,200)"
   ]
  },
  {
   "attachments": {
    "monte_carlo_rad.png": {
     "image/png": "iVBORw0KGgoAAAANSUhEUgAABu4AAAK0CAYAAADs0cvZAAAABHNCSVQICAgIfAhkiAAAAAlwSFlzAAAuIwAALiMBeKU/dgAAABl0RVh0U29mdHdhcmUAd3d3Lmlua3NjYXBlLm9yZ5vuPBoAACAASURBVHic7N1ndBXl2sbxa6eSBoSQ0EIApReVXqSK1FAVKYJwjEhRRCygKEgRFBQVlSYWFJQiWKgGC71ID1WkdxICJJT0Mu8HV3iPR0CSzGRPwv+3Fl/IPNfcs5Jn9sy+pzgMwzAEAAAAAAAAAAAAwKlcnF0AAAAAAAAAAAAAABp3AAAAAAAAAAAAgC3QuAMAAAAAAAAAAABsgMYdAAAAAAAAAAAAYAM07gAAAAAAAAAAAAAboHEHAAAAAAAAAAAA2ACNOwAAAAAAAAAAAMAGaNwBAAAAAAAAAAAANkDjDgAAAAAAAAAAALABGncAAAAAAAAAAACADdC4AwAAAAAAAAAAAGyAxh0AAAAAAAAAAABgAzTuAAAAAAAAAAAAABugcQcAAAAAAAAAAADYAI07AAAAAAAAAAAAwAZo3AEAAAAAAAAAAAA2QOMOAAAAAAAAAAAAsAEadwAAAAAAAAAAAIAN0LgDAAAAAAAAAAAAbIDGHQAAAAAAAAAAAGADNO4AAAAAAAAAAAAAG6BxBwAAAAAAAAAAANgAjTsAAAAAAAAAAADABmjcAQAAAAAAAAAAADZA4w4AAAAAAAAAAACwARp3AAAAAAAAAAAAgA3QuAMAAAAAAAAAAABsgMYdAAAAAAAAAAAAYAM07gAAAAAAAAAAAAAboHEHAAAAAAAAAAAA2ACNOwAAAAAAAAAAAMAGaNwBAAAAAAAAAAAANkDjDgAAAAAAAAAAALABGncAAAAAAAAAAACADdC4AwAAAAAAAAAAAGyAxh0AAAAAAAAAAABgAzTuAAAAAAAAAAAAABugcQcAAAAAAAAAAADYAI07AAAAAAAAAAAAwAZo3AEAAAAAAAAAAAA2QOMOAAAAAAAAAAAAsAEadwAAAAAAAAAAAIAN0LgDAAAAAAAAAAAAbIDGHQAAAAAAAAAAAGADNO4AAAAAAAAAAAAAG6BxBwAAAAAAAAAAANgAjTsAAAAAAAAAAADABmjcAQAAAAAAAAAAADZA4w4AAAAAAAAAAACwARp3AAAAAAAAAAAAgA3QuAMAAAAAAAAAAABsgMYdAAAAAAAAAAAAYAM07gAAAAAAAAAAAAAboHEHAAAAAAAAAAAA2ACNOwAAAAAAAAAAAMAGaNwBAAAAAAAAAAAANkDjDgAAAAAAAAAAALABGncAAAAAAAAAAACADdC4AwAAAAAAAAAAAGyAxh0AAAAAAAAAAABgAzTuAAAAAAAAAAAAABugcQcAAAAAAAAAAADYAI07AAAAAAAAAAAAwAZo3AEAAAAAAAAAAAA2QOMOAAAAAAAAAAAAsAEadwAAAAAAAAAAAIAN0LgDAAAAAAAAAAAAbIDGHQAAAAAAAAAAAGADNO4AAAAAAAAAAAAAG6BxBwAAAAAAAAAAANgAjTsAAAAAAAAAAADABmjcAQAAAAAAAAAAADZA4w4AAAAAAAAAAACwARp3AAAAAAAAAAAAgA3QuAMAAAAAAAAAAABsgMYdAAAAAAAAAAAAYAM07gAAAAAAAAAAAAAboHEHAAAAAAAAAAAA2ACNOwAAAAAAAAAAAMAGaNwBAAAAAAAAAAAANkDjDgAAAAAAAAAAALABGncAAAAAAAAAAACADdC4AwAAAAAAAAAAAGyAxh0AAAAAAAAAAABgAzTuAAAAAAAAAAAAABugcQcAAAAAAAAAAADYAI07AAAAAAAAAAAAwAZo3OGuceXKFZ04cULx8fHOLgVADomLi9Px48d17do1Z5cCwMaio6N1+vRpJSUlObsUADkkNjZWJ0+eVEJCgrNLAQAAFktMTNTp06d18eJFZ5cCAHeExh3yrGPHjmnChAlq2LChvLy8VLBgQZUpU0Y+Pj4qUKCAQkNDNX36dD60gTwkKipKU6ZMUevWrZU/f375+vrqnnvuUf78+eXt7a2mTZvq3Xff1alTp5xdKgAn2rFjh4YPH6777rtPHh4eCgoKUkhIiPLly6eiRYvq8ccf17x585SYmOjsUgGY5NChQxo/frzq168vLy8v+fv7q3Tp0vL29pa/v786duyoTz/9VLGxsc4uFQAAZFN8fLxmz56trl27KjAwUF5eXgoJCVFgYKA8PT1VvXp1jRw5Urt373Z2qQBwUw7DMAxnFwGY6ezZsxo7dqxmzZqllJSUf10+f/78evHFF/XSSy/J19c3ByoEYLbY2Fi9++67+vDDDxUXF/evy3t4eKhfv34aMWKEihQpkgMVArCDPXv26PXXX9eyZcvuaPmSJUvqjTfe0JNPPilXV1eLqwNghZMnT2r06NGaM2eO0tLS/nV5f39/DRs2TIMHD5a3t3cOVAgAAMySkpKimTNnaty4cYqMjPzbz7y8vP5xp73D4VDnzp01btw4VapUKSdLBYDbonGHPOW3335T165ddfny5UyPrVChghYvXqwKFSpYUBkAq+zbt08dO3bUsWPHMj02KChIixYtUqNGjSyoDICdzJgxQ4MHD76ji3r+V4sWLTR//nwVKlTIgsoAWGXFihV6/PHHdeXKlUyPrVatmhYvXqwyZcpYUBkAADDbhQsX1KVLF61fv16SVLZsWfXq1Utt2rRRpUqV5Ofnp9TUVEVGRmr9+vX68ccf9f333ys1NVX58uXTjBkz1KdPHydvBQD8hcYd8oxZs2apX79+Sk1NzXJGwYIFtWTJEr7EB3KJ3377TZ07d87WO+w8PDw0a9YsPf744yZWBsBOXnjhBU2ePDlbGWXLltVvv/2mkJAQk6oCYKVp06Zp8ODBd3SX3a0ULlxYK1asUO3atU2sDAAAmO3IkSN6+OGHdfLkSRUqVEgTJkzQk08+KTc3t9uO+/PPPzV06FAtXbpUkvTaa69p/PjxOVEyANwWjTvkCatXr1arVq2ydBX9/ypcuLC2bt3K1bWAzR06dEh169Y15V00np6eWrVqlRo0aGBCZQDs5MMPP9SQIUNMyapevbo2bNjA4/MAm1uxYoU6dOiQraZdhuLFi2vbtm0qXry4CZUBAACzXb16VfXq1dMff/yhihUrasmSJSpXrtwdjzcMQ+PGjdOoUaNkGIZmzpypp59+2sKKAeDf0bhDrhcZGamqVavq0qVLpmU+8MAD2rZt279emQPAOZKTk3X//ffr4MGDpmUWLVpU+/fv51F4QB6yceNGNW3aNFt34/+vPn366MsvvzQtD4C5Tp06pWrVqunq1aumZTZo0EAbNmyQw+EwLRMAAJjj0Ucf1ffff6+QkBBt3bo1y++xnzBhgoYPHy4PDw9t3rxZNWrUMLlSALhzLs4uAMiu8ePHm9q0k6SIiAjNnj3b1EwA5pk5c6apTTvpr4sAJk6caGomAOd65ZVXTG3aSdLs2bO1a9cuUzMBmGf06NGmNu0kadOmTfr2229NzQQAANm3ceNGff/99/Lw8NDixYuz3LST/jp36NKli5KTk/Xqq6+aWCUAZB533CFXO3PmjO69914lJyebnh0SEqKjR49y1x1gM0lJSSpdurQiIyNNz/b29tbx48cVFBRkejaAnLVy5Uq1bt3akuz27dtryZIllmQDyLojR46oYsWKpjwi839VqFBBf/zxB3fdAQBgI82bN9eqVav07LPPasqUKdnOO3XqlMqXL6+kpCStW7dOjRo1MqFKAMg87rhDrvb9999b0rST/vqw3rx5syXZALJu9erVljTtJCk+Pp4v44E8Yt68eZZlh4eHm/J+TQDmWrhwoSVNO0n6888/udsWAAAbiYyM1Jo1a+Tq6qrXXnvNlMyQkBD16dNHkjR//nxTMgEgK2jcIVdbunSppfnLli2zNB9A5lk9L5n3QO6XlpamFStWWJafkpKilStXWpYPIGs4NwAA4O6xfPlypaenq06dOipevLhpuZ07d5bE5z4A56Jxh1wtIiLC0nyuqgXsx+p5b3U+AOudPXtW0dHRlq6DYwTAfjg3AADg7pHxud+sWTNTc5s0aSIXFxedOnVKly9fNjUbAO4UjTvkWsnJybp06ZKl67DqcXwAsu78+fOW5/P6VyB3s3o/IXGMANhNbGysEhISLF0H8x4AAPvIOOYPDg42NdfLy0sBAQF/WwcA5DQad8i14uLiLP9y/erVq5bmA8i8a9euWZqfnJyspKQkS9cBwFrXr1+3fB1XrlyxfB0A7lxOzHvODQAAsI+M7wb8/PxMz86fP78kPvsBOA+NO+RaBQsWlLu7u6XrCAoKsjQfQOYFBgZamp8/f37ly5fP0nUAsJbV+wlJKlKkiOXrAHDnAgMD5XA4LF0H5wYAANhHxjG/FY/Ij4qKksQxPwDnoXGHXMvhcKho0aKWrsPMl9sCMIfV85J5D+R+xYoVs3wd7CsAe/H09JS/v7+l62DeAwBgHxmfy0ePHjU198KFC7p+/bpcXFws/94RAG6Fxh1ytSZNmlia37hxY0vzAWSe1fPS6v0KAOsFBgaqcuXKlq6DYwTAfjg3AADg7pHxufzTTz+ZmrtixQpJUq1ateTt7W1qNgDcKRp3yNVCQ0NzdT6AzGvXrp2l+W3btrU0H0DOsPIzvGDBgnrwwQctyweQNVbOe4fDwbkBAAA20rx5c3l5eenYsWPavHmzabnz5s2TxHeCAJyLxh1ytQ4dOlh223qTJk1UoUIFS7IBZN0DDzyg2rVrW5JdqlQptWrVypJsADnrqaeekpubmyXZYWFhlr9nF0DmdenSRYUKFbIku23btgoODrYkGwAAZJ6Xl5eeeOIJSdLIkSNNyVy7dq1+/vlneXp6qk+fPqZkAkBW0LhDrubt7a3XX3/dkuy33nrLklwA2eNwODR+/HhLskeNGiVPT09LsgHkrAoVKtw4kTeTn5+fhg8fbnougOwrUKCAhg0bZnqui4uLxo0bZ3ouAADInpEjRypfvnz67bff9Pnnn2cr6+rVqxo4cKAkqX///ipVqpQZJQJAltC4Q67Xr18/1alTx9TMsLAwNWjQwNRMAOZp0aKFunXrZmpm48aN1bt3b1MzATjXuHHjTL8zf8KECSpcuLCpmQDM89xzz+m+++4zNXPQoEF64IEHTM0EAADZFxwcrFGjRkmSnnnmGa1duzZLOSkpKerZs6f++OMPhYSEmHYHHwBklcMwDMPZRQDZde7cOdWuXVvnzp3LdlbdunW1du1a7roBbC4+Pl4NGzbUrl27sp0VEhKibdu2KSgoyITKANjJ5s2b1axZMyUlJWU766mnntJnn31mQlUArHTixAnVrl1bFy9ezHZWs2bNtHLlSh6PCwCATRmGoccff1zz589Xvnz59Mknn2Tqotzo6Gh16dJF69atk7e3t9avX68aNWpYWDEA/DvuuEOeULx4cYWHh6t06dLZyqlfv74WL15M0w7IBby9vbVs2TLVqlUrWzlly5ZVeHg4TTsgj6pfv74WLVokPz+/bOX06tVL06ZNM6kqAFYqXbq0wsPDVaJEiWzlNGvWTIsWLaJpBwCAjTkcDn3xxRfq0qWLEhMT1adPH3Xq1En79u277bjk5GR99NFHqlq1qtatWyd/f3/98MMPNO0A2AJ33CFPiY6OVo8ePfTbb79lapzD4dDTTz+tjz76iKYdkMskJCRowIABmj17dqbHtm3bVl9//bX8/f0tqAyAnezfv19dunTRwYMHMzXO09NTb731ll588UWLKgNglfPnz6tbt25av359psa5uLjoueee06RJk+Tm5mZRdQAAwEyGYWj8+PEaO3asUlJS5HA4VLNmTYWGhqpcuXIqWrSo4uPjde7cOa1bt07h4eG6fPmyJKlatWr67rvvVK5cOSdvBQD8hcYd8qSlS5dqxIgR2rNnz78u27JlS40fPz7bd+0AcK7Nmzfrtdde05o1a/512Zo1a2rcuHFq3bq19YUBsI2UlBR9/vnnGjdunM6ePXvbZd3c3NSrVy+NHj2aF9MDuZhhGPr+++81cuRI/fHHH7dd1uFwKDQ0VOPGjdP999+fQxUCAAAzHTlyRG+88YYWLFig9PT02y5bqlQpjRo1Sr1795arq2sOVQgA/47GHfK0vXv3avny5dq+fbsiIyMVGxurgIAABQcHq2HDhgoNDVVISIizywRgouPHj2vZsmXatGmTzp07p0uXLsnf31/FihVT7dq11a5dO1WqVMnZZQJworS0NP3+++9avny59u/fr6ioKMXFxalYsWIKDg7Www8/rNatW6tQoULOLhWAiSIiIrR8+XLt3LlTkZGRunLligIDAxUcHKxGjRopNDQ024/XBAAA9hAdHa2ffvpJq1at0pkzZxQZGan8+fMrKChI1apVU7t27VS7dm25uPAmKQD2Q+MOAAAAAAAAAAAAsAEuKQAAAAAAAAAAAABsgMYdAAAAAAAAAAAAYAM07gAAAAAAAAAAAAAboHEHAAAAAAAAAAAA2ACNOwAAAAAAAAAAAMAGaNwBAAAAAAAAAAAANkDjDgAAAAAAAAAAALABGncAAAAAAAAAAACADdC4AwAAAAAAAAAAAGyAxh0AAAAAAAAAAABgAzTuAAAAAAAAAAAAABugcQcAAAAAAAAAAADYAI07AAAAAAAAAAAAwAZo3AEAAAAAAAAAAAA2QOMOAAAAAAAAAAAAsAE3ZxcAWO3s2bPauXOnoqKiFBMTo8DAQBUtWlT16tVTwYIFnV0eAAtcvnxZW7ZsUVRUlC5cuKCAgAAVKVJEtWrVUtGiRZ1dHgCb+OOPP3Tw4EGdO3dOSUlJCgoKUsmSJVW3bl3ly5fP2eUBsMCpU6cUERGhyMhIXblyRUFBQSpWrJjq1aun/PnzO7s8AABgooSEBP3+++86c+aMLly4IC8vLxUvXlxVqlRRuXLlnF0eANwSjTvkSfHx8Zo+fbrmzp2rXbt2yTCMfyzj5uamRo0a6amnnlKPHj3k4sINqEBulpqaqjlz5mjWrFnatGmT0tLS/rGMw+FQrVq11KtXL/Xv31+enp5OqBSAM124cEHvvfeevvvuOx09evSmy/j4+KhFixYaPHiwmjVrlsMVAjDb9evX9fHHH2vBggXavXv3TZfx8PBQ48aN1a9fP3Xp0kUOhyOHqwQAAGYJDw/X1KlT9dtvvykhIeGmy5QvX15du3bVkCFDFBAQkMMVAsDtOYybdTSAXOyrr77S8OHDdf78+TseU7VqVX388cdq2rSpdYUBsMzKlSs1ZMgQHTx4UNJfDboqVaqodOnSCggIUExMjE6fPq3du3crPT1dklSyZEm988476t69uzNLB5BDUlNTNW7cOL333nu6fv26JMnLy0s1atRQsWLF5O3traioKB04cECnT5++Ma5FixaaMmWKypcv76zSAWTDJ598ojfeeEMXLlyQ9NfFexnzvmDBgrp48aIOHz6sQ4cO3RhTo0YNTZkyRfXr13dW2QAAIAv27dunZ555RuvXr7/xf6VLl1alSpUUGBio69ev6/z589q1a5cSExMlSQUKFNCrr76qYcOGcVE/ANugcYc8IyUlRUOGDNG0adOyNN7NzU3vvfeeBg8ebHJlAKz07rvvavjw4UpLS1NQUJCGDRumbt26KTg4+B/LRkdH64cfftDbb7+tEydOSJJefPFFvfPOO3J1dc3hygHklJiYGHXr1k2//PKLJKl+/fp65ZVX1KJFC3l7e/9j+b1792rWrFmaPn26EhMTVbBgQc2bN0+tW7fO6dIBZFFSUpIGDhyoWbNmSZIqVqyo4cOHq3379vL39//H8seOHdPcuXP13nvvKTY2Vh4eHpo6dar69u2b06UDAIAsWLx4sZ544gldu3ZN3t7eevbZZ/Wf//xHlStX/seycXFxCg8P18SJE7Vt2zZJUrt27fTNN9/w6GwAtkDjDnlCenq6unTpoh9++CHbWaNGjdLo0aOzXxQAy73yyit65513JEnPPvusJkyYIF9f338dl5ycrLfffltjx45Venq6evTooW+++YbHYgF50NWrV/Xggw9q3759yp8/vz777DM99thjdzT29OnTeuKJJ7R27Vq5urpq0aJF6tSpk8UVA8iu1NRUtW/fXuHh4XJzc9OkSZM0aNCgO7pIJyYmRoMGDdLcuXMl/XWB0Msvv2x1yQAAIBvmzp2rJ554Qunp6WrVqpVmzZqlYsWK/es4wzD0zTffaMCAAYqLi1ONGjW0bt06+fj45EDVAHBrNO6QJ4wYMULjx483JcvhcGjBggV3/KUeAOeYPXu2+vTpI4fDoWnTpmnAgAGZzvjxxx/VvXt3JSUlafz48XrttdcsqBSAs6Snp6tDhw5avny5goODFR4eripVqmQqIyUlRQMGDNAXX3whX19fbdq0SdWqVbOoYgBmeOGFFzR58mT5+vpq8eLFeuihhzI13jAMvfXWWxoxYoRcXV21ZMkStW3b1qJqAQBAdmzbtk2NGzdWYmKinnnmGX300UeZfqJORESE2rRpo8jISD322GNasGABF/YCcCoad8j1Nm7cqEaNGsnMP2U/Pz8dOXJEQUFBpmUCMM+ZM2dUvnx5JSQkaPTo0Ro1alSWs7744gs99dRTcnFx0bZt21SjRg0TKwXgTFOmTNFzzz0nHx8frV+/XtWrV89STlpamkJDQ7Vy5UpVrVpVERERPF4XsKlffvlFLVu2lIuLi77//nt17Ngxy1mDBg3S1KlTFRAQoCNHjqhgwYImVgoAALIrJSVFlSpV0tGjR9W5c2ctWrQoy++p+/3339W0aVMlJSXpiy++0JNPPmlytQBw53jjJnK9119/3dSmnSRdu3ZNb7/9tqmZAMzz5ptvKiEhQc2aNdMbb7yRraywsDD16tVL6enpGjFihEkVAnC2uLi4G3fjv/fee1lu2kmSq6ur5s2bp4CAAO3bt+/GI/QA2IthGHr99dclSc8//3y2mnaS9MEHH+i+++7TpUuXNGnSJDNKBAAAJvr888919OhRlShRQrNnz85y006S6tWrd+P8YcyYMUpKSjKrTADINO64Q662efNmNWjQwJLsfPny6fz581xZC9hMVFSUSpYsqdTUVP3++++qU6dOtjNPnDihChUqKDk5WREREbr//vtNqBSAM02dOlWDBg1ShQoVtG/fPrm5uWU787333tPLL7+sypUra//+/SZUCcBMv/76q1q0aKECBQro6NGjCggIyHbmsmXL1L59e/n6+ioqKkre3t4mVAoAALLLMAyVKVNGJ0+e1IwZM9S/f/9sZyYlJal8+fI6deqUZs2apf/85z/ZLxQAsoA77pCrLV682LLsxMRErVy50rJ8AFmzYsUKpaSkqG7duqY07SSpdOnS6tChgyRr9ysAck7GXB44cKApTTtJ6t+/vzw9PXXgwAEdPnzYlEwA5smY9z179jSlaSdJ7dq107333qvr169r1apVpmQCAIDsi4iI0MmTJ+Xn52faYy09PT1vNAD5bgCAM9G4Q672008/WZofHh5uaT6AzMuY9+3atTM1NyOPeQ/kfvHx8Vq7dq0kc/cVvr6+atq0qST2FYAdZRwjhIaGmpqbkce8BwDAPjI+l1u2bCkPDw/TcjPOH3799VelpqaalgsAmUHjDrna0aNHc3U+gMzLmJc1a9Y0NTcjj3kP5H6nT59WcnKy/P39de+995qazb4CsKe0tDSdOHFCklSrVi1Ts5n3AADYj1XfDVSrVk0eHh66fv26Lly4YGo2ANwpGnfIta5du6a4uDhL13H+/HlL8wFkXmRkpCSpaNGipuYWK1ZMknTx4kWlpKSYmg0gZ1m1n5D+f1/BMQJgL9HR0UpLS5Obm5sKFy5sajbzHgAA+7HqmN/hcKhIkSKS+OwH4Dw07pBrubhY/+frcDgsXweAzLFqXhqGYUkugJyXsZ+wYl5nZHKMANgL8x4AgLsLn8sA8jIad8i1fHx85Ovra+k6rLhSH0D2ZMzLjKvrzJKRV7hwYbm7u5uaDSBnZewnoqKiTM+28m4+AFkXGBgoNzc3paWl6eLFi6ZmM+8BALAfq74bMAzjxnlExl33AJDTaNwhVytTpkyuzgeQeRnzcteuXabm7ty5U5J0zz33mJoLIOcFBwfLw8NDMTExOn78uKnZGfsejhEAe3FxcVFISIgk848RmPcAANiPVd8N7Nu3T8nJyfLx8VFQUJCp2QBwp2jcIVdr3bp1rs4HkHkZ83LZsmWm5q5YsUKS1KpVK1NzAeQ8b29vNWrUSJK5+4r4+HitXr1aEscIgB1ZdYywfPnyv+UDAADny/hcXrlypZKTk03Lzfjcb968udzc3EzLBYDMoHGHXK1Dhw6WZXt4eHByDthQ27Zt5ebmps2bN2v79u2mZJ46dUqLFy+WZO1+BUDOyZjL06dPV1pamimZn376qRITE1WhQgVVqFDBlEwA5smY919//bViYmJMyfzpp590+PBh+fj4qHnz5qZkAgCA7KtevbpKliypq1evavbs2aZkJicna+bMmZL4bgCAc9G4Q67WsGFDPfjgg5Zk9+vXT/7+/pZkA8i6YsWKqXfv3jIMQ8OHD5dhGNnOHDVqlBITE9WiRQvVqFHDhCoBOFtYWJgCAwP1xx9/6Msvv8x23pUrV/TWW29Jkl555ZVs5wEwX8uWLVW9enXFxsZqwoQJ2c5LS0vT66+/Lkl67rnn5OPjk+1MAABgDofDoaFDh0qSxo4dq/j4+GxnzpgxQ8ePH1dwcLB69uyZ7TwAyCqHYcY3noATrV27Vk2bNjU108fHR0eOHOEF9IBNnTx5UhUqVFBSUpLeeustDR8+PMtZ33zzjXr16iWHw6EtW7aodu3aJlYKwJkmT56sF154QX5+ftq0aZOqVq2apZz09HR16tRJS5cuVeXKlbVnzx65urqaXC0AM6xYsUKhoaFydXXV0qVL1aZNmyxnvfTSS3r//ffl7++vo0ePclEfAAA2k5SUpIoVK+rEiRPq2rWr5s+fL4fDkaWsHTt2qFGjRkpISNCnn36qvn37mlwtANw57rhDrtekSRO9/PLLpmbOnDmTnNtH3wAAIABJREFUph1gY6VKldKUKVMkSSNGjMjy3TTh4eF6+umnJUlvvPEGTTsgj3nuuefUsmVLXbt2Te3bt9fhw4cznZGamqrnnntOS5culbe3t77++muadoCNtW3bVgMHDlRaWpp69OihjRs3Zinn/fff1/vvvy8XFxfNmjWLph0AADbk6empb775Rp6envr22281dOhQpaenZzrnwIED6tSpkxISEtSxY0eFhYVZUC0A3Dkad8gTJkyYoLZt25qSNWzYMD3++OOmZAGwTt++fTV48GClp6frySef1Msvv6yEhIQ7GpuamqqJEyeqXbt2SkhIUOfOnTVq1CiLKwaQ01xdXTV//nyVL19eJ06cUN26dbV06dI7Hh8ZGam2bdtq2rRpcjgc+uKLL1S9enULKwZghg8//FDNmjXTlStX1Lx5c82YMeOOv8S7du2awsLC9NJLL0mSxowZo44dO1pZLgAAyIYGDRpo+vTpcjgceu+999S5c2ddvHjxjscvXLhQ9erV05kzZ1S1alXNmTNHLi58ZQ7AuVxHjx492tlFANnl4uKiLl266OzZs4qIiMhShqurq95++22NGjUqy7fVA8hZrVu3louLi9auXatNmzbpyy+/lKenp0qXLn3T99DExsbq22+/Vffu3bVgwQIZhqGBAwfq888/5w4aII/y8vJS9+7dtWXLFv3555+aN2+e1q1bp6JFiyokJOSmc//w4cOaNGmSevXqpYMHD8rPz08LFizQo48+6oQtAJBZrq6u6tq1q44dO6aIiAgtX75cP/74owICAlS6dGl5eHj8Y8zZs2c1c+ZMde3aVZs2bZKbm5smT5584905AADAvqpXr66KFStqxYoV2rdvn2bMmKHExESVKlXqpnfNJyYmauXKlQoLC9P777+v5ORktWjRQsuXL1fBggWdsAUA8He84w55zsyZMzVixAhFR0ff8ZgKFSroo48+UsuWLS2sDIBVli5dqiFDhujYsWOS/mrmV69eXaVLl1ZAQICuXLmiU6dOadu2bUpNTZUkFStWTG+//bb69OnjzNIB5JCUlBS98cYb+vDDD2/cnevn56c6deqoePHi8vT0VFRUlA4ePPi3R2o2atRIM2bMUOXKlZ1VOoAsMgxDH3/8scaMGaPLly9L+uuRWrVr11ZISIh8fX114cIFHT9+XHv27FHGqXGVKlU0depUNWnSxJnlAwCATNq1a5cGDhyoLVu23Pi/SpUqqVy5cgoKClJiYqLOnj2rrVu3Ki4uTpLk4+OjoUOHasSIEVzQC8A2aNwhT7p+/bo+/PBDzZ07VwcOHLjpMi4uLqpbt6769u2r3r17y83NLYerBGCmlJQUff755/riiy+0Y8eOWz4S67777lPPnj01aNAgeXt753CVAJzt7Nmzevfdd/Xdd9/pzJkzN10mX758atq0qQYPHqw2bdrkcIUAzHblyhVNnjxZc+fO1aFDh266jKurqxo0aKCnn35aPXv25BFZAADkYosXL9aUKVO0bt06JScn33SZUqVKqUuXLho6dKiKFCmSwxUCwO3RuEOed+zYMe3YsUPnz5/X1atXFRAQoBIlSqh+/foKDAx0dnkALBAVFaXNmzfr7NmziomJUYECBVS8eHHVqlVLpUqVcnZ5AGxi9+7d2rdvny5cuKC4uDgVK1ZMwcHBatiw4U0ftwsg9zt8+LB27dqlyMhIXb16VYULF1aJEiXUoEEDBQQEOLs8AABgomvXrmnDhg06e/asIiMj5evrq6CgIN13332qWrWqs8sDgFuicQcAAAAAAAAAAADYAM//AAAAAAAAAAAAAGyAxh0AAAAAAAAAAABgAzTuAAAAAAAAAAAAABugcQcAAAAAAAAAAADYAI07AAAAAAAAAAAAwAZo3AEAAAAAAAAAAAA2QOMOAAAAAAAAAAAAsAEadwAAAAAAAAAAAIAN0LgDAAAAAAAAAAAAbIDGHQAAAAAAAAAAAGADNO4AAAAAAAAAAAAAG6BxByBXW7NmjRYuXKjk5GRnlwLAZmJjY7Vw4UJt2bLF2aUAsFh8fLwWLlyoDRs2OLsUADaydetWLVy4UDExMc4uBYBNXLt2TQsXLtSmTZucXQoAALdE4w5ArjZ69Gh17dpV165dc3YpAGzmxIkT6tq1qz7++GNnlwLAYhcvXlTXrl319ttvO7sUADYydepUde3aVceOHXN2KQBs4vz58+ratasmTZrk7FIAALglGncAAAAAAAAAAACADdC4A5Bn/fDDDypUqJBGjBjh7FIA2FCbNm1UqFAhnT592tmlALBYjx49VKhQIe3Zs8fZpQCwie3bt6tQoULq06ePs0sBYCOPPPKIChUqpEOHDjm7FADAXczN2QUAVjp8+LCWLVumnTt36vz584qNjVVQUJCKFi2qBx98UO3atVORIkWcXSYskpycrJiYGCUkJDi7FOSgc+fOafny5dq0aZMiIyMVHR0tf39/FStWTLVq1VK7du10zz33OLtM2MC1a9cUExOj9PR0Z5eCHGYYhnbs2KHly5frjz/+0Pnz55WUlKSgoCAFBwerefPmatmypfz8/JxdKkxy/fp1xcTEKC0tzdmlwIkOHjyopUuXavfu3Tp//ryuXr1649ygcePGatu2rQIDA51dJnJIamqqYmJiFBcX5+xSANgIxwx5R2xsrFauXKnVq1fr7NmzunDhgvLly6cSJUqocuXKCg0NVfXq1Z1dJgDcFI075EkrV67UyJEjtW3btlsuM2vWLLm4uCg0NFTjxo3Tfffdl4MVAjDbjh07NGLECK1cuVKGYdx0mTlz5uj5559XgwYNNH78eDVt2jRniwTgVGlpaZo9e7bGjh2rEydO3HK56dOny8PDQ2FhYRo5cqSKFy+ec0UCMN2yZcs0cuRIRURE3HKZL774Qi4uLurcubPefPNNVapUKQcrBAAAZjl58qRGjx6tb775RikpKbdcbuTIkSpXrpxGjx6t7t27y8WFB9MBsA/2SMhTYmJiFBoaqtatW9+2aZchPT1dS5cuVfXq1TV48ODbfqADsKekpCT169dPtWvXVnh4+C2bdv9t06ZNatasmR555BFdvXo1B6oE4GyHDh1S9erVFRYWdtumXYbk5GTNmDFDZcuW1dSpU60vEIDpoqOj9fDDD6t9+/a3bdplSE9P13fffadq1arplVde4W4LAABymXfffVcVKlTQl19+qZSUlBuf6bNmzdLy5cu1YMECTZ48WY8++qj8/Px0+PBh9ezZU3Xq1NHx48edXT4A3MAdd8gzDh48qA4dOujw4cOZHpuenq6PP/5Ye/fu1aJFixQQEGBBhQDMduHCBXXu3FmbNm3K0vgffvhBf/75p5YsWaJ7773X5OoA2MUvv/yibt26KSYmJtNjExISNGjQIO3evVtTp06Vu7u7BRUCMNvevXvVoUOHO2rU/6+0tDS988472rNnj+bPn68CBQqYXyAAADBNUlKS+vbtq6+//lqS1KpVK40fP141a9a86fLPP/+8EhISNGXKFE2cOFE7duxQnTp1tGjRIjVp0iQnSweAm+KOO+QJUVFRatWqVZaadv9tzZo16tSpk5KTk02qDIBVEhMT1b59+yw37TIcOHBArVq10qVLl0yqDICdbN++XR07dsxS0+6/ffrppxoyZIhJVQGw0pkzZ9SyZcssNe3+W3h4uLp27cqddwAA2Fz//v319ddfy93dXZ988onCw8Nv2bTL4OXlpaFDh2rv3r2qW7euLl68qHbt2mnv3r05VDUA3Bp33CHXS0lJ0aOPPqpTp06ZkrdhwwYNHjxYM2bMMCUPmbdlyxbNnj1bv/zyi86cOaPU1FRVrlxZ3bt31zPPPKP8+fPfcmxiYqI+/PBDSdKePXskSdu2bdPEiRNvOaZ79+4qVaqUuRsBy/Xr109bt241Jevo0aPq1q2bVq5cKVdXV1MyYY2EhATNnTtXCxYs0L59+xQVFaX8+fOradOmGjRokJo3b37b8Rs3btSGDRsk/fXFriTNmDFDBQsWvOnyhQsX1lNPPWXuRiDHREZGqnPnzkpISDAlb9q0aXrggQf09NNPm5KH20tOTtaCBQs0f/58RUREKCoqSt7e3mrUqJEGDhyodu3a3Xb8jh079Ouvv0qSjhw5Ikn68ssv9fPPP990eV9fXz377LPmbgRyXGJiojp16qTIyEhT8n7++We98sormjRpkil5yL4DBw5o1qxZ+umnn3Ty5EklJCSobNmy6tKliwYPHqygoKDbjp88ebKSkpJunD/++eeftz1XaNOmDe9DB2wuMTHxxjHDnj17FBUVJR8fHzVp0kTPPPOMWrdufdvxW7du1erVqyXpxkUfn3322S33JwUKFNCAAQNM3QZk3QcffKCvvvpK7u7uWrp0qVq1apWp8cWKFdOaNWvUsWNH/fzzz+rYsaO2b9+uQoUKWVQxANwBA8jlpk+fbkgy9Z/D4TB+//13Z2/aXSc2NtZ48sknDYfDYUgyKlasaDzyyCNG586djXvvvdeQZBQvXtxYsWLFjTFNmjQxJBkXL140DMMwLl++nOnf96+//uqsTUYWrVq1yvR5L8n46quvnL1puI01a9bc2Bd4enoazZo1M3r06GG0aNHC8PLyMiQZnTt3vrE/2LVrlyHJ6Nmz542M0aNHZ+pvokqVKs7aXJigX79+pu8nChQocONvDNbZsmWLUbVqVUOS4e7ubjRu3Njo0aOH0apVK8PPz8+QZLRq1co4d+6cYRiGcfLkSUOS0bZt2xsZH374YaZ+t8WLF3fW5sJEkyZNMn3eu7i4GHv27HH2pt31EhMTjaFDhxpubm6GJKN06dJGhw4djMcee+zG/qJgwYJ/O57r3bu3IcnYvn37jf8rUKBApn7/n332mTM2F8Ad2rhxo1GxYkVDkuHh4WE0adLE6NGjh9GyZUvDx8fHkGSEhoYaUVFRhmEYxp9//nnjvCHDO++8k6n9QpkyZZy1ufgfZ8+eNby9vQ1JxrRp07KVdfnyZaN8+fKGJOOFF14wqUIAyBoad8jVEhISjODgYEu+wG/SpImzN++uEhMTY9SuXduQZNSvX/+mjdNVq1YZ1apVM1xdXY2FCxcahvHPxl1aWppx9OhR4+jRo8ZHH31kSDLCwsJu/N/N/sXHx+fotiL7GjRoYMm8L126tJGUlOTszcNN/Pjjj4a7u7vh4eFhvPbaa0ZMTMzffn716lVj7NixhpeXl1G1alXjypUrN23cXb58+cbcr1mzpiHJWLdu3S33D6dPn87pTYVJDh8+bLi7u1uyrxg6dKizNy9PW7VqleHt7W24ubkZQ4YMMS5cuPC3n8fFxRmTJk0y/Pz8jDJlyhhRUVE3bdzFxsbemMsPPfSQIclYunTpLef7iRMncnpTYbJr164ZQUFBlsz7Dh06OHvz7mqJiYlGaGioIcmoXLmysXLlSiM9Pf1vy+zYscNo3LixIcn44IMPDMO4eePu+PHjxtGjR43vvvvOkGS0bt36tucKV69ezdFtBXDnwsPDjXz58hnu7u7Gyy+//I+Lq65fv25MmDDB8PHxMcqXL29cunTppo27mJiYG3O+YcOGhiTj559/vuV+4eTJkzm9qbiFZ555xpBkNGrUyJS8NWvWGJKMfPnyGadOnTIlEwCygsYdcrUFCxZYcmKe8e/QoUPO3sS7QlpamtGsWTNDkjFgwAAjNTX1lssmJiYa3bp1M3x9fY1z5879o3H33+bPn29IMl588UUry0cOi4iIsHTeL1261NmbiP+xZcsWw8PDw/D39zfWrVt322W3bt1qFClSxAgLC7tp4+6/Pfjgg4YkvqzPo1599VXL9hP+/v5GSkqKszcxTzpw4IDh4+Nj+Pr6/u0O+5vZt2+fUapUKaNTp043bdz9t3bt2hmSjJ07d1pRNmxi1qxZls17h8NhnDlzxtmbeNfKaMB16tTpthfdpaWlGS+88ILh5uZmRERE3LRxl2Hz5s2GJOPRRx+1snQAFtm9e7fh5eVl5M+f3/jll19uu2xERIRRokQJo3v37jdt3P23Fi1aGJKMAwcOWFE2TBQfH3/jrsr169eblptxwdebb75pWiYAZJaLgFxs6dKlluYvW7bM0nz8ZcqUKVq9erUee+wxTZ8+/bbvGPP09NTcuXNVr149vfnmmzlYJezC6nm/fPlyS/OROUlJSQoLC1NaWpoWLlyoRo0a3Xb52rVra/ny5Zo3b57279+fQ1XCjpYsWWJZdkxMjDZu3GhZ/t0qPT1dTz/9tOLj4zVnzhy1adPmtstXqVJFv/76q1atWqVNmzblUJWwMyvnvWEYHCM4ybJlyzR79mzVq1dP3377rby8vG65rIuLi95//3316tVLr732Wg5WCSAnpaamKiwsTElJSfr222/18MMP33b5+++/XytXrtSSJUu0ZcuWHKoSVlu1apXi4uJUpkwZNWzY0LTcXr16SeI7QQDOReMOudq6desszV+7dq2l+ZDi4+M1atQoFS5cWJ999tkdjXFxcdFXX32lOXPm3HhxNO4ezPu7y6xZs7R//3698MILat68+R2NqVmzpoYNG6bRo0dbWxxs6+LFizpw4ICl62BfYb5FixZp48aNevLJJ9WpU6c7GlO2bFmNGTNGI0eOtLg65AYcI+Q9hmHopZdekru7uxYsWCB3d/c7GjdlyhTt3LmTpj6QR82dO1c7duzQgAED1KpVqzsaU6VKFb3xxhsaO3asxdUhp2R87v/bxV6Z1bZtW0nStm3bFB8fb2o2ANwpGnfItQzD0Pnz5y1dx7lz5yzNx18H3LGxsQoLC1P+/PnveFzx4sXVqVMnnTx50sLqYEdnz57N1fnInIy7cAcNGpSpcc8++6xOnz5tUVWwu5yYxxwjmG/atGmSpCFDhmRqXN++fXXhwgUrSkIukpiYqEuXLlm6DuZ9zvv111916NAhPfLIIwoJCbnjcT4+Purbt6+OHDliYXUAnGXatGlyOBx6/vnnMzWuf//+7MvzkIxj/rJly5qaW6RIEfn5+Sk9Pd3y7x0B4FZo3CHXio2NVUpKiqXr4Esg63333XeSpK5du2Z6bLdu3cwuB7nAxYsXLc2/evWqEhMTLV0H7syhQ4e0Z88e1atXT6VKlcrU2MDAQDVu3NiiymB3Vu8nJI4RzBYdHa1169apUqVKqlatWqbG+vr6qnXr1hZVhtyCeZ83ca4A4H+dOXNGW7Zs0QMPPKDy5ctnamzBggXVokULiypDTouOjpb017mf2YKCgiTx2Q/AeWjcIdfy9fWVi4u1f8KZuQMMmWcYhrZs2SJPT89Mf0kn/fUuK9x9/Pz8LM339PSUp6enpevAncl4vFWdOnWyNL5WrVpmloNcxOr9hMQxgtk2b94swzCY78gy5n3etHnzZklZO+6vVKmSfHx8zC4JgJNxjoAMGZ/L165dMz37ypUrkqQCBQqYng0Ad4LGHXItd3d3FSpUyNJ1FC1a1NL8u92JEycUExOj8uXLy8PDI9PjixQpooCAAAsqg51ZPS+LFCkih8Nh6TpwZ3bv3i1Jqly5cpbGV6lSxcxykIvkxOc3xwjmYr4juwoUKCAvLy9L18G8z1kpKSnav3+/8ufPr5IlS2Z6vKurqypWrGhBZQCciWMGZChSpIgk8x+Tn5iYqMuXL/9tHQCQ02jcIVe7//77c3X+3S7jkUb+/v5ZzihYsKBZ5SCXYN7fPbK7j8jOvgW5W4kSJVS4cGFL18G+wlzMd5iBY4S8JTY2VmlpaZwrAPgbjhmQIeNzec2aNabmrlu3Tunp6SpZsqTlNwwAwK3QuEOu1q5du1ydf7fLePRAdh47xMn43Yd5f/fI7j6Cx5rcvVxdXdWmTRvL8t3c3HinmsmY7zADxwh5S2xsrCTOFQD8HccMyBAaGiqHw6Hff/9d58+fNy33xx9//Fs+ADgDjTvkao888ojc3d0tyQ4ODtaDDz5oSTb+kvGOwvT09CxnpKWlmVUOcolmzZrdeFG02by8vNShQwdLspF5GfsIwzCyND47+xbkft26dbMsu2XLllytbTLmO8zQpUsXubq6WpJdtmxZ1axZ05Js3FzG75JzBQD/jWMGZChevLgaNWqktLQ0TZgwwZTMM2fO6Msvv5Rk7fkEAPwbGnfI1UJCQvTUU09Zkj1y5Ei5ublZko2/ZFwBe/Xq1SxnZFxth7tHvnz5NHz4cEuyn3nmGd5fYyMZjZGsznP2D3e3tm3bqm7duqbnOhwOjRkzxvTcux3zHWaoUKGCHn/8cUuyx4wZw1X3OYxzBQA3wzED/tvYsWMlSZ988on27duX7bxhw4YpISFBDz30kJo2bZrtPADIKhp3yPVGjBhh+iNQqlatqrCwMFMz8U8Zd01dunQpyxkZLwzG3WXAgAEqW7asqZmBgYF69dVXTc1E9gQGBkrK+j4iO/sW5H4Oh0MTJ040/e6bxx9/XLVq1TI1E8x3mGfMmDHy9fU1NbNOnTrq3r27qZn4dwUKFJCHh4cuX76c5TtrOFcA8h6OGfDfmjRpovbt2yspKUkdO3bM1u938uTJmjdvntzd3TVx4kQTqwSAzKNxh1yvRIkSmj9/vmlfzPn7++uHH37gbrscEBwcrKJFi+rQoUOKi4vL9PgTJ07c9mq5jKuis3qiD/vKly+ffvzxR/n5+ZmS5+7uroULF6pw4cKm5MEcGY8k27NnT5bG796928xykAs1adJEb731lml5VatW1YwZM0zLw/9jvsMsZcqU0Zw5c0y7O65IkSJatGjRjUezIee4urqqevXqiouL05EjRzI9Pjk5WQcPHrzlzzlXAHInjhnwv7766iuVK1dOx44d00MPPaQTJ05kOmPSpEl6+eWXJUkffPABF+oBcDrOPpAntGrVSh9//HG2m3e+vr5auHCh6Xfy4Nbq16+vtLQ07dq1K9Njt23bdtufe3t7S5KuXbuWpdpgb1WqVNH8+fNv/J6zys3NTTNmzFCTJk1MqgxmqV+/viRpy5YtWRrPPgLSX4+76d+/f7ZzSpUqpcWLF5t+Jw/+UqdOHbm6ujLfYYpOnTrp3XffzXbzrmDBgvr+++9VsmRJkypDZmUcC2zdujXTYyMiIpSUlHTLn7NfAHKnevXqycXFhWMG3ODv76/FixerePHi2rNnj+rUqaM5c+bc0fsMjx8/rscee0xDhw5VWlqahgwZomeffTYHqgaA26Nxhzxj4MCBWrJkiQoUKJCl8ffee682b96s5s2bm1wZbifjPSRz5szJ9NjZs2ff9ucZz77nURh5V9u2bbV+/XqFhIRkaXxAQIDCw8N5NK5NhYSEqFGjRtq5c2em31dw7Ngxbdq06bbLsI+4e8yYMUMffPBBlu+mb9KkibZt26Z77rnH5MqQoUCBAmrXrp1OnDihDRs2ZGpsdHS0fv7559suw3y/+7z00ktatGhRlpvtlSpV0pYtW9SgQQOTK0Nm9O7dW1LWzhX+bUzG6xbYLwC5S2BgoFq0aKGDBw9q+/btmRp7/vx5rV69+rbLcMyQO1WqVEnbtm1T3bp1FR0drd69e6tatWqaMGGC9u7d+7cLOaKjo/Xdd9/pP//5jypWrKhFixbJw8PjxjkDANgBjTvkKW3bttXu3bvVp0+fO777zsfHR8OHD9eOHTv0f+zdeVyN+f8+8OtUOm1ChRZrdtPYDdGebKGxU0yWMZYZGR8MxpaxjAbzsY5lTIwtREgle4gIk11i7FLJ2p469+8Pv3w/M2Noue9znzrX8/Hwz8x9rnOdMfdZ7td9v287OzuJG9LfeXl5wcbGBlu3bkViYmKhH3f9+nWcOHECDRs2/NdtPvnkE+jo6OD8+fOFOtOKSqcWLVogLi4OEyZMgKGhYaEeo6enhxEjRuDSpUsc1mu4MWPGAAAWL15cpMctXrwYzZs3/+A2n376KYDincVPpc+3336LmJgYeHh4FPoxlpaWWLFiBQ4dOvTufioknYL9feHChUV63NKlSz/6Ha5gf//YWfZUtvTq1QsXL17EwIEDC73UZfny5TFr1izExsaifv36Ejekj2nevDlat26NQ4cOFWl5u5SUFGzZsuWD3wWqVasGCwsLXL9+Ha9fvxajLhGpSXG/M/z8889o0qTJB7fhb4TSy9raGsePH8fixYvfvb9PnToVTZo0gYGBASpWrAilUokqVaqgT58++P3335GbmwtPT0+cO3dOlFU6iIhEIxCVUTdu3BD8/f2FVq1aCbq6ugKAd3+USqXg7u4u/Pzzz8KTJ0/krqr1duzYIQAQnJ2dhTdv3nx0+8zMTKFp06bC9OnTBWdnZwGAkJqa+t5t27RpIwAQ9uzZI3Zt0kCPHj0SFi5cKLi4uAj6+vp/2e/19PSENm3aCHPnzhVu3bold1UqpPz8fMHR0VEAIGzfvr1Qj4mIiBCMjIyE0NBQAYDg4+Pz3u3OnDkjABAaNGggZGVliVmbNFx0dLQwfvx4oUGDBn95nwAgVKhQQejVq5cQGBgopKeny11V63Tv3l0AIKxatapQ20dHRwtKpVLYv3+/AEDo2rXre7eLj48XFAqFYGNjI7x69UrMylRKXL16VZg+fbrQvHnzf/w2MDQ0FDp27CgsW7ZMePr0qdxV6W9Onz4t6OrqCg0bNhTS0tI+un1+fr7QuXNnYfDgwcIXX3whABDOnz//3m379u0rABCWLFkidm0ikpBKpRI6duwoABDWr19fqMccPXpUMDAwEMLDwwUAQs+ePd+73eXLlwUAQq1atQr1nkOa6fXr18LatWuFHj16CCYmJn/53FcoFELjxo2FSZMmCWfPnpW7KhHRe3FwR1ohPz9fePLkiRAfH88f4xrK29v73QG3D305fvr0qdC+fXvB0tJSePny5UcHdyEhIQIAwdzcXDh37pxU9UlDpaSkCPHx8cKTJ08ElUoldx0qpoSEBKFixYqCUqkUtmzZ8sFtQ0JCBCMjI2HKlCmPqT3BAAAgAElEQVRCXFzcBwd3giAIrq6uAgChX79+QmZmptjVqRTIzc0VHj58KMTHxwuvX7+Wu47We/z4sVC1alVBV1f3o8O7Q4cOCRUqVBC++uor4f79+x8c3AmCIPTq1UsAIHTu3Jl/11ouLy9PSExMFOLj44Vnz57JXYcKYerUqQIAoXXr1kJSUtK/bpeRkSH07NlTMDY2Fu7evfvRwV1sbKygq6srGBgYCPv375eqPhFJ4N69e4KFhYVQrlw54bfffvvgthEREUL58uUFPz8/4ebNmx8c3AmCIHh6egoAhB49evBErjLi1atXQnx8vPDo0aNCnTBORCQ3hSAIgnTX8xERFU5ubi769u2L0NBQ1KhRA/Pnz0fv3r1hYGAAAMjIyMDWrVsxffp0ZGRkIDIyEg4ODnBxccHx48eRmpoKc3Pz92bPmDED8+bNg76+PgYMGAA3NzdYWlq+WzKpRYsWMDMzU9trJaKiO3fuHDp27IiXL1+if//+mDZt2rtlbAAgPj4eP/74IzZt2gQ3Nzfs378f165dQ/PmzeHj44PNmze/NzcpKQkuLi64efMm6tSpg6FDh6Jx48YoX748gLfLKdvb26vlNRLRW9evX4ebmxuSk5PRrVs3zJo1C61atXr37+/cuYNFixZhzZo1aN26NY4ePYrU1FTUrFkTXbt2RXh4+HtzX7x4AXd3d8TFxaF69eoYNmwYPv3003f3R1YqlXB0dFTLaySiohEEAV9//TVWrVoFCwsL/PDDD/Dx8YGpqSkAICcnB6GhoZgyZQoePHiAoKAg9OnTB76+vti4cSPOnz+Pli1bvjd7zZo1+Oabb6BSqdCzZ0907doV1tbW7+6L2rhxY1hbW6vttRJR4RXc+uDZs2f4/PPPMXPmzL8skXvr1i389NNPCAwMRLt27XDo0CE8ePAADRo0QM+ePRESEvLe3NTUVLi5ueHKlSuoVasWhg4dCjs7u3fvOYaGhmjfvr1aXiMREWkpmQeHRETv5ObmCvPmzRMMDAwEAIKJiYnQrFkzoUmTJoKRkZEAQGjWrJlw8eLFd4/52BV3BSIjI4X27dsLCoXiH8uiHT58WOqXRkQiSEhIeLfPAxCqV68utGnTRqhdu7YAQNDV1RUmTJggZGdnC4IgFOqKO0EQhPT0dGH69OlC5cqV//H+8Mknn6jjpRHR39y/f1/o2rXru33R2tpaaNOmjVC3bl1BoVAICoVCGDVq1Lur9AtzxZ0gCEJ2drYwf/58wdra+h/7u7W1tTpeGhEVk0qlEtasWSNUqFBBACAYGBgIdnZ2QosWLQRTU1MBgGBrayscO3bs3WM+dsVdgbNnzwqdO3f+xzKqAIR169ZJ/MqIqCTu3LkjeHh4vNtnbWxshDZt2gh16tQRAAg6OjrC2LFjhYyMDEEQhEJdcScIb2/RMXv2bMHS0vIf7wu1a9dWx0sjIiItxivuiEjjJCYmYtu2bTh8+DAePnyIN2/eoFGjRhg4cCD69Onz7ko5AIiKisLTp0/h5eUFfX39j2anpqYiPj4eqampePPmDQDA2dkZVapUkez1EJF4BEHAiRMnsH37dly5cgVJSUkwNTWFi4sLRo8ejbp1677b9uXLlzh06BBq1KiBNm3afDRbpVIhISEBDx48wKtXrwAApqam6NSpk2Svh4g+LCYmBtu3b8cff/yBpKQkGBkZwdHRESNHjoSdnd277TIzMxEeHg4rKys4ODgUKrtgf3/x4gWAt2fPd+vWTZLXQUTief78OYKDgxEREYH79+8jMzMTdevWRZ8+fTBo0KC//CaIjY3F/fv30aFDB1SqVOmj2a9fv8bVq1eRmpqKnJwcAECrVq1Qu3ZtyV4PEZWcIAg4deoUtm/fjosXLyI5ORnGxsZwcnLC6NGj0bBhw3fbpqWlITIyEjY2NmjXrl2hsgu+M7x8+RLA21U5unbtKtnrISIi4uCOiIiIiIiIiIiIiIiISAPofHwTIiIiIiIiIiIiIiIiIpIaB3dEREREREREREREREREGoCDOyIiIiIiIiIiIiIiIiINwMEdERERERERERERERERkQbg4I6IiIiIiIiIiIiIiIhIA3BwR0RERERERERERERERKQBOLgjIiIiIiIiIiIiIiIi0gAc3BERERERERERERERERFpAA7uiIiIiIiIiIiIiIiIiDQAB3dEREREREREREREREREGoCDOyIiIiIiIiIiIiIiIiINwMEdaY1nz57hzp07SE9Pl7sKEanJ69evcefOHTx//lzuKkSkoVQqFZKSknD//n1kZWXJXYeI1CQ1NRV3795FRkaG3FWIiIhIYpmZmbh//z6Sk5MhCILcdYiIPoqDOyqzbt++jfnz58Pe3h5KpRIWFhaoU6cOypcvDxMTE3Tu3BkrV67E06dP5a5KRCJJSkrC0qVL4eHhAWNjY1SoUAF16tSBubk5DAwM4ODggICAANy7d0/uqkQko9jYWEyePBmffPIJ9PX1YWVlhVq1asHIyAgWFhbo378/Nm/ezEEeURkSHx+PH374AZ999hmUSiUqV64MW1tbmJiYwNTUFN26dcPq1at5sg8REVEZkJ6ejvXr16NPnz4wMzODsbExatWqBUtLS+jr66Np06b4/vvvERcXJ3dVIqL3Ugg8zYDKmIcPH8Lf3x8bN25EXl7eR7c3MTHB+PHjMXHiRJiamqqhIRGJ7cWLFwgICMDy5cuRmZn50e3LlSuHL7/8EjNmzICVlZUaGhKRJvjjjz8wbdo0REZGFmp7GxsbTJ8+HV9++SX09PQkbkdEUrh79y5mzZqFLVu2QKVSvfvnCoUCJiYmSEtL+8v2FSpUwMSJEzF+/HgYGxuruy4RERGVQG5uLlatWoX58+cjJSXlL//O2NgY2dnZyM/P/8s/9/Lywty5c2FnZ6fOqkREH8TBHZUpBw8exIABA/DixYsiP7ZevXrYu3cvGjVqJEEzIpLKpUuX8PnnnxfrKjoLCwsEBwfDxcVF9F5EpFlWrFiB8ePHF+qknr9zdXVFcHAwzM3NJWhGRFIJDQ3FoEGDkJaWBh0dHXTr1g29evWCm5sbrKysoKenh6ysLNy5cwcREREICgp6d+b9J598gj179qBu3boyvwoiIiIqjKSkJPTu3RunT58GANSvXx+DBw9G165d0aBBAxgbG0OlUiE5ORknTpzA3r17sXPnTrx58wZKpRIrV67E8OHDZX4VRERvcXBHZca6deswatSof5w5UxSmpqYIDQ2Fs7OziM2ISCoHDx5E7969S3TvynLlyiEwMBCDBg0SsRkRaRI/Pz8sX768RBm1a9fG0aNHUatWLXFKEZGkli1bhvHjx0OlUsHFxQVLlixB06ZNP/gYQRAQEhKC8ePH4+HDhzAzM0N4eDjatm2rptZERERUHAkJCejQoQMePnwIc3NzLFy4EIMHD/7oqhm3b9/Gd999h927dwMAJk+ejAULFqijMhHRB3FwR2XC4cOH0aVLl2KdRf935ubmiI2Nha2trQjNiEgqN27cgL29PV69elXiLH19fRw5cgQODg4iNCMiTfLzzz9jwoQJomQ1adIEp0+f5vJ5RBouNDQUPXv2hEqlwrhx47Bo0aIiLXebnJyM3r1749SpU7C0tMS5c+dQrVo1CRsTERFRcb18+RJt27bFzZs38cknnyA0NLRIx/QEQUBAQACmTZsGlUqF1atXY+TIkRI2JiL6OA7uqNR78uQJ7OzsRL2RfJMmTXDhwgXez4ZIQ+Xk5KBJkyZISEgQLbNKlSq4fv06l8IjKkOio6Ph4uJSoqvx/27w4MHYuHGjaHlEJK579+6hSZMmSEtLg5+fH5YuXVqsnMzMTDg4OCAuLg5t2rTB6dOnoaOjI3JbIiIiKqmePXtiz549qFWrFmJjY1G5cuVi5SxatAiTJk1CuXLlEBMTg5YtW4rclIio8PjLg0q9uXPnijq0A4DLly9jw4YNomYSkXjWrFkj6tAOAFJSUhAQECBqJhHJ67vvvhN1aAcAmzdvxh9//CFqJhGJx9/fH2lpaXB2dsbixYuLnWNkZIQ9e/agUqVKOHv2LHbs2CFiSyIiIhLDyZMnsWfPHiiVSuzdu7fYQzsAmDhxIvr37483b95gypQpIrYkIio6XnFHpdrDhw9Rt25d5Obmip5do0YN/Pnnn7zqjkjDZGdno1atWkhOThY929DQEHfv3kXVqlVFzyYi9dq/fz+6du0qSbanpyfCwsIkySai4rt16xYaNWoElUqFCxcuoHnz5iXOXLBgAaZOnYr69esjPj4eCoVChKZEREQkBjc3Nxw7dgxjx47FsmXLSpz38OFD1K9fH9nZ2Th+/DicnJxEaElEVHS84o5KtZCQEEmGdgDw4MEDnD59WpJsIiq+qKgoSYZ2AJCVlYXQ0FBJsolIvbZt2yZZ9oEDB/DixQvJ8omoeIKDg5Gfnw9PT09RhnYA4OfnhwoVKiAhIYFX2xIREWmQJ0+eICoqCrq6uqJdIVe9enX4+voCkPb3BBHRx3BwR6Xavn37JM3n2fREmof7PRF9TH5+PiIiIiTLz8vLw4EDByTLJ6LiKfiO0LNnT9EyjYyM0LFjRwD8jkBERKRJwsPDIQgC2rRpA2tra9FyC75HhIeHi5ZJRFRUHNxRqXbp0iVJ8y9evChpPpU+OTk5clfQetzvSVPx/UFzPH78GKmpqZI+B98r6O/4HiC/gu8ILi4uoua6uroC4H5PH8f3ASLtwf1dfgWfywWf02JxdnaGjo4OHjx4gGfPnomaTURUWBzcUamVm5sr+QfokydPJM2n0sfb2xu3bt2Su4ZWk3q/TEpKAm//SsURGxsLPz8/qFQquatoPXV8fvM7Av0vQRDQuXNnvHr1Su4qWuvly5fIysqCQqGAjY2NqNnVqlUDwP2ePu7rr79GTEyM3DWISA2+++47HDp0SO4aWi0pKQkARP/cNzAwgLm5+V+eg4hI3Ti4o1IrIyND8oPraWlpkuZT6XP37l04OjryHicySk9PlzQ/NzeXZ09SsS1fvhyDBw+W7P6rVDhSv08A/I5A/xQVFQUHBwc8fvxY7ipaqWC/19fXh1KpFDW7fPnyALjf08c9f/4cHh4eiIyMlLsKEUksPT0d3bt3x44dO+SuorUKPpcLPqfFZGpqCgB4/fq16NlERIXBwR2VWhUrVoS+vr6kz1GlShVJ86l0Sk5OhrOzMw4ePCh3Fa1UuXJlSfNNTU1hYGAg6XNQ2bZ161Z06dKFP/JkJPX7BMDvCPR+V69ehaOjIxISEuSuonUqV64MhUKBnJwc0d9/U1JSAHC/p8LJyMiAl5cXgoKC5K5CRBLLycmBt7c3Vq9eLXcVrVTwufz06VPRs5OTkwEAVatWFT2biKgwOLijUkuhUMDS0lLS5xDz5rZUthScXbd9+3a5q2gdqfdL7vckhqNHj8Ld3f3dwV5SL3Xsx3yvoH9z9+5dODk54cKFC3JX0SpKpRJmZmYAgNu3b4ua/eeffwLgfk+Fl5ubCx8fHyxcuFDuKkQksfz8fIwePRpTpkyRu4rWsbKyAvB/n9NiSU5ORnp6OnR0dCQ/7khE9G84uKNSzcnJSdJ8Z2dnSfOpdMvNzYW3tzd++eUXuatoFan3excXF0nzSXucP38ejo6OuHfvntxVtI6FhQUaN24s6XPwOwJ9SHJyMlxdXXHkyBG5q2iVgu8I+/fvFzU3IiICAPd7KhpBEPDdd99h6tSpvH8ykRYICAjAmDFjkJ+fL3cVrVHwuVzwOS2WgrzWrVvDyMhI1GwiosLi4I5KtW7dukma7+npKWk+lX4qlQpff/01pkyZwh/kaiL1ft+1a1dJ80m7JCQkwN7eHhcvXpS7itaR8r2iYsWKaN++vWT5VDakpaWha9eu2LZtm9xVtEbBfh8UFASVSiVK5p07d3DmzBkoFAp+R6BiWbBgAYYMGYI3b97IXYWIJLZq1Sr06dMHWVlZclfRCm5ubjAyMsLdu3dx+vRp0XK3bt0KgMcGiEheHNxRqda9e/d3l8aLzdXVFfXr15ckm8qegIAADBs2DHl5eXJXKfOaNWuGNm3aSJJdq1YtdOrUSZJs0l5JSUlwdHTEoUOH5K6iVYYPHw49Pb1Sl01lS8HV+YsXL5a7ilbo06cPzM3Nce3atXcH3Upq1qxZyMvLg6enJ6pVqyZKJmmfjRs3olevXsjMzJS7ChFJbM+ePejSpQtevXold5Uyz9DQEIMHDwYATJ8+XZTMqKgoHD58GEqlEkOGDBElk4ioODi4o1LNyMhItA/nv5s3b54kuVR2bdiwAb179+bZdWog1f7p7+8PfX19SbJJuxXcF3PHjh1yV9Ea9evXh6+vr+i5pqamvIcJFYkgCJg4cSLGjRvHq/MlZmpqismTJwMAJk2ahEePHpUoLywsDFu3boWOjg7mzp0rRkXSYmFhYXB1dUVqaqrcVYhIYsePH4eDgwMeP34sd5Uyb8aMGTA0NMSxY8ewdu3aEmW9evUKo0ePBgCMGjUKNWrUEKMiEVGxcHBHpd6XX36Jtm3bip5pb28vaiZph9DQULi5ueHZs2dyVynT3N3dMXDgQFEzXVxcMGjQIFEzif5XTk4OvL29sXr1armraI05c+aIfmV+QEAALCwsRM0k7bBs2TIMGTKEV+dL7JtvvkGzZs2QlJSEnj17Ii0trVg5V65cgY+PD1QqFfz8/NC0aVORm5I2io2NhZOTEx48eCB3FSKS2NWrV+Hg4ICEhAS5q5RpNjY2mD17NgBg7NixOHbsWLFyClZJiI+PR61atTBjxgwxaxIRFRkHd1Tq6evrIyQkBDY2NqLk2dvbY8WKFaJkkXY6c+YMXF1dkZiYKHeVMm3dunVo0aKFKFm1atVCcHAwdHV1Rckj+jf5+fkYPXr0ux+XJC0rKyuEhITAwMBAlLwRI0Zg1KhRomSRdtq4cSOvzpeYoaEh9uzZgypVquD8+fOwt7fHn3/+WaSMffv2wcHBAa9fv4a7uzsWLlwoUVvSRjdu3ICDgwOuX78udxUikti9e/fg6OiI8+fPy12lTJs4cSK8vb2Rm5uLLl26YP369UV6fHJyMtzd3REREQEjIyPs3r0b5ubmErUlIiocDu6oTLCyssKBAwdga2tbohwHBwfs3bsXSqVSpGakra5cuYJ27drh5s2bclcps4yMjBAWFobPPvusRDn169dHZGQkr6AhtfL39+d9MdWkbdu22LVrFypUqFCiHF9fX57YQ6IIDQ3lcnkSq1mzJiIjI1G9enVcu3YNzZs3h7+/P16/fv3Bx92+fRs+Pj74/PPP3w3tgoODeU9LEt3Dhw/h4OCA6OhouasQkcRSUlLg4uKCyMhIuauUWQqFAr/99hv69++PnJwcDBs2DN27d8elS5c++Ljs7Gz897//xaefforo6GiYmZkhNDQUzZo1U1NzIqJ/pxB4owUqQ549ewZvb28cPHiwSI9TKBQYNWoUlixZwvtb0Qe1aNECcXFxhd7ezMwM+/btQ7t27SRspd2ys7MxZswYbNiwocj3DurevTs2btyIihUrStSOtMnJkyfh5ORUpMd8/vnn2Lp1KwwNDSVqRQVu3LiBPn36FPkKBwMDA/z444/49ttvJWpGZYEgCNDRKdo5kY0bN343XCJpJCcno3///jh+/DiAtyf9dOjQAa6urqhevTpMTU2RnJyMu3fvIiIiArGxsVCpVNDR0cG3336LgIAADu2oSHr16oXdu3cXensDAwNs2bIFvXr1krAVEUlh+PDhCAwMLPT2+vr62LBhg+i3fKD/IwgCFixYAH9/f+Tm5kKhUKBZs2bo2rUrGjRogCpVqiArKwuPHj3CyZMncfDgQbx8+RIA0KxZM+zcuRN16tSR+VUQEb3FwR2VSREREZgxYwb++OOPD26nUCjQpUsXzJ07F82bN1dTOyrNijq4AwBjY2MEBwejS5cuErUi4O09Q6ZNm4bDhw9/dNs2bdpg7ty56NChgxqakbYozuAOAJydnbF3794SXxFGH5eXl4cNGzZgzpw5H72/ULly5eDr64uZM2dysEIfVZzBHQBYW1sjMjISn376qQStCHj7d7N3717MnDkTV65c+eC2Ojo66N69O+bOnQs7Ozs1NaSypKiDOwDQ1dXFqlWrMGLECIlaEZEUijq4A94eg/rpp58wceJEiVoRANy9exezZs3C1q1bkZ+f/8FtbW1tMWvWLPj4+PDWGUSkUTi4ozItPj4e+/btQ1xcHB4/foy0tDSYm5vD2toa7du3h6enp2j3xiPtUJzBHQDo6elhzZo1GDZsmASt6H89fPgQ4eHhOH36NB4/fowXL17A1NQUNjY2aNWqFbp164Z69erJXZPKoOIO7gDAzs4OkZGR/ExSE5VKhXPnziE8PBzXrl1DcnIyMjMzYWVlBRsbG3To0AGdOnXiMJUKrbiDOwCoVKkS9u3bh/bt24vciv7u6tWrCAsLw8WLF5GYmIj09HRYWFjA2toaTk5O8PT0RNWqVeWuSaVYcQZ3wNuD+TNnzoS/v7/4pYhIEsUZ3BXw8/PDkiVLoFAoRG5F/+v58+eIjIzE0aNHkZiYiKSkJBgZGcHKygp2dnbw9PREy5Yt+fdARBqJgzsioiIo7uAOePuD/Mcff8TkyZNFbkVEmqAkgzsAqFWrFiIjI9GgQQMRWxGROpRkcAe8XcJxx44d8PT0FLEVEalbcQd3BcaOHYslS5aU6P2EiNSjJIM7APjiiy+wbt06lCtXTsRWRERUVvDbIBGRmgiCgClTpmDcuHFQqVRy1yEiDXPv3j20a9cOMTExclchIjXLzMyEl5cX1q1bJ3cVIpLR8uXL0bdvX2RnZ8tdhYgktnHjRvTq1QuZmZlyVyEiIg3EwR0RkZotW7YMvr6+ePPmjdxViEjDPH/+HB4eHoiMjJS7ChGpWX5+Pr766isulUek5UJCQuDp6YnXr1/LXYWIJBYWFgZXV1ekpqbKXYWIiDQMB3dERDLYvHkzunbtirS0NLmrEJGGycjIgJeXF4KCguSuQkRqJggCZs+ezavzibTc0aNH4ebmhpSUFLmrEJHEYmNj4eTkhAcPHshdhYiINAgHd0REMjl8+DDc3d3x9OlTuasQkYbJzc2Fj48PFi5cKHcVIpLBsmXL8MUXX/DqfCItduHCBdjb2+P27dtyVyEiid24cQP29va4fPmy3FWIiEhDKARBEOQuQUSaafr06fjll1/krqFRXr9+jfz8fFEzGzZsiMjISNSsWVPUXCKpValSBXl5eXLX0Bh5eXmSXEU7ZcoUzJ8/HwqFQvRsouLq3r07Tp06JXcNjfLixQvRMzt16oSdO3fCxMRE9Gyiklq7di2mTJkidw2Nkp6eLvrA3crKCvv370fTpk1FzSUqih07dmDUqFFy19AomZmZyMnJETXTzMwMYWFhsLe3FzWXiIhKHz25CxCR5srKypLkIBT9VXx8POzt7fmDnEqdFy9ecHCnBgsWLEBiYiLWrVuHcuXKyV2HCMDbg9P8jiC9AwcOwNXVFeHh4ahSpYrcdYj+Ijs7m+8DavDkyRM4ODggJCQEHh4ectchLZWTk8P9XQ2eP38ONzc3bNmyBb169ZK7DhERyYhLZRIRaYAnT57A1dUV0dHRclchIg20ceNG9OrVC5mZmXJXISI1O3/+PJycnHDv3j25qxCRTNLT09GjRw/s2rVL7ipEJLHs7Gz0798fGzZskLsKERHJiIM7IiIN8eLFC3To0AE7d+6UuwoRaaCwsDC4uroiNTVV7ipEpGY3b96Evb09Ll68KHcVIpJJwcH8VatWyV2FiCSWl5eHYcOGwd/fX+4qREQkEw7uiIg0SE5ODgYMGIB169bJXYWINFBsbCycnZ3x8OFDuasQkZolJSXB1dUVJ06ckLsKEckkPz8fY8aM4cF8Ii0gCAJmz56N8ePHQ6VSyV2HiIjUjIM7IiINk5+fjxEjRmDKlClyVyEiDXT9+nW0bdsWly9flrsKEanZy5cv0bFjRwQHB8tdhYhkNHv2bAwbNoz3GibSAkuWLEG/fv2QnZ0tdxUiIlIjDu6IiDRUQEAAvvnmG55dR0T/kJiYCBcXF94Xk0gL5eTkYODAgVi9erXcVYhIRuvXr0efPn2QlZUldxUiktiuXbvg6emJ169fy12FiIjUhIM7IiINtnLlSvTp04dn1xHRP7x48QIeHh4ICQmRuwoRqVl+fj5Gjx7Nq/OJtNzevXvRpUsXvHr1Su4qavXmzRukpaV98E9OTk6hsvLz8z+aVZTh6Mey0tPTi/uyScsdPXoU7u7uSElJkbsKERGpAQd3REQabvfu3ejatSvPriOif8jOzka/fv3w66+/yl2FiGQQEBCA4cOHc7k8Ii12/PhxtG/fHo8ePZK7itqsXr0apqamH/wzfvz4QmWdPHnyo1keHh6Fynr+/PlHs6ytrUvy0knLnT9/Hvb29rh9+7bcVYiISGIc3BERlQLHjh2Dg4MDEhMT5a5CRBomPz8fI0eOhL+/v9xViEgGgYGB6Nu3L5fLI9Ji165dg6OjI27evCl3FSKS2J07d+Do6Ii4uDi5qxARkYQ4uCMiKiWuXLkCBwcH3Lp1S+4qRKRhBEHA7Nmz4efnx/tiEmmhPXv2oGvXrlq3XB4R/Z979+6hXbt2iImJkbsKEUksKSkJTk5OOHTokNxViIhIInpyFyCS2v379xEXF4fExESkpaXB3NwcVlZWaNu2LczNzeWuR1Qkd+/ehaOjIyIiItCiRQu562isp0+f4syZM0hKSnq3ZI21tTVatmyJatWqyV2PSDLLly/H48ePsWXLFhgYGMhdR+NdvXoV169fR1JSEnJyclClShXY2NigXbt2MDIykrseUZFERUXBwcEBkZGRsLGxkbuOxrpz5w4uXbqExMREpKeno3LlyrC0tIS9vT0qVaokdz2iEnn+/Dk8PDwQHByMLiWy95sAACAASURBVF26yF2HiCSUnp6O7t27Y+PGjejXr5/cdTRWRkYGTp06hcTERKSkpMDQ0BCWlpaws7NDo0aN5K5HRPSvOLijMikjIwMrVqzA1q1bcfny5fduo6uri3bt2mH48OEYNGgQdHV11dySqHiSk5Ph7OyMnTt3olOnTnLX0Rh5eXnYsGEDAgMDcfbs2fdedaRQKNCsWTMMGjQIo0ePhqGhoQxNiaQVEhICT09P7N69G6ampnLX0ThJSUlYuHAhdu3ahfv37793G0NDQ7i7u8PPz6/Q97Uh0gRXr16Fg4MDDhw4gPr168tdR2OkpaVh6dKlCAoKwvXr19+7jZ6eHhwcHPDVV1+hf//+0NHh4jRUOmVkZKBHjx5Ys2YNhg0bJncdIpJQTk4OvL298ezZM4wePVruOholLCwMK1euRFRUFLKzs9+7ja2tLfr27YsJEyagcuXKam5IRPRh/DVCZU5gYCDq1KmDKVOm/OvQDnh7T6CTJ09iyJAhaNKkCY4cOaLGlkQlk56ejh49emDbtm1yV9EI+/fvR+PGjTFixAjExMT861KBgiAgLi4OEyZMQL169bBlyxY1NyVSj6NHj8LNzQ0pKSlyV9EYeXl5mDFjBurUqYOff/75X4d2AJCVlYWwsDB07NgRbm5uiI+PV2NTopIpWC7vzJkzclfRCL/88gtsbW0xY8aMfx3aAW/fI6KiouDt7Y0WLVogOjpajS2JxJWXl4cvv/wSCxculLsKEUksPz8fY8aMwZQpU+SuohEuX76M9u3bo3v37oiMjER2djbq1auHbt26YejQoRgwYAAcHR1haGiIO3fuICAgAHXq1MG8efOQn58vd30ionc4uKMy482bNxg5ciSGDx+O5OTkIj32+vXr6NSpE/773/9K1I5IfLm5ufDx8cGKFSvkriIbQRDw448/olu3bkW+99/jx48xaNAgjBs3Dnl5eRI1JJLPhQsX4ODggLt378pdRXbPnj1Dp06dMHfuXGRmZhbpsceOHUPbtm0REREhUTsi8T179gwdO3bE4cOH5a4im+zsbPj6+uLrr79GampqkR576dIluLu7Y82aNRK1I5KeIAj47rvvMGXKFAiCIHcdIpJYQEAARo8erdXDp5CQELRv3x6nT5+GsbExpk6dioSEBCQkJGDfvn0IDAxEUFAQTpw4gWfPnmHPnj1o06YN0tLSMH36dHTv3h0vX76U+2UQEQHg4I7KCJVKhT59+mDt2rXFzsjPz8d//vMfzJgxQ8RmRNJSqVQYO3Zsif7fL80mTZqE77///l+vsCuMZcuWwcfHhwc0qEy6desWHBwc8Pz5c7mryObVq1dwdHTE0aNHS5TRo0cPhISEiNiMSFppaWnw9PTE6dOn5a6idnl5eejRowc2btxY7Izc3FyMGjUKAQEBIjYjUr+AgABMnz5d7hpEpAarV6/G2LFj5a4hi02bNqFPnz5IT09Hly5d8Oeff2L+/PmoV6/ee7c3NDSEl5cXzpw5g61bt8LExAT79++Hi4sL0tPT1dyeiOifOLijMmHatGkIDQ0VJWvevHnYvn27KFlE6uDq6or+/fvLXUPtNmzYgMWLF4uStWPHDsydO1eULCJNoqurC39/f5iZmcldRRb5+fkYOHAgbty4IUqWr6/vB5fhJtI0gwYNwmeffSZ3DbWbMGECDh06JErW999/j7CwMFGyiOTwySef8N5XRFrC1tYW//nPf+SuoXZnz57FV199BUEQMHbsWOzbtw9Vq1Yt9OMHDhyI6OhoWFlZ4dKlS/D19eWJvUQkOw7uqNSLjo4W9UxYQRDw5ZdfFnm5TSI59OvXD/v370eFChXkrqJWDx8+FP0AhL+/Py5cuCBqJpGcjIyMsGfPHowYMULuKrJZuXIl9u/fL1peeno6vL29tXoJIio9Zs+ejd9++w16enpyV1GrAwcOYNmyZaLlqVQqfPHFF1w6i0olZ2dnREdHo1q1anJXISKJtWrVCjExMahbt67cVdQqNzcXAwcORHZ2Nnr37o2lS5dCV1e3yDlNmzbF7t27YWBggJCQEKxfv16CtkREhaddv+KoTPr+++9FPxMmPT0d8+fPx9KlS0XNJRLT119/jWXLlkFHR/vOwfjhhx+QnZ0taqZKpcK0adMQGRkpai6RHCpVqoTQ0FA4ODjIXUU2GRkZmD9/vui5165dw+bNm+Hr6yt6NpEYdHV1sWLFCowaNUruKmonCAKmTZsmeu6LFy+wcOFCzJs3T/RsIql4eXkhKCgIhoaGclcRXdWqVdGyZcsPblOzZs1CZZUvX/6jWQ0bNixUlp6e3kezTExMCpVFVBRubm7YvXs3TE1N5a6iduvWrcPdu3dRrVo1/P7771AoFMXOatOmDX788UeMHz8es2fPho+PD5RKpYhtiYgKTyHw2l8qxU6fPo327dtLkq1UKpGUlISKFStKkl8aTJgwAT///LPcNeg9Jk+ejAULFshdQxZJSUmoXr068vLyJMmPi4tDs2bNJMkua8qVKyfZ3wMVn5WVFSIjI9GkSRO5q8hqxYoVkt3jo2HDhqIsv1maubq6IioqSu4a9DdKpRKbNm1C37595a4ii0OHDqFjx46SZBsbGyMlJQVGRkaS5JdGy5Ytw7hx4+SuQe8xZMgQ/Prrr1p3xS1JZ9OmTfjiiy/krkHv0atXL2zZsgUGBgZyV1E7QRBQq1YtPHjwAGvXrhVlpZGcnBw0aNAA9+/fR2BgIIYOHSpCUyKiotO+yzSoTNm7d69k2Tk5ObzyhjSOrq4uVq9erbVDOwCIiIiQdFgk5fsKkdQaNWqEM2fOaP3QDpB2X46Pj0dCQoJk+UTFUbFiRRw8eFBrh3aAtPt9RkYGjhw5Ilk+kVgmT56M9evXc2hHpAXGjh2L4OBgrRzaAcDFixfx4MEDmJqairYahlKpxMiRIwHw2AARyYuDOyrVxLxvzftwcEeaRKlUYtu2be++RGor7vdE7/fZZ5/hxIkTqFGjhtxVZJeZmYkTJ05I+hx8ryBNYmlpiWPHjsHJyUnuKrKSer/kfk+aTFdXF7/88otWn+BHpC0UCgVmzZqltbfOKFBwbKBjx47Q19cXLdfT0xMAcPjwYa4wQ0Sy4SlYVKrduXOnVOcTFVbFihURGhoKR0dHuavIjvs90T9169YN27dv5xJu/9/Dhw+Rm5sr6XPwvYI0ha2tLQ4cOIC6devKXUVW+fn5uHfvnqTPwf2eNJVSqcTGjRvRr18/uasQkcR0dXWxatUqUZaFLO0KPpc/dm/Jovr000+hr6+PjIwMJCcnw8bGRtR8IqLC0N7TMqjUS0tLQ0ZGhqTP8eTJE0nziQrDysoKUVFRHNr9f0lJSZLmp6am4s2bN5I+B5GYBg8ejJCQEA7t/ofU7xMAvyOQZmjVqhViYmK0fmgHAE+fPkV+fr6kz8H9njSRiYkJ9u3bx6EdkRZQKpXYsWMHh3b/X8F3/qpVq4qaq1Ao3mWq43cFEdH78Io7KrXUsRyAQqGQ/DmIPqROnTo4cOAA6tSpI3cVjaGO/ZL7PpUWfn5+WLJkCf+f/Ru+T5A2cHd3R0hICExNTeWuohG435M2srS0REREBJo3by53FSKSWKVKlRAaGgoHBwe5q2iMgs9lQRBEzy7I5Gc/EcmFV9xRqWVsbAwTExNJn8PKykrSfKIPad26NWJiYji0+xtLS0tJ8ytXrgw9PZ7XQppNoVDgp59+wtKlS/lj8j2kfp8A+B2B5OXt7Y39+/dzaPc/1PH5zf2eNImtrS1OnjzJoR2RFihYhYdDu78q+M6fnJwsaq4gCEhJSfnLcxARqRsHd1Sq2draSppfu3ZtSfOJ/k2HDh1w5MgRVK5cWe4qGkfq/ZL7PWk6fX19bN68GZMmTZK7isaqVq2aqDeofx++V5Bc/Pz8sGnTJpQrV07uKhpFR0cHNWvWlPQ5uN+TpmjZsiWXySXSEo0aNcKZM2fQpEkTuatonILP5T/++EPU3CtXriA3NxfGxsaoUqWKqNlERIXFwR2Vap07dy7V+UTvM3jwYERERKB8+fJyV9FIXbp0kTSf+z1psoL72Hh7e8tdRaMZGRnByclJ0ufgewWpm0KhQEBAAJYuXaqWJeNLI/42IG3g4eGBY8eO8WAykRawt7dHdHQ0atSoIXcVjVTwuXzw4EHk5uaKlhseHg7g7QnVXI2HiOTCX3xUqvXo0UOybKVSiU6dOkmWT/Q+fn5+2LBhA8+i/4CuXbtK+uVZyvcVopIwMzPDwYMH0bFjR7mrlApS7ssNGzZE/fr1Jcsn+jtdXV2sXbsW3333ndxVNJqU+72xsTHc3d0lyycqjF69eiE0NJQn+BFpgW7duuHw4cMwMzOTu4rGat68OWrUqIHXr1/j999/FyUzJycHa9euBQB4eXmJkklEVBwc3FGp1r59e8nW+B45ciQqVaokSTbR3ykUCixatIhn0ReCpaUlfH19Jcnu1KkT7xNCGql27do4c+YM7O3t5a5SagwdOlSyqxGmTJkiSS7R+xgZGWHv3r348ssv5a6i8Tw8PNCiRQtJsv38/GBkZCRJNlFhjBs3DsHBwTAwMJC7ChFJbMiQIdi9ezc/dz5CoVC8O6nphx9+QEZGRokzV61ahXv37qFGjRoYOHBgifOIiIqLR4ep1Js/f77omSYmJvj+++9FzyV6Hz09Pfz666+YMGGC3FVKjZkzZ4p+0EJHRwfz5s0TNZNIDHZ2djhx4gTq1asnd5VSRarP8saNG2PQoEGi5xK9T6VKlXDw4EF4enrKXaVUUCgUknyWV6pUifcVJdkoFArMmjULS5Ys4Ql+RFrAz88PgYGBXKKxkEaMGIHatWvj0aNHGDp0KARBKHbW+fPnMXXqVADArFmzeKIEEclKIZTkHY1IQ0yZMgUBAQGiZCkUCmzduhUDBgwQJa80S0hIwIMHD+SuoVFGjx6N27dvi5ZnbGyM4OBgye/bVhYFBgZi+PDhouXNnj0bM2fOFC1PGxw5cqREP4zKmitXruA///mPqJnOzs7Yu3cvKlSoIGqutsjPz0e3bt0QGRkpSp6xsTFOnTqFpk2bipJXml24cAEvXryQu4bGEARB9GVsa9SogcjISDRq1EjUXG0wduxYrFixQpQsHR0d7NmzB927dxclryx5+PAhbt68KXcNjeLv749Tp06Jlqenp4e1a9di6NChomUSFceTJ09w7do1uWtolMWLF4v2HRN4+3mzePFifPvtt6JlaoszZ87AxcUFOTk5GD9+PBYtWlTkEx2uXr2Kzp074/Hjx+jZsyd27doFhUIhUWMioo/j4I7KBJVKhR49ery7gWxJTJ06VZKr+KhsaNGiBeLi4kTJMjMzw759+9CuXTtR8rTR+PHjsWTJkhLn9O7dG8HBwfxiTiVy8uRJODk5iZbn5eWFoKAgGBoaipapjV6+fIm2bduW+OCyjo4Otm3bhr59+4rUjMoSQRBEvRKmcePGiIyMRPXq1UXL1CZ5eXno1KkTjh49WuKsefPmcSUOKrRevXph9+7domQplUps2bIFvXv3FiWPiMQ1fPhwBAYGipKlr6+P9evXw9vbW5Q8bfT777+/u+LO09MTgYGBhV42f9u2bRgxYgTS09Px6aef4vTp0zAxMZG4MRHRh3GdBSoTdHR0EBISUqJ7f+jq6mLhwoUc2pFa1KxZE6dOneLQroR+/vlnzJ07t0QHS7/55hsEBQVxaEcaZejQodi5cyeHdiKoWLEioqOj4eLiUuwMU1NT7Nmzh0M7Uos2bdrg+PHjHNqVgJ6eHsLCwuDj41PsjHLlymHlypUc2pEsKlWqhMOHD3NoR6QFjI2NsXfvXg7tSsjX1xfbt2+HsbExwsPDUadOHUyfPh23bt167/ZZWVkIDQ1Fu3btMHDgQKSnp6NTp044fvw4h3ZEpBE4uKMyQ19fH7/++ivWrVuHqlWrFumxjRo1QmRkJCZOnChRO6L/07hxY5w8eRINGzaUu0qpp1AoMG3aNOzbt6/I9/+ysbHBpk2bsHz5cpQrV06ihkRFN3nyZN7XQmQWFhY4ePAgpk2bBiMjoyI91tXVFWfPnuUyeaQW3bt3x9GjR2FhYSF3lVLP0NAQmzdvxooVK4r837NJkyY4cuQIxowZI1E7on9nZWWFqKgoODg4yF2FiCRmZmaGQ4cOoXPnznJXKRP69u2L06dPo127dkhPT8e8efNQv3591K9fH927d8fw4cPh7e0NJycnmJubw8vLCzExMShfvjzmzJmD8PBwVKpUSe6XQUQEgEtlUhmVkZGB5cuXY+vWrbhy5cp7t9HV1YW9vT2GDx+OwYMHQ1dXV80tqTQq6VKZbdu2RVhYGMzNzUVsRQDw5s0bbNiwAYGBgYiNjYVKpXrvds2bN4ePjw/GjBnDq5lIVCVdKlNXVxcrVqzAqFGjRGxFf/fkyRMsWrQIu3btwv3799+7jaGhIdzc3DBu3Dh4eHiouSGVRmIslfnFF19g3bp1PJlEAq9fv8bSpUuxbds2XL9+/b3b6OnpwcHBASNGjMCAAQNEXfqUtEdJl8osOKG0Ro0aIrYiIimUdKnMWrVqITIyEg0aNBCxFRUICwvDihUrEBUVhZycnPduY2tri759+2LChAmoXLmymhsSEX0YB3dU5t2/fx9xcXF49OgR0tPTYW5uDisrK9jb23N4QkVWksFdjx49sG3bNg6L1ODp06c4c+YMEhMT8eLFC5QvXx7VqlVDy5YtUa1aNbnrURlVksGdUqnExo0b0a9fP5Fb0YdcvXoV165dQ1JSErKzs1G1alVUq1YN7dq1K/KVeaTdSjq48/Pzw5IlS7hssxrcuXMHFy9eRGJiItLT02FhYQFra2vY29vzLHsqsZIM7j777DOEh4fziluiUqIkgzs7Ozvs37+fv03VICMjA6dOnUJiYiKSkpJgZGQEKysr2NnZoVGjRnLXIyL6V1yDicq8mjVrombNmnLXIC3n6+uLdevWcek7NalcuTKXtaNSw8TEBCEhIbyySwZ2dnaws7OTuwZpMYVCgZ9++onLtauRra0tbG1t5a5B9BceHh4ICQnhfZWItICzszP27t2LChUqyF1FKxgbG6Njx45y1yAiKjKu/0FEJLHJkydj/fr1HNoR0T9YWlrixIkTHNoRaSF9fX1s2bKFQzsiLTd48GCEh4dzaEekBby8vLB//34O7YiI6KM4uCMikohCocDixYuxYMECLn1FRP9ga2uLkydPonnz5nJXISI1MzY2xt69ezFw4EC5qxCRjPz8/PD777/z3pZEWmDo0KHYuXMnb51BRESFwss/iIgkoK+vj99//x0DBgyQuwoRaaBWrVohPDwcVapUkbsKEamZubk5wsLC0LZtW7mrEJFMFAoFAgICMGnSJLmrEJEaTJ48GQsWLJC7BhERlSIc3BERiczU1BS7d++Gm5ub3FWISAN17NgRu3bt4pJYRFrI1tYWBw4cQN26deWuQkQy0dfXx/r16+Ht7S13FSKSmK6uLlasWIFRo0bJXYWIiEoZDu6IiERUtWpVREREoEWLFnJXISIN1Lt3b2zevBkGBgZyVyEiNbOzs0NkZCRsbGzkrkJEMjE2NkZwcDC6dOkidxUikphSqcTGjRvRr18/uasQEVEpxHvcERGJpHbt2jh58iSHdkT0XmPHjsWOHTs4tCPSQi4uLoiOjubQjkiLmZmZ4dChQxzaEWkBExMT7Nu3j0M7IiIqNg7uiIhE0KJFC8TExKBevXpyVyEiDaNQKLBgwQIsW7YMOjr86kWkbfr06YPIyEhUqFBB7ipEJJPatWsjJiYG9vb2clchIolZWVkhOjoaHh4eclchIqJSjEePiIhKyN3dHVFRUahatarcVYhIw+jp6SEwMBCTJ0+WuwoRyWDMmDHYvn07lEql3FWISCZNmzbFqVOnUL9+fbmrEJHE6tWrh1OnTqFp06ZyVyEiolKOgzsiohLo2bMnwsLCUL58ebmrEJGGMTAwwPbt2zFkyBC5qxCRDCZPnoyVK1fySlsiLebs7Izjx4/DyspK7ipEJLFWrVohOjoatWvXlrsKERGVAfwVSURUTF9//TV27tzJ+1UR0T9UqlQJhw4dQq9eveSuQkRqpquri1WrVmHBggVyVyEiGXl5eWH//v1cJpdIC7i5ueHIkSOoUqWK3FWIiKiM4OCOiKgYJk+ejBUrVvAseiL6B2tra0RFRcHBwUHuKkSkZkqlEkFBQRg1apTcVYhIRkOHDsXOnTthaGgodxUikljv3r0RHh4OU1NTuasQEVEZwiPORERFoKurizVr1vAseiJ6r0aNGiEmJgZNmjSRuwoRqVnFihVx8OBB9O3bV+4qRCSjyZMnIzAwEHp6enJXISKJjR07Fjt27OAqPEREJDqFIAiC3CWIiEqLy5cv84A8Eb3Xo0ePYGRkBDMzM7mrEJGaCYKAK1eu8DsCkZbjbwUi7cH9nYiIpMTBHREREREREREREREREZEG4FKZRERERERERERERERERBqAi65TmRYfH4+wsDDExcXh8ePHSE9Ph5mZGaysrODg4ABPT09YW1vLXZOIRPTw4UOEh4fj9OnTePLkCV68eIHy5cvD2toarVq1Qvfu3VG3bl25axKRjFQqFc6dO4fw8HBcv34dycnJyMnJQeXKlVGtWjW4u7ujU6dOqFChgtxViUhE165dQ1hYGC5evIjExERkZGTAwsICVlZWcHR0hKenJ6pWrSp3TSIiIhLB8+fPceDAARw5cgRPnjxBSkoKDAwMYGlpCTs7O3Tr1g0tWrSAQqGQuyoR0T9wqUwqkyIiIjBjxgz88ccfH9xOoVCgS5cumDt3Lpo3b66mdkQkhdjYWEyfPh2HDh366LZt27bFnDlz0KFDBzU0IyJNkZeXhw0bNmDOnDl48ODBB7fV19eHr68vZsyYgerVq6upIRGJTRAE7N27FzNnzsSVK1c+uK2Ojg569OiBOXPmwM7OTk0NiYiISEx37tyBv78/goKCkJeX98Ft69Spg1mzZsHHxwc6OlyYjog0Bwd3VKY8e/YM3t7eOHjwYJEep1AoMGrUKCxZsgT6+voStSMiKWRnZ2PMmDHYsGEDivqR1qNHD2zcuJFX1RBpgfj4ePTu3RvXr18HAFSqVAmdO3eGg4MDrK2toVQqkZKSghs3biAiIuLdAX4DAwMsWLAA48aNk7M+ERVDcnIy+vfvj+PHjwMAjIyM4O7uDjc3N9jY2KBChQpISUnB3bt3ERERgdjYWKhUKujo6ODbb79FQEAA9PS4SA0REVFpIAgCFixYAH9/f+Tm5gIAmjVrBk9PT9SvXx9VqlRBVlYWHj9+jJMnT+LAgQN49erVu+127tyJOnXqyPkSiIje4eCOyozr16+jR48e+PPPP4ud4ejoiJCQEFhYWIjYjIikkpSUhM8//xxnz54tdkaDBg2wb98+1KtXT8RmRKRJIiMjMWDAALx69QqWlpb4/vvvMXLkyA+erHPu3DlMmzbt3VW8Q4cOxerVq3mCD1EpcfHiRXh5eeHBgwcoX748xo8fjwkTJsDU1PRfH3Pr1i3MmjUL27dvh0qlgoeHB3bs2IGKFSuqsTkREREVVXZ2NoYOHYpt27YBADw9PTF37lw0a9bsg4/55ZdfsGDBAjx9+hTm5uYIDg6Gq6urumoTEf0rDu6oTEhKSkLr1q3x6NGjEme1b98eR48e5YE5Ig2XlZUFJycnnD9/vsRZtWvXRmxsLIf2RGVQbGwsnJ2dkZ2dDVdXVwQHB8Pc3LzQj1+xYgXGjx+PvLw8fPXVV1izZo2EbYlIDA8ePMBnn32G5ORkNG7cGKGhoUU6gz40NBSDBg1CWloa3N3dERkZySvviIiINNjgwYOxefNm6OvrY9WqVRg2bFihH5ucnIzevXvj1KlTMDExQXR0NJo2bSphWyKij+PivVTq5ebmomfPnqIM7QDg1KlT+Oabb0TJIiLpDB8+XJShHQDcvXsX/fr1Q35+vih5RKQZnjx5gp49eyI7Oxs9e/bEgQMHijS0A4BvvvkGu3fvhq6uLtauXYvVq1dL1JaIxJCVlQUvLy8kJyejZcuWiImJKfKyVz169MDJkydhamqKI0eOYNKkSRK1JSIiopJauHAhNm/ejHLlyiEiIqJIQzsAqFq1Ko4cOYIuXbogPT0dn3/+OZ49eyZRWyKiwuHgjkq9devW4cyZM6Jm/vrrr4iJiRE1k4jEc+TIEQQFBYmaeezYMWzevFnUTCKS18yZM5GYmIimTZti06ZNKFeuXLFyunXrhp9++gkAMHnyZKSmpopZk4hEtHLlSly8eBFWVlbYs2fPB5fG/JCmTZti8+bN0NHRwbJly3Dp0iWRmxIREVFJPX78GLNmzQLwdqUMd3f3YuUolUoEBQWhYcOGuHfvHubMmSNmTSKiIuNSmVSqZWVloW7dukhMTBQ929XVFUePHhU9l4hKzt7eXvSBPQDUqlULN2/e5FK5RGXArVu30LhxY+Tn5+Ps2bNo3bp1ifIEQUDbtm0RGxuLCRMmYNGiRSI1JSKxvH79Gra2tnj27Bk2b94MHx+fEmcWLL3VrVs37Nu3T4SWREREJJbRo0dj9erVoh3Di4qKgqurK5RKJRISElCjRg0RWhIRFR2vuKNSbd++fZIM7YC3V98kJPw/9u4zPIpCf///vZtGGoEASagRJCIQwHICoUsRlERABAQUlQOKYgEUFRClCGI7ShE9wEGOKCCB0EIElI6hdwWNiogSSEKkJKQT9v/AK/y+/I9Cykx2Nr5fD9mZez7xcnZm996Z+cGUbAAld+jQIVNKO0n65Zdf9OWXX5qSDaBszZs3T5cvX1b37t1LXdpJks1mu/rL248//liXL18udSYAY8XGxur3339X48aN1b9/f0MyJ06cKHd3d8XHxyspKcmQTAAAUHrZ2dlasGCBJGny5MmGZN51113q3LmzOH4hZQAAIABJREFUcnNz9cknnxiSCQAlQXEHl7Z69WpT89esWWNqPoDiM/vX7uz3QPlQeI4wcOBAwzI7d+6skJAQnT9/Xl9//bVhuQCMUbjfDxgwQHa7MR9169Wrp5YtW8rhcHCOAACAhWzcuFFZWVmqV6+eWrVqZVhu4RX7HPcBOBPFHVzatm3bXDofQPGZvV9u3brV1HwA5jt79qy+++47ubm56e677zYs1263q2vXrpI4RwCsqHC/vOeeewzNvffee6/JBwAAzld4XC48ThulMG/fvn3KysoyNBsAioriDi7L4XAoOTnZ1G1wOxzAesy6PW4h9nvA9RW+TwQFBalixYqGZtevX18S7xWA1eTk5OjcuXOSpLCwMEOz2e8BALCewnP+wuO0UYKDg+Xv768rV67ozJkzhmYDQFFR3MFlXbhwQfn5+aZu4+zZs6bmAyi+tLQ0U/MzMjKUk5Nj6jYAmKvwfaJq1aqGZwcFBUniHAGwmsL93svLS/7+/oZmV6tWTRL7PQAAVlJ4XDbznD81NdXwbAAoCoo7uCw/Pz/Dnl3xV4z+lT6A0jP6y7j/Py8vL3l5eZm6DQDmKnyfyMjIMDz74sWLkjhHAKymcL/Pzc01/Ac46enpktjvAQCwksLjcuFx2kiF5/wBAQGGZwNAUVDcwWV5eHgoMDDQ1G2EhISYmg+g+MzeL4ODg2Wz2UzdBgBzFb5PJCcnq6CgwNDswlvlcY4AWEtAQIC8vb0lGX9bbfZ7AACsp/C4bPRx///efptjPwBnobiDS7vttttcOh9A8TVr1szUfPZ7wPXVrFlTVatWVU5Ojnbt2mVo9pYtWyTxXgFYUeF+WbifGoX9HgAA6yn8bmDz5s2G5m7dulVXrlxRnTp1TL9gAAD+CsUdXFp0dLRL5wMoPvZ7ADfi5uambt26SZJWrFhhWO7x48d1+PBhubu7q2vXroblAjBG4THcyP0+KytL69evvyYfAAA4X1RUlGw2m3bv3m3oVXeF5xFRUVGGZQJAcVHcwaXdf//98vT0NCW7du3aatWqlSnZAEquQ4cOCg4ONiXb29tb3bt3NyUbQNl68MEHJUmzZ8827KHyU6ZMkSR17dpVlStXNiQTgHF69+4tNzc3xcfH6+DBg4ZkzpgxQxcvXlRYWJjuuOMOQzIBAEDpVa9eXe3bt1dBQYGmTp1qSOZvv/2mTz75RNL/+zwBAM5AcQeXVqdOHQ0ZMsSU7Ndee03u7u6mZAMouQoVKmjMmDGmZD/zzDOmlYIAyla3bt0UGRmpS5cuGfKesWfPHi1YsEA2m00TJ040YEIARrvlllv08MMPy+FwaOTIkbp8+XKp8n777Te9/fbbkqSJEyfyDFwAACym8Lx8zpw5OnLkSKnzXnzxReXk5Khz585q3759qfMAoKRsDofD4ewhgNI4ffq0wsPDdf78ecMymzZtqv3791PcARaVm5urpk2b6ocffjAsMygoSMeOHVOVKlUMywTgXNu3b1eHDh1UUFCgDz/8UE899VSJcs6cOaOIiAglJSVp4MCBWrBggcGTAjDKL7/8oqZNmyojI0PDhw/XtGnTSpSTnZ2tNm3a6MCBA2rRooV27Nghu53fvQIAYDX333+/Vq5cqZtuukl79+5V1apVS5Tzr3/9S6NGjZKHh4d27typO++80+BJAaDo+OQBl1ejRg0tWbLEsJItMDBQy5cvp7QDLMzLy0srV65UxYoVDcnz8PDQsmXLKO2AcqZt27Z68803JUnPPfecZsyYUeyMxMREdejQQUlJSWratKk+/PBDo8cEYKCbbrpJn376qex2u6ZPn67nn39eBQUFxcpITU1V165ddeDAAYWEhGjZsmWUdgAAWNT8+fN1yy236JdfflHHjh31888/F2t9h8Oht956Sy+//LIkafr06ZR2AJyOTx8oF+6++27NmjVLbm5upcrx9/fXsmXLdPPNNxs0GQCzNGzYUDExMfL19S1Vjru7u+bOnau2bdsaNBkAKxk1apSGDRumy5cva/jw4erfv79Onjx5w/Xy8/M1e/ZstWjRQomJibrpppu0cuVK+fn5lcHUAEqjR48e+te//iW73a73339fd999tw4fPnzD9RwOh2JjYxUREaHt27ercuXKWr58uWrVqlUGUwMAgJKoVKmSVq9erVq1aumbb75RixYtNH/+/CL9cOf48eN64IEHNHr0aBUUFGjUqFElvksHABiJW2WiXFm/fr369+9fottm1q9fX6tWrVKjRo1MmAyAWQ4fPqyePXvql19+Kfa6VatWVUxMjDp06GD8YAAs5YMPPrj6zCtPT0/169dP3bt3V+vWrRUcHCybzabMzEwdPXpUa9eu1aeffqrjx49Lkjp06KCYmJgS33YHgHOsWrVKAwcOVEZGhux2u7p37677779fHTp0UI0aNeTm5qacnBwdP35ca9eu1eLFi3XgwAFJUqNGjbRy5UqFhYU5+a8AAABFkZycrF69emnnzp2SpAYNGmjgwIG69957deutt8rHx0dXrlxRSkqKtm/frlWrVmnp0qXKz8+Xp6enZs2apSFDhjj5rwCAP1Dcodz57bffNGHCBC1YsKBID6T38/PTyJEjNWrUKMNuuwegbJ0/f15vvfWWZs6cqaysrBsu7+HhocGDB+vVV19VjRo1ymBCAFZw8OBBjR07VuvWrbvm393d3eXl5aXMzMxr/r1GjRp69dVXNWTIEG6hDbioEydOaPz48Vq4cKGuXLly9d/tdrv8/PyUnp5+zfIBAQEaNWqURo4cWeqr+gEAQNnKy8vTRx99pDfeeEOpqanXvObn56ecnJz/+a6we/fumjJlisLDw8tyVAC4Loo7lFs//vijYmJitGbNGh04cEB5eXlXX/P19VWbNm0UHR2tvn37KigoyImTAjBKcnKyPv/8c8XHx2vHjh3XlHheXl76xz/+oejoaD344IOqW7euEycF4Ey7d+9WbGys4uPjlZiYeM1tdKpUqaJOnTopOjpavXv3lre3txMnBWCU77//XjExMYqLi9Phw4eVn59/9TV/f3+1bdv26jlCYGCgEycFAACldenSJS1dulRr1qzR5s2br7kzl7u7uxo2bKioqCj16dNHd9xxhxMnBYA/R3GHv42zZ88qIyNDVatW5co64G/i4sWL+v333xUQEKAqVao4exwAFlRQUKDU1FTl5uYqODiYog74m0hNTdWlS5cUFBTEsysBACjnsrKylJKSIm9vbwUFBclutzt7JAC4Loo7AAAAAAAAAAAAwAL4eQEAAAAAAAAAAABgARR3AAAAAAAAAAAAgAVQ3AEAAAAAAAAAAAAWQHEHAAAAAAAAAAAAWADFHQAAAAAAAAAAAGABFHcAAAAAAAAAAACABVDcAQAAAAAAAAAAABZAcQcAAAAAAAAAAABYAMUdAAAAAAAAAAAAYAEUdwAAAAAAAAAAAIAFUNwBAAAAAAAAAAAAFkBxBwAAAAAAAAAAAFgAxR0AAAAAAAAAAABgARR3AAAAAAAAAAAAgAW4O3sAoCw4HA6lpqYqIyNDgYGBCgwMdPZIAMrA77//rvPnz8vf319BQUGy2WzOHgmAxeTn5ys1NVU5OTkKDg6Wn5+fs0cCYLIrV64oNTVVly5dUpUqVVS5cmVnjwQAAEyUkZGhlJQU+fj4KCgoSO7ufCUOwNp4l0K5lZiYqCVLliguLk6HDh3S5cuXr75WoUIFtW7dWtHR0erfv7+Cg4OdOCkAo5w+fVqLFy/WmjVrtGPHDuXl5V19zd3dXXfeeafuu+8+Pfjgg6pfv74TJwXgTDt27FBsbKzi4+OVmJh4zWsBAQHq1KmT7rvvPvXt21c+Pj5OmhKAkY4ePaolS5ZozZo1OnLkiAoKCq6+5u3trbZt2+q+++5Tv379VLVqVSdOCgAASisjI0Off/654uPjtWnTJmVkZFx9zWazqWHDhoqKilKfPn0UERHhxEkB4M/ZHA6Hw9lDAEY6efKkxo8fr88+++yaD+R/xdfXV88995xefvllBQQElMGEAIx27tw5vfHGG/rwww+VnZ19w+Xd3d01aNAgjR8/XjVr1iyDCQFYwb59+zR27Fh99dVXRVo+JCRE48aN0xNPPCEPDw+TpwNghuPHj+vVV1/VkiVLdOXKlRsu7+/vrxdeeEEvvPACV+ACAOBicnNzNWvWLE2dOlVpaWnXvFaxYkVlZ2crPz//mn+PiorSG2+8oaZNm5blqABwXRR3KFfWrl2r/v376+LFi8Ve9+abb9aqVavUuHFjEyYDYJZDhw6pR48e+vXXX4u9bpUqVRQTE6OOHTuaMBkAK5k+fbpGjRp1zRX4RdW+fXstW7aMq3AAF7Ny5UoNHDhQly5dKva6DRs21KpVqxQWFmbCZAAAwGhnzpzR/fffr927d0v641j+yCOPKCoqSmFhYapQoYIk6ezZs9q2bZtWrVqlJUuWKC8vT56enpo5c6aeeOIJZ/4JAHAVxR3KjdmzZ+vpp58u0lV2f8Xf318rV67kS3zARaxbt069e/dWZmZmiTPc3d01d+5cPfbYY8YNBsBShg0bpo8++qhUGTfddJM2bdqkunXrGjQVADNNmzZNzz//vErzcbdy5cqKj49Xy5YtDZwMAAAY7fvvv1fnzp2VlJSkqlWr6l//+pceeughubm5XXe9EydO6MUXX1RsbKwk6YUXXtC7775bFiMDwHVR3KFc+PLLL9WtW7dSlXaFAgMDtXv3bp5/BVjcsWPH1LJlS6Wnp5c6y8PDQ1999ZXat29vwGQArOSdd97RSy+9ZEhWkyZNtGPHDm6fB1jcqlWr1KtXryLdGvNGgoODtXfvXtWuXduAyQAAgNHOnz+vyMhI/fDDD2rSpIlWrVpV7B/bvf322xo7dqwKCgo0a9YsDRs2zKRpAaBoKO7g8k6fPq3w8HCdP3/esMzw8HAdOHCA59kAFpWTk6OmTZvqxx9/NCyzWrVqOnbsGLfCA8qRbdu2qWPHjob8sKfQgAEDtHDhQsPyABjrxIkTatasmTIyMgzLjIiI0K5du2S32w3LBAAAxujRo4dWr16tunXras+ePSX+TP/ee+/phRdekIeHhxISEhQREWHwpABQdHzygMubPHmyoaWdJH377beaP3++oZkAjPPvf//b0NJO+uM+92+++aahmQCc66WXXjK0tJOkxYsXa9++fYZmAjDOhAkTDC3tJGnv3r36/PPPDc0EAAClt3XrVq1evVpeXl5avXp1qX6I+/zzz6t///7Kz8/X6NGjDZwSAIqPK+7g0n799VfVr19f+fn5hmfXqlVLJ06ckLu7u+HZAEouJydHoaGhSk1NNTy7QoUKOnHihEJCQgzPBlC24uPjFR0dbUp2t27dFB8fb0o2gJJLTExU48aNDS/sJal+/fr64YcfZLPZDM8GAAAlc9ddd2nr1q167rnnNH369FLnnTp1Srfccouys7O1efNm3XXXXaUfEgBKgCvu4NKWL19uSmkn/XGwTkhIMCUbQMlt3rzZlNJO+qMUXL16tSnZAMrWkiVLTMv+8ssvde7cOdPyAZTMsmXLTCntJOmnn37S/v37TckGAADFd/r0aW3btk1ubm4aM2aMIZm1atXSY489JsnczxMAcCMUd3BpcXFxpuavWbPG1HwAxcd+D+BGCgoKtHbtWtPyL1++rPXr15uWD6BkOEcAAODvIz4+Xg6HQ5GRkYbeNadnz57X5AOAM1DcwaUdOXLE1PzDhw+bmg+g+MzeL9nvAdeXlJSktLQ0U7fBewVgPXw2AADg76PwuGz07SzbtWsnu92u3377jbtsAHAaiju4rLy8PP3++++mbuPMmTOm5gMovuTkZNPz+VUd4NrK4vjNOQJgLRcuXFB2drap22C/BwDAOgq/G6hVq5ahuRUqVFCVKlWu2QYAlDWKO7iszMxM079cz8jIMDUfQPFdunTJ1Py8vDzl5uaaug0A5jL7fULiHAGwGvZ7AAD+XgqPy35+foZnV6xYUZKUnp5ueDYAFAXFHVxWpUqV5Onpaeo2goODTc0HUHzVqlUzNT8gIEAVKlQwdRsAzGX2+4TEOQJgNdWqVZPNZjN1G+z3AABYR1BQkCQpNTXV8OyUlBRJHPsBOA/FHVyWzWYz9OGzf6Z69eqm5gMovho1arh0PgDzlcV+zDkCYC1eXl4KDAw0dRvs9wAAWEfhOf/x48cNzU1JSdGlS5dkt9tN/94RAP4KxR1cWvv27U3NN/oBtwBKj/0ewI1UrVpVjRs3NnUbvFcA1sM5AgAAfx+Fx/34+HhDc7/44gtJUvPmzeXj42NoNgAUFcUdXFp0dLSp+VFRUabmAyg+s/f7bt26mZoPoGyY+V5RuXJltWrVyrR8ACVj5n5vs9k4RwAAwEI6dOggHx8fnTx5Ul9//bVhuQsXLpTEdwMAnIviDi6te/fuqlWrlinZ7dq1U1hYmCnZAEquWbNmatmypSnZN910k7p06WJKNoCyNXjwYHl4eJiSPWTIELm7u5uSDaDk+vTpc/V5N0a77777VLNmTVOyAQBA8Xl7e+vRRx+VJI0dO9aQzG3btmnjxo2qUKGCHnvsMUMyAaAkKO7g0ipUqGDYwfn/stlsevvttw3PBWCMyZMnm5I7ceJEeXp6mpINoGyFhYWZ8mE7ICBAL7/8suG5AErPz89PL774ouG5drvdtHMPAABQcuPGjZO3t7e2b9+uf//736XKunDhgp544glJ0lNPPaXatWsbMSIAlAjFHVzekCFDDL9d1eOPP64WLVoYmgnAOB07dtRDDz1k+UwAzjVp0iTDr5B5++23VaVKFUMzARjnmWee0R133GFo5ogRI9SkSRNDMwEAQOnVqFFDr7/+uiTpueee08aNG0uUk5ubqwEDBigxMVF169bVuHHjjBwTAIrN5nA4HM4eAiit5ORkRURE6NSpU6XOat26tTZt2sRVN4DFZWdnq127dtq3b1+ps+rWrau9e/fyZTxQDu3Zs0ft27dXTk5OqbOGDh1a6l/yAjDfb7/9poiICKWkpJQ6q3Pnzlq7di23xwUAwMIGDhyozz77TJ6enpo1a5aGDBlS5HXPnDmjBx54QDt37pSvr6927Nihpk2bmjgtANwYV9yhXAgJCdH69et18803lyqnXbt2WrlyJaUd4AK8vb0VFxenyMjIUuXceuutWr9+PaUdUE41b95cK1asUKVKlUqV889//lMzZswwaCoAZqpdu7bWrVunOnXqlCrn7rvv1tKlSyntAACwuLlz56p///7Ky8vT448/rm7duunAgQPXXSc7O1vvvvuumjRpop07d6pKlSqKi4ujtANgCVxxh3Ll3Llzevjhh7V27dpirWe32zVs2DC999578vDwMGk6AGbIzc3VM888o3nz5qm4h7SePXvqv//9rwICAkyaDoBVJCYmqnfv3vr222+LtZ63t7feeustPfvssyZNBsAsqamp6t+/vzZt2lSs9dzc3PT8889r6tSpcnNzM2k6AABgJIfDoXfeeUevvvqq8vLyJElNmzbVvffeq4YNGyooKEiZmZlKSkrS9u3b9dVXXyk9PV2SdMcdd2jp0qWqV6+eM/8EALiK4g7l0vr16/Xqq69q7969113ObrerW7dumjJlCr+oAVzc/v379corr+jLL7+8YYHXqlUrTZ48WR06dCij6QBYQUFBgRYsWKBJkybpl19+ue6ynp6eGjRokF599VXDn5MHoGzFxcXptdde06FDh667nN1u1/3336/XX39dDRs2LKPpAACAkU6ePKkJEyZo4cKFys/Pv+6yYWFhGj9+vPr37y+7nRvTAbAOijuUaz/++KPi4uJ08OBBJSUlKT09XdWqVVP16tXVunVrRUVFKSQkxNljAjBQUlKS4uPjtWPHDiUnJystLU2VKlVS9erVFRERoejoaH5FB/zNORwO7d+/X/Hx8Tp27JjOnDmj3NxcBQUFqXbt2urYsaO6du0qf39/Z48KwEDfffed1qxZo8OHDyspKUkZGRkKCgpS9erV1a5dO3Xr1k3VqlVz9pgAAMAAFy5c0Pr167Vp0yYlJSUpNTVVFSpUUM2aNdW4cWNFRUXptttuk81mc/aoAPA/KO4AAAAAAAAAAAAAC+AaYAAAAAAAAAAAAMACKO4AAAAAAAAAAAAAC6C4AwAAAAAAAAAAACyA4g4AAAAAAAAAAACwAIo7AAAAAAAAAAAAwAIo7gAAAAAAAAAAAAALoLgDAAAAAAAAAAAALIDiDgAAAAAAAAAAALAAijsAAAAAAAAAAADAAijuAAAAAAAAAAAAAAuguAMAAAAAAAAAAAAsgOIOAAAAAAAAAAAAsACKOwAAAAAAAAAAAMACKO4AAAAAAAAAAAAAC6C4AwAAAAAAAAAAACzA3dkDAGY7ceKE9u/frzNnzigjI0OBgYGqUaOGWrZsqWrVqjl7PAAmSElJ0a5du3T69GmdP39eFStWVI0aNXTnnXcqNDTU2eMBsIjDhw/r6NGjSk1NVVZWlqpXr64aNWqoTZs28vX1dfZ4AEzw008/6eDBg0pOTlZGRoaqVq2qGjVqqFWrVgoMDHT2eAAAwEAZGRn6+uuvdfr0aaWkpMjX11dBQUFq0qSJwsPDnT0eAPwlijuUS5cuXdKMGTO0aNEiHT169E+XsdvtioyM1ODBg/XII4/I3Z3dAXBl+fn5mjdvnubPn699+/bpypUrf7pc06ZN9fDDD+vpp5+Wj49PGU8JwNmSkpL0zjvvKDY2VqdOnfrTZSpUqKAOHTroueee0z333FPGEwIw2sWLFzVt2jQtXrxYiYmJf7qMm5ubWrVqpSeeeEIDBgyQ3c7NaQAAcFWrVq3SrFmztHXrVuXl5f3pMjfddJN69+6tF198UUFBQWU8IQBcn83hcDicPQRgpDlz5mjcuHE6e/Zskddp0KCBZsyYoS5dupg4GQCzrFmzRsOHD9fPP/9c5HWqV6+uqVOn6tFHHzVxMgBWkZ+fr9dee03Tp09XdnZ2kddr166dPvroIzVq1MjE6QCYweFwaObMmZo4caLOnTtX5PXCw8P1wQcfqH379iZOBwAAjHbw4EE99dRT2r17d5HX8fPz06hRozRu3Di5ubmZOB0AFB3FHcqNvLw8PfXUU/r4449LtL6bm5umTp2qF1980eDJAJjF4XBo8uTJGj9+vEp6OHv66af1/vvvy8PDw+DpAFhFWlqaevfura1bt5ZofX9/fy1cuFD33XefwZMBMEt2draGDBmiRYsWlWh9d3d3TZs2TU8//bTBkwEAADPExMRo0KBBysrKKtH6Xbp00eeff67KlSsbPBkAFB/FHcqFgoIC9ejRQ/Hx8aXOGjNmjN544w0DpgJgtpEjR2ratGmlzundu7diYmJks9kMmAqAlVy4cEGRkZF/eXu8orLb7Vq8eLH69u1r0GQAzJKfn6977rlHmzZtKnXW5MmT9corrxgwFQAAMMsnn3yiQYMGlfgHvYWaNm2qhIQE+fn5GTQZAJQMN+5HuTBmzBhDSjtJevPNN7V48WJDsgCYZ968eYaUdpK0bNkyTZo0yZAsANZRUFCgBx98sNSlnSRduXJFgwYN0qFDhwyYDICZRowYYUhpJ0mvvfaaVq1aZUgWAAAw3o4dOzR06NBSl3aSdOTIEQ0cONCQLAAoDa64g8vbtm2b4c+f8PX11U8//aSQkBBDcwEY49dff9Utt9yi3NxcwzJtNpt2796tiIgIwzIBONe0adM0cuRIQzMbNWqkI0eO8PwLwKLWrl2rbt26GZpZuXJlHT9+nFtnAQBgMXl5eWrQoIF++eUXQ3Pnzp2rIUOGGJoJAMXBFXdweWbcuiYzM5PbZQIWNnHiRENLO+mP5+WNGzfO0EwAznPp0iVNnTrV8Nxjx45pwYIFhucCKD2zjuXnz5/X22+/bXguAAAonTlz5hhe2knSpEmTlJOTY3guABQVV9zBpSUkJKhNmzamZHt6eio5OZlf1gIWk5ycrNq1a+vy5cum5O/fv1933HGHKdkAys7MmTP13HPPmZLdoEEDff/996ZkAyi5L7/8Ul27djUl29fXV6mpqfLx8TElHwAAFI/D4VBoaKh+++03U/LnzZunf/7zn6ZkA8CNcMUdXJqZz5vIy8vTunXrTMsHUDLx8fGmlXaStHr1atOyAZQdM88REhMTDXluHgBjmbnfZ2ZmasOGDablAwCA4jl48KBppZ1k7nkFANwIxR1cmtnFGsUdYD1r1641NZ/9HnB9mZmZ2rZtm6nb4L0CsB4+GwAA8Pdh9ncDGzduNPVHwwBwPRR3cGk///yzS+cDKD72ewA3curUKeXn55u6Dd4rAGspKCjQyZMnTd0G+z0AANZh9nE5MzNTKSkppm4DAP4KxR1cVkZGhjIzM03dRnJysqn5AIrP7BPntLQ007/wB2Cusjh+c44AWMvZs2dVUFBg6jbY7wEAsI6yKNXOnDlj+jYA4M9Q3MFl2e3m/+9rs9lM3waA4jF7v7TZbOz7gIsri32Y9wnAWtjvAQD4eymL43JZfPcIAH+Gdx+4LF9fX/n5+Zm6jerVq5uaD6D4QkJCTM2vVq2a3N3dTd0GAHOZ/T4hcY4AWE1ZHL/Z7wEAsA7O+QGUZxR3cGn16tVz6XwAxcd+D+BGatWqJU9PT1O3wXsFYC12u12hoaGmboP9HgAA6zD7uOzn56dq1aqZug0A+CsUd3Bp9957r6n599xzj6n5AIqP/R7Ajfj4+Kh9+/amboP3CsB6OEcAAODvw+zjfufOnbkbDwCnobiDS+vRo4dp2RUqVFDXrl1NywdQMt26dZOHh4dp+Wa+rwAoO2buy40aNVJYWJhp+QBKxsz93s/PTx07djQtHwAAFE+zZs1Mvdqe7wYAOBPFHVxay5Yt1a5dO1Oyn3zySVWqVMmUbAAlFxwcrMcee8yU7HvvvVfNmjUzJRtA2XrsscdMe+7F6NHhUz6xAAAgAElEQVSjTckFUDqdOnXSP/7xD1OyR4wYIR8fH1OyAQBA8dlsNr388sumZIeGhqp///6mZANAUdgcDofD2UMApZGQkKC2bdvKyP+V/f399dNPPykoKMiwTADGOXXqlG655RZlZ2cblmm327Vv3z7dfvvthmUCcK4PPvhAzz77rKGZTZo00aFDh2S38/s3wIq+/PJLw++aUaVKFR0/flwBAQGG5gIAgNLJz8/Xrbfeqp9//tnQ3Pnz55v2g2EAKAq+cYDLa926tcaMGWNYns1m07x58yjtAAurVauWPvroI0MzJ02aRGkHlDPDhg1Tt27dDMvz8/PTwoULKe0AC+vSpYuGDx9uWJ7dbteCBQso7QAAsCAPDw8tXrxYFSpUMCyzd+/eevTRRw3LA4CS4FsHlAuvv/66YfeefuWVV9SnTx9DsgCY59FHH9WoUaMMyerbt6/Gjh1rSBYA67Db7Vq0aJEaNWpU6iw3Nzd98sknatKkiQGTATDTu+++qy5duhiSNXXqVEN/AAAAAIzVvHlzzZ07VzabrdRZt912m/773/8akgUApUFxh3LBbrdr6dKlevLJJ0uc4e7urmnTpun11183cDIAZnr77bf15ptvlurqlxEjRmjhwoWcmAPlVEBAgLZv367OnTuXOKNSpUqKi4tTr169DJwMgFnc3d21evXqUt3iytPTU7Nnz9ZLL71k3GAAAMAUDz/8sGJjY+Xn51fijKioKG3ZskW+vr4GTgYAJeM2YcKECc4eAjCCm5uboqOjVbduXe3evVuXLl0q8rrh4eFavHix+vXrZ+KEAIxms9nUpk0bRUZGat++fUpLSyvyurVr19bs2bM1atQobnsHlHPe3t4aMGCA7Ha79u/fr7y8vCKve/fdd2vFihWKjIw0cUIARnN3d1fPnj1VvXp17dmzR5mZmUVe9/bbb1dMTIx69uxp4oQAAMBIDRs2VPfu3XX06FGdPHmyyOsFBARowoQJ+uCDD+Tt7W3ihABQdDaHw+Fw9hCA0bKysvThhx9q0aJFOnTokP7sf3N3d3e1adNGgwcPvvplHgDXdfnyZX366aeaP3++duzYoYKCgv9Zxmaz6c4779TDDz+soUOHGnoffACuITU1Ve+++65iY2P/8iH2vr6+6ty5s4YPH64OHTqU8YQAjHbp0iXNnDlTn3/+uY4cOfKny3h6eqpdu3Z6/PHH1adPH67EBwDAha1bt04ffPCBNm3apOzs7D9dJiwsTH379tXIkSNVpUqVMp4QAK6P4g7lXlJSkg4cOKAzZ87o/PnzCg4OVkhIiCIjI1WpUiVnjwfABOfOndPu3buVnJys1NRUBQYGKiQkRBEREQoJCXH2eAAs4rvvvtN3332n06dPKzc3V0FBQapTp45atGhBsQ+UUydPntThw4d1+vRppaenKzg4WNWrV1dkZKQqVqzo7PEAAICBsrKytGvXLp06dUqpqany9vZWzZo11bhxY4WFhTl7PAD4SxR3AAAAAAAAAAAAgAVwb0AAAAAAAAAAAADAAijuAAAAAAAAAAAAAAuguAMAAAAAAAAAAAAsgOIOAAAAAAAAAAAAsACKOwAAAAAAAAAAAMACKO4AAAAAAAAAAAAAC6C4AwAAAAAAAAAAACyA4g4AAAAAAAAAAACwAIo7AAAAAAAAAAAAwAIo7gAAAAAAAAAAAAALoLgDAAAAAAAAAAAALIDiDgAAAAAAAAAAALAAijsAAAAAAAAAAADAAijuAAAAAAAAAAAAAAuguAMAAAAAAAAAAAAswN3ZAwBm+vbbb7VmzRrt379fycnJSk9PV2BgoGrUqKE2bdooKipKderUcfaYAAz0yy+/aM2aNdqxY4dOnz6t8+fPKyAgQCEhIYqIiFB0dLQaNmzo7DEBOFFBQYF27dql+Ph4HTt2TKmpqcrMzFRISIhq1qypzp0765577lFgYKCzRwVgoEOHDik+Pl4HDhxQSkqKMjIyVKVKFdWsWVNt27ZVdHS0atSo4ewxAQCAAdLS0vTFF19o8+bNSkpKUkpKivz8/FStWjU1adJE0dHRioiIkN3OdS0ArMfmcDgczh4CMFpcXJzGjRunI0eO3HDZrl27avLkyfrHP/5RBpMBMMvOnTv1yiuvaPPmzTdc9s4779SUKVPUtWvXMpgMgFXk5+dr3rx5mjx5spKSkq67rLu7ux5++GFNmDBBoaGhZTQhAKM5HA4tX75cr732mo4dO3bdZW02m6KiojRlyhQ1bdq0jCYEAABG+umnnzR+/HgtWbJEBQUF1102NDRU48eP1yOPPCI3N7cymhAAboziDuVKWlqa+vXrp40bNxZrPZvNpscff1wzZ86Up6enSdMBMENOTo6GDh2qBQsWFHvdqKgoffrpp6pcubIJkwGwkmPHjqlXr15KTEws1npeXl5644039Pzzz5s0GQCzJCcnq2/fvtq+fbskyc/PT126dNFdd92l2rVry8/PT2fPntWJEye0du1a7dy5UwUFBbLb7Xr22Wf17rvvyt2dm9QAAOAKHA6HpkyZokmTJik/P182m0133nmnoqKiFBYWpqCgIGVnZ+v06dPatm2b1q9fr3PnzkmSmjRpouXLl6t+/fpO/isA4A8Udyg3vv32W3Xv3l0nTpwocUbr1q21fPlyBQUFGTgZALOcOXNGPXr00N69e0ucERYWpri4ODVo0MDAyQBYyRdffKH+/fsrPT29xBmPPvqo5syZww98ABdx4MAB9ejRQ6dOnVJAQIBeeOEFjRgxQv7+/n+5zs8//6zx48dr0aJFunLlijp16qSlS5fyAx8AACwuOztbjz32mGJiYiRJ3bt31+TJk9WkSZO/XCc3N1ezZ8/WlClTlJqaqsqVKysmJkadO3cuq7EB4C9R3KFcOH36tJo3b37D214VRWRkpLZs2SIvLy8DJgNglqysLLVt21YHDhwodVZoaKj27t2ratWqGTAZACvZtWuX7rrrLuXm5pY66/HHH9ecOXMMmAqAmU6ePKmIiAidPXtW4eHhWr16terWrVvk9ePj4zVgwAClp6erY8eOWr9+PVfeAQBgUQ6HQw899JAWL14sLy8vzZ49W48++miR109NTdUDDzygr7/+Wj4+Pvr66691++23mzgxANwYT9+Ey8vLy1OvXr0MKe2kP77gGzZsmCFZAMwzePBgQ0o76Y8v+Hr37n3D+98DcC2nT59Wr169DCntJGnu3LmaNWuWIVkAzJGdna0ePXro7NmzioiI0I4dO4pV2kl/3Eo7ISFBAQEB2rRpk1544QWTpgUAAKX19ttva/HixfL09NTatWuLVdpJUlBQkDZu3KioqChlZWWpZ8+eSktLM2laACgaiju4vLlz52r37t2GZn788cdKSEgwNBOAcTZs2KDPP//c0Mxt27aV6Dl5AKzr1Vdf1ZkzZwzNHDNmjM6ePWtoJgDjzJw5U4cPH1b16tW1YsWK694a83rCw8O1cOFC2e12ffDBBzp06JDBkwIAgNI6deqUJkyYIEmaNWuWOnToUKIcT09PLVq0SA0bNtSvv/6qSZMmGTglABQft8qES8vKylL9+vUN/1JOktq3b68tW7YYngugdBwOhyIjI7Vnzx7Ds0NDQ5WYmMitcoFyIDExUeHh4bp8+bLh2SNHjtR7771neC6A0rl48aLq1aunc+fOaeHChRowYECpMx955BF9+umn6tatm+Lj4w2YEgAAGGXo0KGaM2eOOnXqpA0bNpQ6b+vWrbrrrrvk5eWlxMREhYaGGjAlABQfV9zBpa1evdqU0k7642CdmJhoSjaAkjt06JAppZ30xy0z169fb0o2gLL18ccfm1LaSdL8+fOVn59vSjaAkouNjdW5c+cUHh6ufv36GZI5ceJEubu7a+3atTp16pQhmQAAoPSys7P12WefSZImT55sSGb79u3VpUsX5ebm6pNPPjEkEwBKguIOLi0uLs7U/DVr1piaD6D4zN7v+TU9UD6sXr3atOwLFy7o66+/Ni0fQMkU7vcDBgyQ3W7MR926deuqVatWcjgcfDYAAMBCNmzYoKysLNWrV0+RkZGG5RZesc9xH4AzUdzBpW3fvt3U/G3btpmaD6D42O8B3MjZs2f1/fffm7oN3isA6yk8R7jnnnsMzb333nslsd8DAGAlhcf9wuO0UQrz9u3bp8zMTEOzAaCoKO7gshwOh5KTk03dxunTp03NB1B8SUlJLp0PwHxlcfzmHAGwlpycHJ07d06SVL9+fUOzb775Zkns9wAAWEnhZ3ejj/tBQUHy9/cvk+8dAeCvUNzBZV24cMH058ucPXvW1HwAxZeWlmZqfkZGhnJyckzdBgBzmf0+IUmpqammbwNA0RXu915eXvL39zc0OygoSBKfDQAAsJLCY3/VqlUNzy489nPOD8BZKO7gsvz8/Ax7dsVfCQgIMDUfQPFVrFjR1HwvLy95eXmZug0A5jL6S/s/U6lSJdO3AaDoCvf73Nxcw3+Ac+HCBUl8NgAAwEoKvxtIT083PPvixYuSOPYDcB6KO7gsDw8PBQYGmrqN4OBgU/MBFF9ISIjp+TabzdRtADCX2e8TEucIgNUEBATI29tbkvG3tCy8FRf7PQAA1lF4zm/04y6ys7Ov3n67LD5XAMCfobiDS7vttttMzb/99ttNzQdQfGbv92bnAzBfzZo1Va1aNVO3wTkCYD2F++XmzZsNzd2yZcs1+QAAwPkKP7sbfdzfunWrrly5otDQUNMvGACAv0JxB5cWHR3t0vkAio/9HsCNuLm5qVu3bqble3h4qGvXrqblAyiZwmP4ihUrDMvMzMzU+vXrJUlRUVGG5QIAgNKJioqS3W7Xnj17DL3afuXKlVfzAcBZKO7g0nr16iVPT09TsuvUqaOWLVuakg2g5Dp06GDa7Sp8fHzUvXt3U7IBlK1+/fqZlt21a1eecQdYUO/eveXm5qYvvvhC+/fvNyRz+vTpSk9PV4MGDXTHHXcYkgkAAEovJCRE7du3V0FBgd544w1DMn/99Vd98sknksz9PAEAN0JxB5dWu3ZtPf7446Zkjx8/Xu7u7qZkAyg5Ly8vjR071pTsZ555RkFBQaZkAyhb99xzj1q1amV4rs1m06RJkwzPBVB6YWFhGjhwoBwOh0aOHKnLly+XKu/kyZN65513JEkTJ07kGbgAAFhM4Xn53Llzdfjw4VLnjRo1Sjk5Obr77rvVtm3bUucBQEnZHA6Hw9lDAKVx5swZhYeHX31wrBFuu+027d27l+IOsKjc3Fw1a9ZMiYmJhmUGBwfr2LFj3MMeKEcSEhKu/grXKI8++qj++9//GpYHwFgnT55U06ZNlZ6ermeffVYzZswoUU5WVpZat26tQ4cOqWXLlkpISKC4AwDAgnr16qUVK1YoNDRUe/fuLfGzrt955x299NJL8vT01M6dO7nSHoBTccUdXF716tUVExNjWMlWpUoVLV++nNIOsDAvLy+tXLlSAQEBhuR5enoqNjaW0g4oZ1q3bn31ahkjNGvWTLNmzTIsD4DxQkNDtXDhQtntds2cOVPDhw8v9pV3ycnJ6tKliw4dOqTq1atr6dKllHYAAFjU/Pnzdeutt+rkyZPq0KGDjh8/Xqz1HQ6Hpk6dqtGjR0uSZs6cSWkHwOko7lAudOrUSR999FGpy7aKFSsqNjZWdevWNWgyAGa59dZbFRMTIz8/v1LleHh46D//+Y9at25t0GQArGTkyJF69tlnS51Tr149rVy5Ur6+vgZMBcBM0dHRev/992W32zVjxgx16tRJBw8evOF6DodDMTExioiIUEJCggIDA7VixQrVrFmzDKYGAAAlERAQoFWrVql27do6evSomjdvrv/85z9F+uHODz/8oJ49e2rs2LG6cuWKXnrpJT3xxBNlMDUAXB+3ykS58tVXX6lfv34lum3mLbfcopUrV6phw4YmTAbALN9884169OihEydOFHvdatWqaenSpWrfvr0JkwGwkg8//FAjRoxQfn5+sdft1KmTlixZoipVqpgwGQCzrFmzRg899JDS09Nls9kUHR2tnj17qmPHjqpZs6Y8PDyUlZWlH3/8UevWrdPixYuvPh8nPDxcK1eu1M033+zkvwIAABRFSkqKHnjgASUkJEj649m3Dz30kO699141atRIfn5+unz5spKTk7V9+3atWrVKsbGxunz5sry8vPTRRx9p0KBBTv4rAOAPFHcod5KSkjRx4kTNnz+/SL+u8ff31/PPP68XXnhB/v7+ZTAhAKNduHBB77zzjqZPn67MzMwbLu/p6anHH39c48aNU0hISBlMCMAKDh8+rFdeeUXx8fFFWr5WrVp67bXXNGjQIG6hDbiokydPavz48frss8/+53mXfn5+unTp0jX/VrlyZb344osaPny4fHx8ynJUAABQSvn5+Zo9e7amTJmi5OTka17z8fFRTk6Orly5cvXfbDabevbsqcmTJ6tRo0ZlPS4A/CWKO5Rbx48f19KlS7VmzRrt379fOTk5V1+rWLGi2rRpo+joaPXp00dVq1Z14qQAjJKSkqKlS5cqLi5OO3bsuObLOG9vbzVv3lxRUVHq27evQkNDnTgpAGfat2+fYmNjFR8fr++///6aq/CCg4PVsWNHRUdHq1evXqpQoYITJwVglB9++OHqOcKhQ4eUm5t79bWAgAC1a9fu6meDypUrO3FSAABQWpmZmYqNjdWaNWu0efNmpaWlXX3N09NTjRo1UlRUlPr06aNmzZo5cVIA+HMUd/jbuHDhgs6fP6+goCCeTwP8TWRmZiolJUVVqlRRQECAs8cBYFEpKSnKzc1VcHCwvLy8nD0OgDJw7tw5paenKygoiCvrAAAo53JycpSamqoKFSooKCjI2eMAwA1R3AEAAAAAAAAAAAAWYHf2AAAAAAAAAAAAAAAo7gAAAAAAAAAAAABLoLgDAAAAAAAAAAAALIDiDgAAAAAAAAAAALAAijsAAAAAAAAAAADAAijuAAAAAAAAAAAAAAuguAMAAAAAAAAAAAAsgOIOAAAAAAAAAAAAsACKOwAAAAAAAAAAAMACKO4AAAAAAAAAAAAAC6C4AwAAAAAAAAAAACyA4g4AAAAAAAAAAACwAIo7AAAAAAAAAAAAwAIo7gAAAAAAAAAAAAALoLgDAAAAAAAAAAAALIDiDgAAAAAAAAAAALAAijsAAAAAAAAAAADAAijuAAAAAAAAAAAAAAuguAMAAAAAAAAAAAAsgOIOAAAAAAAAAAAAsACKOwAAAAAAAAAAAMACKO4AAAAAAAAAAAAAC6C4AwAAAAAAAAAAACyA4g4AAAAAAAAAAACwAIo7AAAAAAAAAAAAwAIo7gAAAAAAAAAAAAALoLgDAAAAAAAAAAAALIDiDgAAAAAAAAAAALAAijsAAAAAAAAAAADAAijuAAAAAAAAAAAAAAuguAMAAAAAAAAAAAAsgOIOAAAAAAAAAAAAsACKOwAAAAAAAAAAAMACKO4AAAAAAAAAAAAAC6C4AwAAAAAAAAAAACzA3dkDAAAAAABgluXLl2vPnj3FXi8kJEQjRowwYSIAAOAMhw8f1vLly5Wbm6uePXsqMjLS2SMBwJ+iuAMAAAAAlFvr16/XnDlzir1ekyZNKO4AAHBxubm5Wr16tebMmaMNGzZc/ffQ0FCKOwCWRXFnIfPmzVNaWpokqU+fPqpXr16xMzIzM/XBBx/Iy8uLD5n/R0JCghYvXqytW7cqOTlZeXl5qlWrlho1aqSHHnpIUVFR8vDwcPaYAADAJHFxcTp27Fipc6pWrarBgwcbMBGAsjZmzBgNGTKkyMt7enqaOA0AADDT0aNHNWfOHC1YsEAXLlyQm5uboqKilJaWpt27dzt7PAC4Loo7C3n//fd19OhRSdLevXu1bNmyYmdkZGRo9OjRCggIoLiTlJqaqqFDh2rlypWSpFq1aqlZs2by9/fX2bNn9cUXX2jZsmVq0KCBlixZombNmjl5YgAAYIYlS5Zo4cKFpc4JDw+nuANcVGBgYIl+HAkAAFzH4sWL9dFHH2n79u2SpJo1a+rZZ5/VkCFDVKdOHQ0aNIjiDoDlUdxZVGxsrHbt2sUl26Xw22+/6e6771ZiYqI6dOigN998U82bN79mmezsbC1atEivvPKKIiMjFRcXp86dOztpYgClsWXLFsXFxWnv3r06e/ascnNz5evrq1q1aql169Z68MEHFRYW5uwxATjJ6NGj9dhjj5V4/ZiYGM2dO1fBwcHGDQUAAADAUE8++aQuXbqkzp0764knnlDPnj25yxYAl0NxZ0FdunTRl19+qdGjR2vLli3OHscl5efnq3fv3kpMTNSwYcM0c+ZM2e32/1nO29tbgwcPVpcuXdS5c2c9+OCD2rt3L7/EBVzIN998o0GDBmn//v2SpIoVKyo0NFR+fn66dOmSNmzYoHXr1mn8+PHq16+fZs2apUqVKjl5agBlLTw8XOHh4SVef8yYMZKkRx55xKiRAAAAABhs9OjRGjBggEJDQ509CgCU2P82GXC6ESNGKCQkRFu3br3moakouvfee0979uxR+/bt/7K0+79q166t5cuXKysrS08//XQZTQmgtDZu3KgWLVpo//796t69uxISEnTu3DkdOXJEe/fu1XfffacLFy5o0aJFuuWWW7Ro0SJFREQoJSXF2aMDcCHffPON9u3bp4oVK6p3797OHgcAAADAXxgzZgylHQCXR3FnQb6+vho7dqykPw42DofDyRO5lry8PM2YMUOSNH369BuWdoUaN26soUOHat26ddq7d6+ZIwIwwKlTp/TAAw8oOztbb775platWqVWrVrJzc3tmuV8fX3Vv39/7d+/X1FRUfrpp5/0wAMP8N4KoMj+85//SJL69esnHx8fJ08DAAAAAADKM4o7i3ryySd18803a9++fYqNjXX2OC5l06ZNOn36tCIiItSsWbNirfvEE09IkqZNm2bGaAAMNGnSJF28eFF9+/bVyy+/fMPlfXx89Pnnn6tWrVpKSEjQihUrymBKAK4uLy9PixYtkiT985//dPI0AAAAAACgvKO4sygPDw+NHz9ekvTKK6/o8uXLTp7IdWzfvl2S1L59+2Kv27BhQ1WtWlVr167lvzlgYZcvX9bSpUsl/b/nThWFn5+fnnvuOUnS4sWLTZkNQPmycuVKpaWlqXHjxmrRooWzxwEAAAAAAOUcxZ2FPfTQQ2rWrJl++OEHffLJJ84ex2V8++23kqQGDRoUe12bzaZbb71V58+f144dO4weDYBBjh07pgsXLqhatWrFvrK2S5cukqSdO3eaMRqAcubjjz+WJA0ePNjJkwAAAAAAgL8DijsLs9vtmjRpkiRp/Pjxys7OdvJEruH8+fOSpMqVK5do/cDAQEnSrl27DJsJgLFSUlIkSbVr15bNZivWunXq1LmaceXKFcNnA1B+nDp1Shs2bJCnp6cefvhhZ48DwAB5eXk6dOiQNmzYoGXLlikuLk4JCQlXzy0AAAAAwNncnT0Arq979+5q1aqVduzY8f+1d+/RVs+J/8dfJweJUs0kcs/91krlfstlzCSGYS1Gw7jPyCi3ZTKDfMPQMlhukzHIiAzTGLkluQwazQwjhaQiuY0QFUmSzu8P6/TDEl3OOZ/PPufxWMsfn3X2Z++XZVVOz/PeO4MGDcoZZ5xR9KTSmzt3bpIs81/I1943efLkOtsE1I+amprlumdpox/QtAwePDiff/55DjrooLRr167oOcByuvbaazNgwIDMmTPnG7++xRZb5LDDDsvJJ5+c733vew28DgAA4AtO3FWAgQMHJkkuvvjifPjhhwWvKb/aE3O1J++W1vvvv59EuIMyW2eddZIkb7311lLf++abbyZJ1lprLeEOWKyampoMGTIkibfJhMZi6tSpWX/99dO3b9/cdNNNGTZsWG688cace+652WOPPTJp0qT83//9XzbccMMMHTq06LkAAEAT5cRdBdhtt93So0ePPPDAA7nssssyYMCAoieVWu3b4D3//PNLfe/ChQvz4osvJkneeOONOt0F1J3NNtss7du3zzvvvJPnnnsunTp1WuJ7H3744SRf/N4KsDiPPvpoXnnllay99tqLPhsTqEwtWrRInz59ctJJJ2XzzTdf7OOmTp2aAQMGZMiQITniiCPy6quv5pxzzmnApQAAAMJdxRg4cGAefPDBXH755TnppJPSvn37Bt8wbdq0ZTrdsrTWWWedrL/++st8f/fu3XPjjTfmH//4x1Lf+8wzz2T27NlJko8//niZNwD1q1mzZjnxxBMzYMCADBw4MLfddtsS3ffxxx/nyiuvTFVVVXr37l3PK4FKNnjw4CTJ0UcfnRVWWKHgNcDyuOyyy9Ks2Xe/2UzHjh1z8803Z++9984xxxyT/v37Z4sttsghhxzSACsBAAC+INxViE6dOuXQQw/N7bffnosuuihXXnllg2+4+uqrc/nll9f76/Tr12/R24Mui549e6Zly5aZMGFCRo8evVSnaq699tpUV1dnwYIFi/3sC6Acfv3rX+dvf/tb/vKXv2S77bbLaaed9q2P/+STT/Kzn/0sr7/+evr27Ztdd921gZYClWb27NkZPnx4qqqqcvTRRxc9B1hOSxLtvuznP/953n333Zx55pk544wzsv/++2fllVeup3UAAABfJdxVkPPPPz933nln/vjHP+aUU05Jx44dG/T1DzrooKy77rr1/jrbbbfdct3fpk2bnHzyybn44ovTp0+fPPXUU1lppZW+874xY8ZkyJAh6d27d6655prMmzcvCxcuXOpv9IGG0aJFizzwwAPp0aNHTj/99IwePTpnnXVWunXr9pVft5988knuu+++DBgwIBMmTMiJJ56YK664osDlQNkNHTo0c+fOzZ577pmNN9646DlAAU499dQMHjw4EydOzJ133plevXoVPQkAAGgihLsKsskmm+TYY4/NddddlwEDBuTmmzaxeO4AABWoSURBVG9u0NffbbfdKuYzofr375+RI0fm2WefzWGHHZbbb7/9W39K9rnnnsshhxySDTfcMKeffnquueaaVFdXi3ZQcuuuu26efvrpXHLJJbn44otz1113pXXr1unYsWNatmyZDz74IJMmTcr8+fOz/vrrZ8SIEenRo0fRs4GSq32bzGOPPbbgJUBRqqurc9RRR+Wss87KyJEjhTsAAKDBqBIV5rzzzkuLFi1y6623Zvz48UXPKa3mzZtn+PDh2XLLLTN8+PB07tw5w4YNy9y5c7/yuNdeey39+/fPjjvumGbNmmXkyJFZccUVkyQtW7YsYjqwlMaMGZNhw4bl008/TZLMmjUrU6ZMyUsvvZQpU6Zk/vz5SZLXX389V111VV566aUi5wIl9/zzz+eZZ57J6quvnoMPPrjoOUCB9txzzyTJuHHjCl4CAAA0JcJdhVlrrbXSp0+fLFy4MOedd17Rc0ptvfXWyz//+c8ceeSRmTx5cg499NC0bds2m2++ebp27Zp11103G2ywQS644IJ07tw5jz/+eDbaaKN8+OGHSYQ7qASXXnpp9t1330yYMCF77713/v73v+eDDz7Ihx9+mOnTp+eTTz7J1KlTM2jQoGy88cYZOXJktttuuzz44INFTwdK6oYbbkiSHH744WnRokXBa4Airb322kmS9957r+AlAABAUyLcVaCzzjorbdu2zd13350xY8YUPafU2rRpkyFDhmTcuHE555xzssMOO6SmpiYzZszImmuumV/84hcZNWpUnnzyyUWfYfPBBx8kSVq3bl3kdOA73HDDDTnzzDOzwgor5KabbsrDDz+cn/zkJ2nTps1XHrfhhhumd+/eeeGFF3LiiSdmzpw5OeSQQzJhwoSClgNlNX/+/Nx2221JkuOOO67gNUDRat+J47PPPit4CQAA0JT4jLsK1Lp165xxxhk5++yzc9ZZZ+WJJ55okNe9+eabc/fdd9f76xx88ME54ogj6vQ5t9lmm2yzzTZL9Njp06cnSTbffPM63QDUnXfeeSenn356kuSqq67K0Ucf/Z33rLTSShk0aFBmzpyZO+64IyeddFIef/zxel4KVJK77rorM2bMyNZbb51u3boVPQcoWO1Ju+9///sFLwEAAJoS4a5CnXbaaRk0aFBGjx6dkSNH5kc/+lG9v+YLL7zQIOGu6GA2ceLEJEmnTp0K3QEs3k033ZSPPvooXbp0yS9/+cslvq+qqipXXHFF7r333jzxxBMZN25cOnfuXI9LgUoyePDgJMnxxx9f8BKgDF544YUkSYcOHQpeAgAANCXeKrNCrbLKKvntb3+bJOnXr18WLlxY76/5+9//Pp9//nm9/3PRRRfV+7/Ltxk/fnySLPEJPaDhjRo1KklyzDHHpKqqaqnuXXPNNbPffvt95XkA3nzzzTzyyCNZaaWV0qtXr6LnACUwcuTIJMluu+1W8BIAAKApEe4q2AknnJCNNtoozz33XP76178WPadRmD9/fh5++OG0aNEi3bt3L3oOsBiTJ09Okuy0007LdP8uu+ySJJk0aVKdbQIq2+DBg/P555/noIMOSrt27YqeAxTszTffzO23354ki37gBwAAoCEIdxVsxRVXzIABA5Ik/fv396HpdeCOO+7I7Nmzc+CBB6Zly5ZFzwEW4+OPP06StG/ffpnur71vzpw5dbYJqFw1NTUZMmRIkuTYY48teA1QtIULF+ZXv/pV5s2bl+7du2eHHXYoehIAANCECHcV7vDDD0/nzp0zZcqURZ/LwrL59NNPc+GFFyZJjj766GLHAN+qVatWSbLMbxP8+eefJ0lat25dZ5uAyvXII4/klVdeyTrrrJN99tmn6DlAgRYsWJCTTz4599xzT5o3b55LL7206EkAAEATI9xVuGbNmuWCCy5IkgwYMCBz584teFHlOu+88zJ58uR07949++67b9FzgG+xxhprJEn+97//LdP9b7311leeB2jaan/46ZhjjskKK6xQ8BqgLl144YUZPXp0ampqvvOx//rXv9K9e/dce+21WWGFFXL99dena9euDbASAADg/6suegDLb//990/37t3z2GOP5Zprril6TkW67rrrcskll6R169a58cYbi54DfIeddtop//3vfzN69OjsuOOOS33/448/vuh5gKZt9uzZGT58eKqqqnLUUUcVPQeoY8OHD8+5556b9u3bZ5999snWW2+dDTbYIC1btkxNTU3ef//9TJgwIY8++mieeeaZJF+8pfbQoUOz9957F7weAFgWDz30UH7zm99849emTZuWJBk4cOBi/w7w3nvvzVprrVVf8wC+k3DXSJx//vnZfffdM2jQoKKnlMJTTz2VJ598Mr17907z5s0X+7jZs2fnnHPOyTXXXJO2bdtm1KhR6dixYwMuBZZFz549c/XVV+f666/PaaedlurqJf/jbMqUKXnooYfSqlWr7LbbbvW4EqgEt956az755JPsvffe2WijjYqeA9Sxs88+O/fff3+efPLJDB06dLGPq6qqypZbbpnjjz8+J5xwQlZbbbUGXAkA1KX58+dn5syZ3/i11VdfPauvvnqSLPYxy/qxHAB1papmSd4zhAax9dZbZ8KECXn88cez++67L/X9+++/f+6///4kX/whNGvWrLqeWDFGjRqVH/7wh2nTpk1++tOfZs8998wWW2yRFi1aZO7cuZk0aVIeeeSR3H777Zk5c2Y6d+6cIUOGZJtttil6OrAEampqsu2222b8+PE599xzc/755y/RffPnz88PfvCDPPHEE+nXr18GDhxYz0uBsuvatWvGjh2boUOHplevXkXPAerRjBkz8vLLL2fGjBmZMWNGPv7446y++upp165dunTpknbt2hU9EQAAQLgrk5133jkvvfRS7rvvvuy8885Lff/48eOz1157paamJq1atVp09Lspevvtt3P55ZfnnnvuyeTJkxf7uE6dOuWEE05I7969faYNVJixY8dm1113zbx583LOOefkvPPO+9ZfxzNmzMiRRx6ZkSNHZquttsq///1vP00PTdzEiROzyy67pGXLlnnppZeyyiqrFD0JAAAAaOKEOxq9yZMnZ9KkSXnjjTfy7rvvpk2bNllzzTXTtWvXbLzxxkXPA5bDyJEj06tXr8ycOTObbrppevfunT322CMdO3bMaqutlvfffz8vvvhiRowYkT/96U+ZPXt2OnfunLvuuisbbLBB0fMBAAAAAL5CuAOgor322mu58MILc8stt+TTTz9d7OPat2+fvn375rTTTnOqBgAAAAAoJeEOgEbhww8/zJgxYzJ+/Pi89957mTNnTtq2bZu11lor22+/fbp27Zrq6uqiZwIAAAAALJZwBwAAAAAAACXQrOgBAAAAAAAAgHAHAAAAAAAApSDcAQAAAAAAQAkIdwAAAAAAAFACwh0AAAAAAACUgHAHAAAAAAAAJSDcAQAAAAAAQAkIdwAAAAAAAFACwh0AAAAAAACUgHAHAAAAAAAAJSDcAQAAAAAAQAkIdwAAAAAAAFACwh0AAAAAAACUgHAHAAAAAAAAJSDcAQAAAAAAQAkIdwAAAAAAAFACwh0AAAAAAACUgHAHAAAAAAAAJSDcAQAAAAAAQAkIdwAAAAAAAFACwh0AAAAAAACUgHAHAAAAAAAAJSDcAQAAAAAAQAkIdwAAAAAAAFACwh0AAAAAAACUgHAHAAAAAAAAJSDcAQAAAAAAQAkIdwAAAAAAAFACwh0AAAAAAACUgHAHAAAAAAAAJSDcAQAAAAAAQAkIdwAAAAAAAFACwh0AAAAAAACUgHAHAAAAAAAAJSDcAQAAAAAAQAkIdwAAAAAAAFACwh0AAAAAAACUgHAHAAAAAAAAJSDcAQAAAAAAQAkIdwAAAAAAAFACwh0AAAAAAACUgHAHAAAAAAAAJSDcAQAAAAAAQAkIdwAAAAAAAFACwh0AAAAAAACUgHAHAAAAAAAAJSDcAQAAAAAAQAkIdwAAAAAAAFACwh0AAAAAAACUgHAHAAAAAAAAJSDcAQAAAAAAQAkIdwAAAAAAAFACwh0AAAAAAACUgHAHAAAAAAAAJSDcAQAAAAAAQAkIdwAAAAAAAFACwh0AAAAAAACUgHAHAAAAAAAAJSDcAQAAAAAAQAkIdwAAAAAAAFAC1UUPAIC6NmrUqPznP/9ZdN2lS5f07NmzwEVAJbjlllsybdq0Rdc9evRIt27dihsE1LkhQ4bktddeW3Tds2fPdOnSpcBFAEB9ee6553L33Xcvuu7QoUOOO+64AhcBLBnhDoBGZ8SIEbnyyisXXZ9wwgnCHfCdBg8enMcee2zRddu2bYU7aGRuuOGGjB49etF1u3bthDsAaKSeffbZ9O/ff9F1t27dhDugInirTAAAAAAAACgB4Q4AAAAAAABKQLgDAAAAAACAEhDuAAAAAAAAoASEOwAAAAAAACgB4Q4AAAAAAABKQLijSXj11VeLngAAAAAAsEzefvvtoicADUS4o9EbNmxYNttss/zhD38oegoAAAAAwFIbPHhwDjjggIwbN67oKUA9E+5o1IYNG5ZevXrls88+S58+fcQ7AAAAAKDi9OnTJ2PGjEnXrl2bZMCbNm1apk2bVvQMaBDCHY1WbbRbsGBBkqSmpka8AwAAAAAqTqtWrXLqqadm4cKFue+++5pcwNtmm22y7bbbFj0DGoRwR6P09WhXS7wDAAAAACrRKaeckrZt2yZJkw140BQIdzQ6i4t2tcQ7AAAAAKDS1J66+zIBDxof4Y5G5buiXS3xDgAAAACoNF8+dfdlAh40HsIdjcaSRrtatfFu0KBB9bwMAAAAAGD5fdOpuy8T8KDyCXc0Cksb7WrV1NTk5JNPFu8AAAAAgIqwuFN3XybgQeWqLnoALK9ljXa1auNdkpx00kl1OQ0AAAAAoE7Vnrrr37//dz62NuCNGDEi++23Xy644IJ07ty5AVYuv0svvTRPPfVUkmTevHmpqqrKoYceutjH77rrrunbt29DzYN6I9xR0ZY32tUS7wAAAACASnHKKafkiiuuyAcffLBEj6/EgDd16tQ888wzSb7Yn2TR9TdZe+21G2QX1LeqmpqamqJHwLKoq2j3dZtttpnf5KHCTZkyJW+88cai6w4dOmTzzTcvcBFQCZ599tnMnDlz0fWmm26addZZp8BFQF0bO3ZsZs2ateja//sDQOP19ttvZ+LEiYuuW7Zsme22267ARXVv2rRpmTp16jLd26xZs4oJeMkX//2qq6u/8j0bNFbCHRWpvqIdAAAAAEClqKqqyvL8FX+lBDzhjqakWdEDYGmJdgAAAAAASXX18n0aVu1baHbt2jUHHHBAxo0bV0fLgGXlxB0VZc6cOdlkk00yffr0oqcAAAAAABSqefPmmTdvXp0937rrrpsHHnggW221VZ09Z11w4o6mxIk7Kspqq62WRx99NGuuuWbRUwAAAAAAClVX70q2xhprZODAgZk0aVLpoh00NU7cUZEmTpyYvfbay8k7AAAAAIBltMYaa+T0009P3759s8oqqxQ9Z7GcuKMpEe6oWPUR71ZcccUcfvjhWW+99ersOYGG9/LLL+fNN99cdN2hQ4dsuummBS4CKsH48eO/8k3gpptumg4dOhS4CKhr48aNy6xZsxZd+3UOAI3XO++8k4kTJy66btWqVbp06VLgoro3YsSIjB07dpnurZRgV0u4oykR7qhodRnvVl111YwYMSK77757HSwDAAAAAKgfr7/+ejbZZJPMnz9/qe6rtGBXS7ijKfEZd1S0LbbYok4+8060AwAAAAAqxe9+97ulina1n2E3bdq09OvXr6KiHTQ1TtzRKCzPyTvRDgAAAACoFEtz2q5ST9h9nRN3NCVO3NEoLOvJO9EOAAAAAKgkS3Lazgk7qFxO3NGoLM3JO9EOAAAAAKgk33XarrGcsPs6J+5oSpy4o1FZ0pN3oh0AAAAAUGkWd9rOCTtoPJy4o1H6tpN3oh0AAAAAUGm+6bRdYz1h93WtWrVKVVVVZs+eXfQUqHdO3NEoLe7knWgHAAAAAFSiL5+2a2on7Fq2bJmPPvooCxYsKHoK1Dsn7mjUvnzyTrQDAAAAACpR7Wm71q1bN4kTdl/XqVOnPP/885k+fXrat29f9ByoV07c0ajVnrzbaKONRDsAAAAAoCJdf/31Of/885vMCbuv69atW5Lk4YcfLngJ1D8n7mgSPvvss6y44opFzwAAAAAAWGoLFixIdXV10TMKc9ddd+Xggw9Oly5dMmbMmKy88spFT4J648QdTYJoBwAAAABUqqYc7ZLkwAMPzPbbb5+xY8fm0EMPzaxZs4qeBPXGiTsAAAAAAKDUpk+fnh//+Md5+umn06pVq/Ts2TObbLJJWrRokSTZcsstc8ABBxS8EpafcAcAAAAAAJTeZ599liFDhuTPf/5znnrqqcyfP3/R13r16pWhQ4cWuA7qhnAHAAAAAABUlJqamq+8ZeZKK62UVVddtcBFUDeEOwAAAAAAACiBZkUPAAAAAAAAAIQ7AAAAAAAAKAXhDgAAAAAAAEpAuAMAAAAAAIASEO4AAAAAAACgBIQ7AAAAAAAAKAHhDgAAAAAAAEpAuAMAAAAAAIASEO4AAAAAAACgBIQ7AAAAAAAAKAHhDgAAAAAAAEpAuAMAAAAAAIASEO4AAAAAAACgBIQ7AAAAAAAAKAHhDgAAAAAAAEpAuAMAAAAAAIASEO4AAAAAAACgBIQ7AAAAAAAAKAHhDgAAAAAAAEpAuAMAAAAAAIASEO4AAAAAAACgBIQ7AAAAAAAAKAHhDgAAAAAAAEpAuAMAAAAAAIASEO4AAAAAAACgBIQ7AAAAAAAAKAHhDgAAAAAAAEpAuAMAAAAAAIASEO4AAAAAAACgBIQ7AAAAAAAAKAHhDgAAAAAAAEpAuAMAAAAAAIASEO4AAAAAAACgBIQ7AAAAAAAAKAHhDgAAAAAAAEpAuAMAAAAAAIASEO4AAAAAAACgBIQ7AAAAAAAAKAHhDgAAAAAAAEpAuAMAAAAAAIASEO4AAAAAAACgBIQ7AAAAAAAAKAHhDgAAAAAAAEpAuAMAAAAAAIASEO4AAAAAAACgBIQ7AAAAAAAAKAHhDgAAAAAAAEpAuAMAAAAAAIASEO4AAAAAAACgBIQ7AAAAAAAAKAHhDgAAAAAAAEpAuAMAAAAAAIASEO4AAAAAAACgBIQ7AAAAAAAAKAHhDgAAAAAAAEpAuAMAAAAAAIASEO4AAAAAAACgBIQ7AAAAAAAAKAHhDgAAAAAAAEpAuAMAAAAAAIASEO4AAAAAAACgBIQ7AAAAAAAAKAHhDgAAAAAAAEpAuAMAAAAAAIASEO4AAAAAAACgBIQ7AAAAAAAAKAHhDgAAAAAAAEpAuAMAAAAAAIASEO4AAAAAAACgBP4fHV4a9ZHl29cAAAAASUVORK5CYII="
    }
   },
   "cell_type": "markdown",
   "metadata": {
    "deletable": false,
    "editable": false,
    "nbgrader": {
     "cell_type": "markdown",
     "checksum": "18d0dda505cc0db544f56057f9156e36",
     "grade": false,
     "grade_id": "cell-0bad9f238184bdfb",
     "locked": true,
     "schema_version": 3,
     "solution": false,
     "task": false
    }
   },
   "source": [
    "## Exercice 2: Dégénérescence radio-active (15 points)\n",
    "\n",
    "Dans cet exercice, on utilise une méthode de Monte-Carlo pour simuler la dégénéresce radio-active d'un ensemble d'atomes. La figure suivante résume l'idée de cette simulation\n",
    "\n",
    "![monte_carlo_rad.png](attachment:monte_carlo_rad.png)\n",
    "\n",
    "On démarre à l'instant $t=0$ avec un ensemble de $N$ (ici 9) atomes non dégénérés (points noirs), que l'on représente numériquement par des chiffres 1. On laisse défiler le temps par pas de $\\delta $ et à chaque nouvel instant, on calcule quelle est la nouvelle population d'atomes suivant la loi de transition suivante. Chaque atome possède une probabilité faible $\\lambda \\delta t$ de transiter vers un état dégénéré, et de devenir un 0 (points blancs). Le nombre $\\lambda$ s'appelle le taux de décroissance radio-active et il est directement lié au temps de demi-vie. Ainsi, pour la figure de ci-dessus, on observe une évolution  :\n",
    "\n",
    "$$\n",
    "\\begin{array}{lcl}\n",
    "t= 0 &, & [1, 1, 1, 1, 1, 1, 1, 1, 1]  \\quad \\Rightarrow \\quad \\mbox{N_restant} = 9  \\\\\n",
    "t=dt &, & [1, 0, 1, 1, 1, 1, 1, 1, 1] \\quad \\Rightarrow \\quad \\mbox{N_restant} = 8 \\\\\n",
    "t=2dt&, & [1, 0, 1, 1, 1, 0, 1, 1, 1]\\quad \\Rightarrow \\quad \\mbox{N_restant} = 7 \\\\\n",
    "t=3dt&, & [1, 0, 1, 0, 1, 0, 1, 1, 0] \\quad \\Rightarrow \\quad  \\mbox{N_restant} = 5 \\\\\n",
    "\\ldots \\\\\n",
    "t= \\ldots &, & [0, 0, 0, 0, 0, 0, 0, 1, 0] \\quad \\Rightarrow \\quad  \\mbox{N_restant} = 1 \n",
    "\\end{array}\n",
    "$$\n",
    "\n",
    "dans la simulation numérique. Le but de l'exercice est de faire une fonction qui réalise cette simulation Monte-Carlo. L'algorithme détaillé est écrit ci-dessous :\n",
    "\n",
    "\n",
    "```\n",
    "0. définir N le nombre initial d'atomes, lambda le taux de transition, T la durée de la simulation, dt le pas de temps\n",
    "\n",
    "1. initialiser un vecteur d'état avec N chiffres 1. Ce vecteur contient l'état des N atomes representés par 1 (noir) ou 0 (blanc).\n",
    "\n",
    "2. ajouter la valeur N à une liste N_restant. Ajouter 0 à une liste temps. Ces deux listes contiendront le nombre d'atomes non-dégénérés restants à instant t et la liste des temps. \n",
    "\n",
    "3. pour t de 0 à T par pas de dt\n",
    "    \n",
    "     a. pour atome i = 0 a atome i = N-1 inclus\n",
    "    \n",
    "          i.  on tire un nombre aléatoire r, uniformément distribué entre 0 et 1\n",
    "          ii. si r< lambda*dt  \n",
    "              \n",
    "              l'atome i du vecteur d'état devient 0 (transition)\n",
    "                           \n",
    "     b. on compte le nombre d'atomes non-dégénérés restants, comme la somme \n",
    "        du vecteur d'état. Ajouter ce nombre à la liste N_restant. Ajouter également \n",
    "        l'instant t actuel à la liste temps.    \n",
    "\n",
    "4. retourner les listes N_restants et temps. \n",
    "\n",
    "```\n"
   ]
  },
  {
   "cell_type": "markdown",
   "metadata": {
    "deletable": false,
    "editable": false,
    "nbgrader": {
     "cell_type": "markdown",
     "checksum": "f9684a45af67378a05e65ecb38db1679",
     "grade": false,
     "grade_id": "cell-a4e1f0e63181a98c",
     "locked": true,
     "points": 2,
     "schema_version": 3,
     "solution": false,
     "task": true
    }
   },
   "source": [
    "### a. Fonction qui encode l'algorithme\n",
    "\n",
    "Copier le programme suivant dans la cellule suivante, et le compléter pour pouvoir réaliser la simulation Monte-Carlo. \n",
    "\n",
    "*Rq: à la fin du programme, les tableaux sont convertis sous forme numpy pour pouvoir calculer avec par la suite.*\n"
   ]
  },
  {
   "cell_type": "code",
   "execution_count": null,
   "metadata": {
    "deletable": false,
    "editable": false,
    "nbgrader": {
     "cell_type": "code",
     "checksum": "e83c4a9b8b09b7e65444fffcdd116f37",
     "grade": false,
     "grade_id": "cell-b2404be08108055d",
     "locked": true,
     "schema_version": 3,
     "solution": false,
     "task": false
    }
   },
   "outputs": [],
   "source": [
    "import numpy as np\n",
    "import matplotlib.pyplot as plt\n",
    "\n",
    "def degen(N, lam, T, dt):\n",
    "  \n",
    "    #1. initialiser le vecteur d'état\n",
    "    etat = ...\n",
    "\n",
    "    #2. ajouter la valeur N à un tableau N_restant \n",
    "    N_restant = []\n",
    "    N_restant.append(N)\n",
    "    temps = []\n",
    "    temps.append(0)\n",
    "\n",
    "    #3. boucle \n",
    "    for ...\n",
    "\n",
    "        #a. boucle\n",
    "        for ...\n",
    "            #i. tirer nombre aleatoire\n",
    "            ...\n",
    "            #ii. test\n",
    "            if ...\n",
    "            \n",
    "        \n",
    "        #b. ajouter le nombre d'atomes restant, le temps \n",
    "        N_restant.append(...)\n",
    "        temps.append(...)\n",
    "    \n",
    "    #4. retourner N_restant en fonction du temps, converti en tableau numpy\n",
    "    temps = np.array(temps)\n",
    "    N_restant = np.array(N_restant)\n",
    "    return temps, N_restant"
   ]
  },
  {
   "cell_type": "code",
   "execution_count": 81,
   "metadata": {
    "deletable": false,
    "nbgrader": {
     "cell_type": "code",
     "checksum": "1b5a40575192d0d94c10f2d3e138e668",
     "grade": false,
     "grade_id": "cell-aec16fa2b45e02e5",
     "locked": false,
     "schema_version": 3,
     "solution": true,
     "task": false
    }
   },
   "outputs": [],
   "source": [
    "import numpy as np\n",
    "import matplotlib.pyplot as plt\n",
    "\n",
    "def degen(N, lam, T, dt):\n",
    "  \n",
    "    #1. initialiser le vecteur d'état\n",
    "    etat = np.ones(N)\n",
    "\n",
    "    #2. ajouter la valeur N à un tableau N_restant \n",
    "    N_restant = []\n",
    "    N_restant.append(N)\n",
    "    temps = []\n",
    "    temps.append(0)\n",
    "\n",
    "    #3. boucle \n",
    "    for t in np.arange(0,T,dt):\n",
    "\n",
    "        #a. boucle\n",
    "        for i in range(N):\n",
    "            #i. tirer nombre aleatoire\n",
    "            r = np.random.uniform(0,1)\n",
    "            #ii. test\n",
    "            if r < lam*dt:\n",
    "                etat[i]=0\n",
    "            \n",
    "        \n",
    "        #b. ajouter le nombre d'atomes restant, le temps \n",
    "        N_restant.append(np.sum(etat))\n",
    "        temps.append(t)\n",
    "    \n",
    "    #4. retourner N_restant en fonction du temps, converti en tableau numpy\n",
    "    temps = np.array(temps)\n",
    "    N_restant = np.array(N_restant)\n",
    "    return temps, N_restant"
   ]
  },
  {
   "cell_type": "code",
   "execution_count": 89,
   "metadata": {
    "deletable": false,
    "editable": false,
    "nbgrader": {
     "cell_type": "code",
     "checksum": "364ae96bdaf289c173bd328775fda0e7",
     "grade": true,
     "grade_id": "cell-c75f90fe0c786a82",
     "locked": true,
     "points": 4,
     "schema_version": 3,
     "solution": false,
     "task": false
    }
   },
   "outputs": [
    {
     "name": "stdout",
     "output_type": "stream",
     "text": [
      "(array([0. , 0. , 0.5, 1. , 1.5, 2. , 2.5, 3. , 3.5, 4. , 4.5, 5. , 5.5,\n",
      "       6. , 6.5, 7. , 7.5, 8. , 8.5, 9. , 9.5]), array([200., 200., 200., 200., 200., 200., 200., 200., 200., 200., 200.,\n",
      "       200., 200., 200., 200., 200., 200., 200., 200., 200., 200.]))\n"
     ]
    }
   ],
   "source": [
    "assert 'degen' in globals()\n",
    "print(degen(200, 0, 10, 0.5))\n"
   ]
  },
  {
   "cell_type": "markdown",
   "metadata": {
    "deletable": false,
    "editable": false,
    "nbgrader": {
     "cell_type": "markdown",
     "checksum": "4e47996a8931e0a1cf37b5031d59cea1",
     "grade": false,
     "grade_id": "cell-5b8ad00cdafe0d37",
     "locked": true,
     "points": 3,
     "schema_version": 3,
     "solution": false,
     "task": true
    }
   },
   "source": [
    "### b. Lancer la simulation et visualisation du résultat\n",
    "\n",
    "Dans la cellule suivante, exécuter la fonction `degen` pour le jeu de paramètres\n",
    "\n",
    "$$\n",
    "N = 100, \\quad \\lambda=0.01, \\quad T=1000, \\quad dt = 0.1\n",
    "$$\n",
    "\n",
    "Faire un graphique représentant `N_restant` en fonction du temps, et superposer sur le même graphe, la loi théorique :\n",
    "$$\n",
    "N_{restants} = N e^{-\\lambda t} \n",
    "$$\n"
   ]
  },
  {
   "cell_type": "code",
   "execution_count": 104,
   "metadata": {
    "deletable": false,
    "nbgrader": {
     "cell_type": "code",
     "checksum": "e06325891d392178f1869f81cf5f9bcc",
     "grade": false,
     "grade_id": "cell-c0fb1337f6ad79ee",
     "locked": false,
     "schema_version": 3,
     "solution": true,
     "task": false
    }
   },
   "outputs": [
    {
     "data": {
      "image/png": "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\n",
      "text/plain": [
       "<Figure size 432x288 with 1 Axes>"
      ]
     },
     "metadata": {
      "needs_background": "light"
     },
     "output_type": "display_data"
    }
   ],
   "source": [
    "temps, N_restant = degen(100,0.01,1000,0.1)\n",
    "t_ran = np.arange(0,1000.1,0.1)\n",
    "plt.plot(t_ran,N_restant, label = \"Graphe avec le jeu de paramètres\")\n",
    "plt.plot(t_ran, 100*np.exp(-0.01*t_ran), label =\"Graphe de la loi théorique\")\n",
    "plt.xlabel(\"Temps\")\n",
    "plt.ylabel(\"Nombre d'atomes non dégénérés restants\")\n",
    "plt.legend()\n",
    "plt.show()"
   ]
  },
  {
   "cell_type": "markdown",
   "metadata": {
    "deletable": false,
    "editable": false,
    "nbgrader": {
     "cell_type": "markdown",
     "checksum": "f1939700094afdda7c53aed3a999944b",
     "grade": false,
     "grade_id": "cell-98c2d4636ff1682c",
     "locked": true,
     "schema_version": 3,
     "solution": false,
     "task": false
    }
   },
   "source": [
    "### c. Ajustement des données\n",
    "\n",
    "Dans cette section, on ajuste une exponentielle $N \\exp (- \\lambda t)$ à des données issues de la précédente simulation Monte-Carlo. Si vous n'avez pas réussi la partie précédente, vous pouvez charger les données issues d'une simulation que nous avons faite à l'aide des instructions suivantes à recopier dans une nouvelle cellule :\n",
    "\n",
    "```\n",
    "ob=open('data_MC.csv','r')\n",
    "q=np.loadtxt(ob)\n",
    "temps=q[:,0]\n",
    "N_restant=q[:,1]\n",
    "```\n",
    "1. Dans la cellule suivante, programmer une fonction ```loi_exp(t,N,lam)``` qui retourne la valeur $N \\exp (-\\lambda t)$.\n"
   ]
  },
  {
   "cell_type": "code",
   "execution_count": 106,
   "metadata": {
    "deletable": false,
    "nbgrader": {
     "cell_type": "code",
     "checksum": "10b0e5320a84470eda30e6584d76852f",
     "grade": false,
     "grade_id": "cell-c3a2baa51f1cb302",
     "locked": false,
     "schema_version": 3,
     "solution": true,
     "task": false
    }
   },
   "outputs": [],
   "source": [
    "def loi_exp(t,N,lam):\n",
    "    return N*np.exp(-lam*t)"
   ]
  },
  {
   "cell_type": "code",
   "execution_count": 107,
   "metadata": {
    "deletable": false,
    "editable": false,
    "nbgrader": {
     "cell_type": "code",
     "checksum": "d7f73877fc28c9714d189cf9ff9b55cf",
     "grade": true,
     "grade_id": "cell-9357e53274d8e675",
     "locked": true,
     "points": 1,
     "schema_version": 3,
     "solution": false,
     "task": false
    }
   },
   "outputs": [],
   "source": [
    "assert 'loi_exp' in globals()\n"
   ]
  },
  {
   "cell_type": "markdown",
   "metadata": {
    "deletable": false,
    "editable": false,
    "nbgrader": {
     "cell_type": "markdown",
     "checksum": "8138a424b22d1a6b0643eb2a4b99306f",
     "grade": false,
     "grade_id": "cell-aa7bad9fe13f5b82",
     "locked": true,
     "points": 3,
     "schema_version": 3,
     "solution": false,
     "task": true
    }
   },
   "source": [
    "2. Ajuster cette fonction sur les données issues de la simulation monte-carlo à l'aide de la méthode [`curve_fit`](https://docs.scipy.org/doc/scipy/reference/generated/scipy.optimize.curve_fit.html) vues dans le TD7. Comme estimation initiale des paramètres on utilise $N=100$ et $\\lambda=0.01$ qui sont les valeurs utilisées lors de la simulation de Monte-Carlo. Est-ce que le fit trouve des valeurs de $N$ et $\\lambda$ proches? \n"
   ]
  },
  {
   "cell_type": "code",
   "execution_count": 292,
   "metadata": {
    "deletable": false,
    "nbgrader": {
     "cell_type": "code",
     "checksum": "5743b1ad03baea020a1228888ea788d9",
     "grade": false,
     "grade_id": "cell-1c948a12b9bb26ae",
     "locked": false,
     "schema_version": 3,
     "solution": true,
     "task": false
    }
   },
   "outputs": [
    {
     "name": "stdout",
     "output_type": "stream",
     "text": [
      "Apres ajustement avec curve_fit, on obtient pour N une valeur de 102.6994 et pour lambda : 0.0104. Les valeurs    sont effectivement proches. \n"
     ]
    },
    {
     "name": "stderr",
     "output_type": "stream",
     "text": [
      "/public/methnum/miniconda3/envs/methnum/lib/python3.7/site-packages/ipykernel_launcher.py:2: RuntimeWarning: overflow encountered in exp\n",
      "  \n",
      "/public/methnum/miniconda3/envs/methnum/lib/python3.7/site-packages/ipykernel_launcher.py:2: RuntimeWarning: overflow encountered in multiply\n",
      "  \n"
     ]
    }
   ],
   "source": [
    "from scipy.optimize import curve_fit\n",
    "\n",
    "popt, pcov = curve_fit(loi_exp, temps, N_restant)\n",
    "print(\"Apres ajustement avec curve_fit, on obtient pour N une valeur de %s et pour lambda : \\\n",
    "%s. Les valeurs    sont effectivement proches. \"%(round(popt[0],4), round(popt[1],4)))"
   ]
  },
  {
   "cell_type": "markdown",
   "metadata": {
    "deletable": false,
    "editable": false,
    "nbgrader": {
     "cell_type": "markdown",
     "checksum": "d6f52019124eb59a5b10e2af751d4a5b",
     "grade": false,
     "grade_id": "cell-0c0fded4934b7e21",
     "locked": true,
     "points": 2,
     "schema_version": 3,
     "solution": false,
     "task": true
    }
   },
   "source": [
    "3. Afficher le fit ensemble avec les données Monte-Carlo.\n"
   ]
  },
  {
   "cell_type": "code",
   "execution_count": 291,
   "metadata": {
    "deletable": false,
    "nbgrader": {
     "cell_type": "code",
     "checksum": "c19387dba9dceaef21758526c5115cf4",
     "grade": false,
     "grade_id": "cell-349b6df008e3bbfc",
     "locked": false,
     "schema_version": 3,
     "solution": true,
     "task": false
    }
   },
   "outputs": [
    {
     "data": {
      "image/png": "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\n",
      "text/plain": [
       "<Figure size 432x288 with 1 Axes>"
      ]
     },
     "metadata": {
      "needs_background": "light"
     },
     "output_type": "display_data"
    }
   ],
   "source": [
    "plt.plot(t_ran, N_restant, label = \"Graphe des données Monte-Carlo\")\n",
    "plt.plot(t_ran, loi_exp(t_ran, popt[0], popt[1]), label = \"Graphe du fit\")\n",
    "plt.ylabel(\"Nombre d'atomes non dégénéré restant\")\n",
    "plt.xlabel(\"Temps\")\n",
    "plt.legend()\n",
    "plt.show()"
   ]
  },
  {
   "cell_type": "markdown",
   "metadata": {
    "deletable": false,
    "editable": false,
    "nbgrader": {
     "cell_type": "markdown",
     "checksum": "03a4ee0cfc4b35df92632d3744eab7e6",
     "grade": false,
     "grade_id": "cell-90fa1679afa57ddb",
     "locked": true,
     "schema_version": 3,
     "solution": false,
     "task": false
    }
   },
   "source": [
    "# Exercice 3 :  intégration numérique (8 points)\n",
    "\n",
    "On cherche à calculer la fonction primitive définie par l'intégrale :\n",
    "\n",
    "$$\n",
    "F (x) = \\int_0^x \\frac{\\mathrm{d} {x}'}{a {x'}^3 + b x' + c}  \n",
    "$$\n",
    "\n",
    "sur l'intervalle $x \\in [0,1]$. Ici  $a$, $b$ et $c$ sont trois paramètres réels. On utilisera la méthode des trapèzes pour évaluer cette intégrale. Cette méthode nécessite d'introduire un maillage $ x_i = i / N  \\quad, \\quad i=0,\\ldots,N $ avec $N$ suffisamment grand pour avoir une précision adéquate. On note $f(x_i) = f_i$ et $F (x_i) = F_i$. \n",
    "\n",
    "1. Faire une fonction ```prim_cal``` qui, à la réception de $a,b,c,N$ retourne trois tableaux :\n",
    "\n",
    "- le maillage ```x_tab``` de longueur N+1\n",
    "\n",
    "$$\n",
    "x_{tab}=[x_0,x_1,\\ldots, x_N]\n",
    "$$\n",
    "\n",
    "- l'intégrande ```f_tab```  de longueur N+1\n",
    "\n",
    "$$\n",
    "f_{tab}=[f_0,f_1,\\ldots, f_N]\n",
    "$$\n",
    "\n",
    "- et la fonction primitive ```F_tab``` de longueur N+1\n",
    "\n",
    "$$\n",
    "F_{tab}=[F_0,F_1,\\ldots, F_N]\n",
    "$$\n",
    "\n",
    "Par définition $F_0=0$. Pour calculer les éléments suivant, utiliser la formule des trapèzes vue en séance 8 :\n",
    "\n",
    "$$\n",
    "F_i = ...  (\\mbox{formule avec les variables    } x_{i-1},x_{i},f_{i-1},f_{i})\n",
    "$$\n",
    "\n",
    "pour $i=1,2,...,N$. \n"
   ]
  },
  {
   "cell_type": "code",
   "execution_count": 290,
   "metadata": {
    "deletable": false,
    "nbgrader": {
     "cell_type": "code",
     "checksum": "a19a9270a6e4749a28184aeb898402f8",
     "grade": false,
     "grade_id": "cell-7a1786e3929b64d6",
     "locked": false,
     "schema_version": 3,
     "solution": true,
     "task": false
    }
   },
   "outputs": [],
   "source": [
    "from scipy import integrate\n",
    "def prim_cal(a, b, c, N):\n",
    "    x_tab = np.linspace(0,1,N+1)\n",
    "    f_tab  = [(1/((a*x**3)+(b*x)+c)) for x in x_tab]\n",
    "    F_tab = integrate.cumtrapz(f_tab)\n",
    "    F_tab[0] = 0\n",
    "    return x_tab, f_tab, F_tab\n",
    "        \n",
    "        \n",
    "    \n"
   ]
  },
  {
   "cell_type": "code",
   "execution_count": 289,
   "metadata": {
    "deletable": false,
    "editable": false,
    "nbgrader": {
     "cell_type": "code",
     "checksum": "3bb5541353c2932304f87c956479edfb",
     "grade": true,
     "grade_id": "cell-287576aa2d7d0ed3",
     "locked": true,
     "points": 3,
     "schema_version": 3,
     "solution": false,
     "task": false
    }
   },
   "outputs": [
    {
     "ename": "AssertionError",
     "evalue": "",
     "output_type": "error",
     "traceback": [
      "\u001b[0;31m---------------------------------------------------------------------------\u001b[0m",
      "\u001b[0;31mAssertionError\u001b[0m                            Traceback (most recent call last)",
      "\u001b[0;32m<ipython-input-289-db02a6eca49f>\u001b[0m in \u001b[0;36m<module>\u001b[0;34m\u001b[0m\n\u001b[1;32m      5\u001b[0m \u001b[0;32massert\u001b[0m \u001b[0mlen\u001b[0m\u001b[0;34m(\u001b[0m\u001b[0mx\u001b[0m\u001b[0;34m)\u001b[0m \u001b[0;34m==\u001b[0m \u001b[0mN\u001b[0m\u001b[0;34m+\u001b[0m\u001b[0;36m1\u001b[0m\u001b[0;34m\u001b[0m\u001b[0;34m\u001b[0m\u001b[0m\n\u001b[1;32m      6\u001b[0m \u001b[0;32massert\u001b[0m \u001b[0mlen\u001b[0m\u001b[0;34m(\u001b[0m\u001b[0mf\u001b[0m\u001b[0;34m)\u001b[0m \u001b[0;34m==\u001b[0m \u001b[0mN\u001b[0m\u001b[0;34m+\u001b[0m\u001b[0;36m1\u001b[0m\u001b[0;34m\u001b[0m\u001b[0;34m\u001b[0m\u001b[0m\n\u001b[0;32m----> 7\u001b[0;31m \u001b[0;32massert\u001b[0m \u001b[0mlen\u001b[0m\u001b[0;34m(\u001b[0m\u001b[0mF\u001b[0m\u001b[0;34m)\u001b[0m \u001b[0;34m==\u001b[0m \u001b[0mN\u001b[0m\u001b[0;34m+\u001b[0m\u001b[0;36m1\u001b[0m\u001b[0;34m\u001b[0m\u001b[0;34m\u001b[0m\u001b[0m\n\u001b[0m\u001b[1;32m      8\u001b[0m \u001b[0;32massert\u001b[0m \u001b[0mF\u001b[0m\u001b[0;34m[\u001b[0m\u001b[0;36m0\u001b[0m\u001b[0;34m]\u001b[0m \u001b[0;34m==\u001b[0m \u001b[0;36m0\u001b[0m\u001b[0;34m\u001b[0m\u001b[0;34m\u001b[0m\u001b[0m\n",
      "\u001b[0;31mAssertionError\u001b[0m: "
     ]
    }
   ],
   "source": [
    "assert 'prim_cal' in globals()\n",
    "\n",
    "N = 100\n",
    "x, f, F = prim_cal(1, 1, 1, N)\n",
    "assert len(x) == N+1\n",
    "assert len(f) == N+1\n",
    "assert len(F) == N+1\n",
    "assert F[0] == 0"
   ]
  },
  {
   "cell_type": "code",
   "execution_count": 288,
   "metadata": {
    "deletable": false,
    "editable": false,
    "nbgrader": {
     "cell_type": "code",
     "checksum": "5a08167bde918db04b9c0c8d18dc7e9d",
     "grade": true,
     "grade_id": "cell-76980aef2cc2dec7",
     "locked": true,
     "points": 3,
     "schema_version": 3,
     "solution": false,
     "task": false
    }
   },
   "outputs": [],
   "source": [
    "assert 'prim_cal' in globals()\n"
   ]
  },
  {
   "cell_type": "markdown",
   "metadata": {
    "deletable": false,
    "editable": false,
    "nbgrader": {
     "cell_type": "markdown",
     "checksum": "e62d73a417e3eea4ab4495fee8bedfe0",
     "grade": false,
     "grade_id": "cell-97e7f8178e8b8660",
     "locked": true,
     "points": 2,
     "schema_version": 3,
     "solution": false,
     "task": true
    }
   },
   "source": [
    "2. Représenter `f_tab` et `F_tab`en fonction de `x_tab`.\n"
   ]
  },
  {
   "cell_type": "code",
   "execution_count": 293,
   "metadata": {
    "deletable": false,
    "nbgrader": {
     "cell_type": "code",
     "checksum": "cc966cd65056b01481b4102a4fef9575",
     "grade": false,
     "grade_id": "cell-746731d1560afdf1",
     "locked": false,
     "schema_version": 3,
     "solution": true,
     "task": false
    }
   },
   "outputs": [
    {
     "data": {
      "image/png": "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\n",
      "text/plain": [
       "<Figure size 432x288 with 1 Axes>"
      ]
     },
     "metadata": {
      "needs_background": "light"
     },
     "output_type": "display_data"
    }
   ],
   "source": [
    "x_tab, f_tab, F_tab = prim_cal(1,1,1,100)\n",
    "plt.plot(x_tab, f_tab, label =\"f_tab(x)\")\n",
    "plt.plot(x_tab[:-1], F_tab, label = \"F_tab(x)\")\n",
    "plt.title(\"La fonction f_tab et sa primitive F_tab en fonction de x\")\n",
    "plt.legend()\n",
    "plt.show()"
   ]
  },
  {
   "cell_type": "markdown",
   "metadata": {
    "deletable": false,
    "editable": false,
    "nbgrader": {
     "cell_type": "markdown",
     "checksum": "ae6c7e6d087e861f2cc0e194b3c62339",
     "grade": false,
     "grade_id": "cell-a07d2225738f2b5b",
     "locked": true,
     "points": 3,
     "schema_version": 3,
     "solution": false,
     "task": true
    }
   },
   "source": [
    "## Qualité du code (3 points)\n",
    "\n",
    "- Le code est-il bien commenté ? \n",
    "- Les variables ont des noms explicites et clairs ? \n",
    "- J'utilise `numpy` plutôt que des listes lorsque je fais du calcul sur un vecteur ?"
   ]
  }
 ],
 "metadata": {
  "kernelspec": {
   "display_name": "Python 3",
   "language": "python",
   "name": "python3"
  },
  "language_info": {
   "codemirror_mode": {
    "name": "ipython",
    "version": 3
   },
   "file_extension": ".py",
   "mimetype": "text/x-python",
   "name": "python",
   "nbconvert_exporter": "python",
   "pygments_lexer": "ipython3",
   "version": "3.7.10"
  }
 },
 "nbformat": 4,
 "nbformat_minor": 2
}
